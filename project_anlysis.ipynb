{
 "cells": [
  {
   "cell_type": "markdown",
   "metadata": {},
   "source": [
    "# 데이터분석 test notebook"
   ]
  },
  {
   "cell_type": "code",
   "execution_count": 84,
   "metadata": {},
   "outputs": [],
   "source": [
    "# !pip install seaborn\n",
    "# !pip install tqdm\n",
    "# !pip install -U scikit-learn\n",
    "# !pip install emoji\n",
    "# !pip install pyarrow\n",
    "# !pip install fastparquet"
   ]
  },
  {
   "cell_type": "code",
   "execution_count": 85,
   "metadata": {},
   "outputs": [
    {
     "name": "stderr",
     "output_type": "stream",
     "text": [
      "[nltk_data] Downloading package punkt to\n",
      "[nltk_data]     C:\\Users\\user\\AppData\\Roaming\\nltk_data...\n",
      "[nltk_data]   Package punkt is already up-to-date!\n",
      "[nltk_data] Downloading package stopwords to\n",
      "[nltk_data]     C:\\Users\\user\\AppData\\Roaming\\nltk_data...\n",
      "[nltk_data]   Package stopwords is already up-to-date!\n",
      "[nltk_data] Downloading package wordnet to\n",
      "[nltk_data]     C:\\Users\\user\\AppData\\Roaming\\nltk_data...\n",
      "[nltk_data]   Package wordnet is already up-to-date!\n"
     ]
    },
    {
     "data": {
      "text/plain": [
       "True"
      ]
     },
     "execution_count": 85,
     "metadata": {},
     "output_type": "execute_result"
    }
   ],
   "source": [
    "import pandas as pd\n",
    "import numpy as np\n",
    "import matplotlib.pyplot as plt\n",
    "import seaborn as sns\n",
    "import re\n",
    "import tqdm\n",
    "import nltk\n",
    "from nltk.corpus import stopwords\n",
    "from nltk.stem import WordNetLemmatizer\n",
    "from sklearn.feature_extraction.text import CountVectorizer\n",
    "from emoji import core\n",
    "\n",
    "nltk.download('punkt')\n",
    "nltk.download('stopwords')\n",
    "nltk.download('wordnet')"
   ]
  },
  {
   "cell_type": "code",
   "execution_count": null,
   "metadata": {},
   "outputs": [],
   "source": [
    "firedragonyes = ['같다', '없다', '이렇다', '다르다', '어떻다', '높다', '길다' ,'크다','있다','없다다','빨갛다','붉다','죠다']"
   ]
  },
  {
   "cell_type": "code",
   "execution_count": 86,
   "metadata": {},
   "outputs": [
    {
     "data": {
      "text/html": [
       "<div>\n",
       "<style scoped>\n",
       "    .dataframe tbody tr th:only-of-type {\n",
       "        vertical-align: middle;\n",
       "    }\n",
       "\n",
       "    .dataframe tbody tr th {\n",
       "        vertical-align: top;\n",
       "    }\n",
       "\n",
       "    .dataframe thead th {\n",
       "        text-align: right;\n",
       "    }\n",
       "</style>\n",
       "<table border=\"1\" class=\"dataframe\">\n",
       "  <thead>\n",
       "    <tr style=\"text-align: right;\">\n",
       "      <th></th>\n",
       "      <th>Unnamed: 0</th>\n",
       "      <th>Title</th>\n",
       "      <th>contents</th>\n",
       "    </tr>\n",
       "  </thead>\n",
       "  <tbody>\n",
       "    <tr>\n",
       "      <th>0</th>\n",
       "      <td>0</td>\n",
       "      <td>밀크T 패드 갤럭시탭 A6 (배터리 교체) : 네이버 블로그</td>\n",
       "      <td>3학년 때부터 밀크T 수업을 시작했고 2년 약정으로 시작해서, 또 연장함.\\n연장해...</td>\n",
       "    </tr>\n",
       "    <tr>\n",
       "      <th>1</th>\n",
       "      <td>1</td>\n",
       "      <td>밀크티추천인 혜택 / 유아학습지 밀크T로 한글.. : 네이버블로그</td>\n",
       "      <td>밀크티패드를 시작한지 2개월을 채워가는 중이네요 ~!\\n작년 12월 말, 급한 마음...</td>\n",
       "    </tr>\n",
       "    <tr>\n",
       "      <th>2</th>\n",
       "      <td>2</td>\n",
       "      <td>밀크티 학습지 2년 사용 후기, 초등밀크T 친.. : 네이버블로그</td>\n",
       "      <td>밀크T 친구 추천 이벤트!\\n밀크티 학습지 남매 2년 사용, 연장 후기!\\n*3월9...</td>\n",
       "    </tr>\n",
       "    <tr>\n",
       "      <th>3</th>\n",
       "      <td>3</td>\n",
       "      <td>천재교육 밀크티 초등 가격 추천인 이달의 프로.. : 네이버블로그</td>\n",
       "      <td>새학기 되면서 아이들 학원 스케줄 짜느라 분주한 분들 많으시죠. 저는 올해 중학생이...</td>\n",
       "    </tr>\n",
       "    <tr>\n",
       "      <th>4</th>\n",
       "      <td>4</td>\n",
       "      <td>중학교인강 정착지 밀크T 한 가지로 멀티학습 : 네이버 블로그</td>\n",
       "      <td>연두는 현재 6학년으로 예비중등입니다. 저학년 때부터 밀크티에 정착했는데요-\\n영어...</td>\n",
       "    </tr>\n",
       "    <tr>\n",
       "      <th>...</th>\n",
       "      <td>...</td>\n",
       "      <td>...</td>\n",
       "      <td>...</td>\n",
       "    </tr>\n",
       "    <tr>\n",
       "      <th>946</th>\n",
       "      <td>946</td>\n",
       "      <td>Error</td>\n",
       "      <td>Error</td>\n",
       "    </tr>\n",
       "    <tr>\n",
       "      <th>947</th>\n",
       "      <td>947</td>\n",
       "      <td>Error</td>\n",
       "      <td>Error</td>\n",
       "    </tr>\n",
       "    <tr>\n",
       "      <th>948</th>\n",
       "      <td>948</td>\n",
       "      <td>Error</td>\n",
       "      <td>Error</td>\n",
       "    </tr>\n",
       "    <tr>\n",
       "      <th>949</th>\n",
       "      <td>949</td>\n",
       "      <td>Error</td>\n",
       "      <td>Error</td>\n",
       "    </tr>\n",
       "    <tr>\n",
       "      <th>950</th>\n",
       "      <td>950</td>\n",
       "      <td>Error</td>\n",
       "      <td>Error</td>\n",
       "    </tr>\n",
       "  </tbody>\n",
       "</table>\n",
       "<p>951 rows × 3 columns</p>\n",
       "</div>"
      ],
      "text/plain": [
       "     Unnamed: 0                                 Title  \\\n",
       "0             0     밀크T 패드 갤럭시탭 A6 (배터리 교체) : 네이버 블로그   \n",
       "1             1  밀크티추천인 혜택 / 유아학습지 밀크T로 한글.. : 네이버블로그   \n",
       "2             2  밀크티 학습지 2년 사용 후기, 초등밀크T 친.. : 네이버블로그   \n",
       "3             3  천재교육 밀크티 초등 가격 추천인 이달의 프로.. : 네이버블로그   \n",
       "4             4    중학교인강 정착지 밀크T 한 가지로 멀티학습 : 네이버 블로그   \n",
       "..          ...                                   ...   \n",
       "946         946                                 Error   \n",
       "947         947                                 Error   \n",
       "948         948                                 Error   \n",
       "949         949                                 Error   \n",
       "950         950                                 Error   \n",
       "\n",
       "                                              contents  \n",
       "0    3학년 때부터 밀크T 수업을 시작했고 2년 약정으로 시작해서, 또 연장함.\\n연장해...  \n",
       "1    밀크티패드를 시작한지 2개월을 채워가는 중이네요 ~!\\n작년 12월 말, 급한 마음...  \n",
       "2    밀크T 친구 추천 이벤트!\\n밀크티 학습지 남매 2년 사용, 연장 후기!\\n*3월9...  \n",
       "3    새학기 되면서 아이들 학원 스케줄 짜느라 분주한 분들 많으시죠. 저는 올해 중학생이...  \n",
       "4    연두는 현재 6학년으로 예비중등입니다. 저학년 때부터 밀크티에 정착했는데요-\\n영어...  \n",
       "..                                                 ...  \n",
       "946                                              Error  \n",
       "947                                              Error  \n",
       "948                                              Error  \n",
       "949                                              Error  \n",
       "950                                              Error  \n",
       "\n",
       "[951 rows x 3 columns]"
      ]
     },
     "execution_count": 86,
     "metadata": {},
     "output_type": "execute_result"
    }
   ],
   "source": [
    "milk_t = pd.read_csv('./test_blog_crawling.csv')\n",
    "df = milk_t.copy()\n",
    "df"
   ]
  },
  {
   "cell_type": "code",
   "execution_count": 87,
   "metadata": {},
   "outputs": [
    {
     "data": {
      "text/html": [
       "<div>\n",
       "<style scoped>\n",
       "    .dataframe tbody tr th:only-of-type {\n",
       "        vertical-align: middle;\n",
       "    }\n",
       "\n",
       "    .dataframe tbody tr th {\n",
       "        vertical-align: top;\n",
       "    }\n",
       "\n",
       "    .dataframe thead th {\n",
       "        text-align: right;\n",
       "    }\n",
       "</style>\n",
       "<table border=\"1\" class=\"dataframe\">\n",
       "  <thead>\n",
       "    <tr style=\"text-align: right;\">\n",
       "      <th></th>\n",
       "      <th>contents</th>\n",
       "    </tr>\n",
       "  </thead>\n",
       "  <tbody>\n",
       "    <tr>\n",
       "      <th>0</th>\n",
       "      <td>3학년 때부터 밀크T 수업을 시작했고 2년 약정으로 시작해서, 또 연장함.\\n연장해...</td>\n",
       "    </tr>\n",
       "    <tr>\n",
       "      <th>1</th>\n",
       "      <td>밀크티패드를 시작한지 2개월을 채워가는 중이네요 ~!\\n작년 12월 말, 급한 마음...</td>\n",
       "    </tr>\n",
       "    <tr>\n",
       "      <th>2</th>\n",
       "      <td>밀크T 친구 추천 이벤트!\\n밀크티 학습지 남매 2년 사용, 연장 후기!\\n*3월9...</td>\n",
       "    </tr>\n",
       "    <tr>\n",
       "      <th>3</th>\n",
       "      <td>새학기 되면서 아이들 학원 스케줄 짜느라 분주한 분들 많으시죠. 저는 올해 중학생이...</td>\n",
       "    </tr>\n",
       "    <tr>\n",
       "      <th>4</th>\n",
       "      <td>연두는 현재 6학년으로 예비중등입니다. 저학년 때부터 밀크티에 정착했는데요-\\n영어...</td>\n",
       "    </tr>\n",
       "    <tr>\n",
       "      <th>...</th>\n",
       "      <td>...</td>\n",
       "    </tr>\n",
       "    <tr>\n",
       "      <th>606</th>\n",
       "      <td>♣ 당신이 병드는 이유 / 콜린캠벨, 하워드 제이콥슨\\n우리가 건강을 지키는 데 어...</td>\n",
       "    </tr>\n",
       "    <tr>\n",
       "      <th>607</th>\n",
       "      <td>붓다의 생애와 사상\\n불타(佛陀)와 불전(佛傳)\\n마성/ 팔리문헌연구소장\\n설법연구...</td>\n",
       "    </tr>\n",
       "    <tr>\n",
       "      <th>608</th>\n",
       "      <td>*단말기 완전자급제 (출처 : 기기 구입-통신사 선택 ‘따로’… 유통구조 격변 예고...</td>\n",
       "    </tr>\n",
       "    <tr>\n",
       "      <th>609</th>\n",
       "      <td>최근 수정 시각: 2019-11-20 00:18:19\\n분류\\n연습생\\n아이돌\\nK...</td>\n",
       "    </tr>\n",
       "    <tr>\n",
       "      <th>610</th>\n",
       "      <td>최근 수정 시각: 2019-06-13 17:13:29\\n분류 생존주의\\n생존주의\\n...</td>\n",
       "    </tr>\n",
       "  </tbody>\n",
       "</table>\n",
       "<p>611 rows × 1 columns</p>\n",
       "</div>"
      ],
      "text/plain": [
       "                                              contents\n",
       "0    3학년 때부터 밀크T 수업을 시작했고 2년 약정으로 시작해서, 또 연장함.\\n연장해...\n",
       "1    밀크티패드를 시작한지 2개월을 채워가는 중이네요 ~!\\n작년 12월 말, 급한 마음...\n",
       "2    밀크T 친구 추천 이벤트!\\n밀크티 학습지 남매 2년 사용, 연장 후기!\\n*3월9...\n",
       "3    새학기 되면서 아이들 학원 스케줄 짜느라 분주한 분들 많으시죠. 저는 올해 중학생이...\n",
       "4    연두는 현재 6학년으로 예비중등입니다. 저학년 때부터 밀크티에 정착했는데요-\\n영어...\n",
       "..                                                 ...\n",
       "606  ♣ 당신이 병드는 이유 / 콜린캠벨, 하워드 제이콥슨\\n우리가 건강을 지키는 데 어...\n",
       "607  붓다의 생애와 사상\\n불타(佛陀)와 불전(佛傳)\\n마성/ 팔리문헌연구소장\\n설법연구...\n",
       "608  *단말기 완전자급제 (출처 : 기기 구입-통신사 선택 ‘따로’… 유통구조 격변 예고...\n",
       "609  최근 수정 시각: 2019-11-20 00:18:19\\n분류\\n연습생\\n아이돌\\nK...\n",
       "610  최근 수정 시각: 2019-06-13 17:13:29\\n분류 생존주의\\n생존주의\\n...\n",
       "\n",
       "[611 rows x 1 columns]"
      ]
     },
     "execution_count": 87,
     "metadata": {},
     "output_type": "execute_result"
    }
   ],
   "source": [
    "df = df[df['Title'] != 'Error']\n",
    "df.reset_index(drop=True, inplace=True)\n",
    "df = df.drop(['Title', 'Unnamed: 0'], axis=1)\n",
    "df"
   ]
  },
  {
   "cell_type": "code",
   "execution_count": 88,
   "metadata": {},
   "outputs": [
    {
     "data": {
      "text/plain": [
       "'최근 수정 시각: 2019-11-20 00:18:19\\n분류\\n연습생\\n아이돌\\nK-POP 관련 문서\\n일반\\nK-POP · 한류 음악산업 통계 · 한국 음원시장\\n아티스트 목록 및 형태별 분류\\n한국 가수 · 한국 아이돌 (목록 / 역사)\\n걸그룹 (목록 / 역사 / 포지션) · 보이그룹 (목록 / 포지션) · 혼성그룹\\n유닛 · 남성 솔로 · 여성 솔로 (목록) · 2인조 · 3인조 · 4인조 · 5인조 · 6인조 · 7인조 · 8인조 · 9인조 · 10인조 이상\\n그룹이 변경된 아이돌\\n매니지먼트 및 프로듀싱\\n연예 기획사 (대형 기획사 / 3대: SM, JYP, YG) · 프로듀서 · 매니저 · 연습생 (조언) · 서바이벌 프로그램\\n팬 문화\\n팬덤 (목록) · 응원도구 · 응원문구 · 굿즈 (그룹별) · 삼촌팬 · 홈마 · 직캠 · 안무영상 · 팬송 · 팬사인회 · 소속사 안티 · MR 제거 · 리액션 비디오 · 커버 · V LIVE · 교차편집\\n각종 기록 및 순위\\n가온차트 (가온 인증 / 연간 1위) · 한터차트 · 아이차트 · 멜론차트 (주간 1위 / 월간 1위 / 연간 1위) · 초동 순위 (걸그룹 / 보이그룹) · 총판 순위 (걸그룹) · 빌보드 차트 한국 가수 기록 · 유튜브 K-POP 조회수 순위 · 대중음악 시상식 · 한국 대중음악 100대 명반\\n주요 음악방송\\n쇼! 음악중심 (차트 / 순위) · 뮤직뱅크 (차트 / 순위) · SBS 인기가요 (차트 / 순위)\\n엠 카운트다운 (순위) · 쇼챔피언 (순위) · THE SHOW · Simply K-Pop\\n논란 및 문제점\\n음원 사재기 · 음반 사재기 · 아이돌 7년차 징크스 · 악성 개인팬 · 사생팬\\n1. 인턴2. 아이돌 연습생\\n2.1. 오디션 및 데뷔 과정\\n2.1.1. 연습생/조언2.1.2. 사회적 인지도2.1.3. 기획사 오디션 준비 전2.1.4. 연습생 오디션 응시 방법2.1.5. 연습생 트레이닝 과정2.1.6. 공연, 쇼케이스2.1.7. 학업 문제\\n2.2. 데뷔\\n2.2.1. 연습생의 데뷔는 언제 가능?2.2.2. 데'"
      ]
     },
     "execution_count": 88,
     "metadata": {},
     "output_type": "execute_result"
    }
   ],
   "source": [
    "test_sentence = df['contents'][609]\n",
    "test_sentence[:1000]"
   ]
  },
  {
   "cell_type": "code",
   "execution_count": 89,
   "metadata": {},
   "outputs": [
    {
     "data": {
      "text/plain": [
       "'연두는 현재 6학년으로 예비중등입니다. 저학년 때부터 밀크티에 정착했는데요-\\n영어 수학 외에 다른 과목은 학교 수업만으로 진도를 따라가는데 무리가 없어서 한시름 놓고 있어요.\\n스마트 기기로 하는 학습으로는 몇 번의 실패 끝에 정착한 거라 앞으로도 쭉 시키려고 해요-\\n요즘 초등학교는 저희 때처럼 중간고사나 기말고사를 따로 보지 않고 상시로 평가를 하는데, 점'"
      ]
     },
     "execution_count": 89,
     "metadata": {},
     "output_type": "execute_result"
    }
   ],
   "source": [
    "test_sentence2 = df['contents'][4]\n",
    "test_sentence2[:200]"
   ]
  },
  {
   "cell_type": "code",
   "execution_count": 90,
   "metadata": {},
   "outputs": [],
   "source": [
    "# def search_milkT(text):\n",
    "#     if \"밀크티\" not in text:\n",
    "#         if \"밀크t\" not in text.lower():\n",
    "#             if \"milk\" not in text.lower():\n",
    "#                 if \"ㅁㅋㅌ\" not in text:\n",
    "#                     return False\n",
    "\n",
    "#     else:\n",
    "#         return True"
   ]
  },
  {
   "cell_type": "code",
   "execution_count": 91,
   "metadata": {},
   "outputs": [],
   "source": [
    "def search_milkT(text):\n",
    "    if \"밀크티\" in text:\n",
    "        return True\n",
    "\n",
    "    elif \"밀크t\" in text.lower():\n",
    "        return True\n",
    "            \n",
    "    elif \"milkT\" in text.lower():\n",
    "        return True\n",
    "    \n",
    "    elif \"ㅁㅋㅌ\" in text:\n",
    "        return True\n",
    "\n",
    "    # elif \"학습\" in text:\n",
    "    #     return True\n",
    "\n",
    "    else:\n",
    "        return False"
   ]
  },
  {
   "cell_type": "code",
   "execution_count": 92,
   "metadata": {},
   "outputs": [],
   "source": [
    "def check_ad(text):\n",
    "    if '광고' in text:\n",
    "        return True\n",
    "    \n",
    "    elif '추천인' in text:\n",
    "        return True\n",
    "\n",
    "    elif '서포터' in text:\n",
    "        return True\n",
    "\n",
    "    else:\n",
    "        return False"
   ]
  },
  {
   "cell_type": "code",
   "execution_count": 93,
   "metadata": {},
   "outputs": [],
   "source": [
    "df['Check_milkT'] = df['contents'].apply(lambda x : search_milkT(x))\n",
    "df['check_test'] = df['contents'].apply(lambda x : '학습' in x and '선생' in x)\n",
    "\n",
    "# df.Check_milkT.value_counts()\n",
    "# df['check_test'].value_counts()\n",
    "\n",
    "df = df[df['check_test'] == True]\n",
    "df = df[df['Check_milkT'] == True]\n",
    "\n",
    "# df['check_test2'] = df['contents'].apply(lambda x : '선생' in x)\n",
    "# df= df[df['check_test2'] == True]\n",
    "\n",
    "df['recommend'] = df['contents'].apply(lambda x : check_ad(x))\n",
    "df = df.drop(['Check_milkT', 'check_test'], axis=1)\n",
    "df.reset_index(drop=True, inplace=True)"
   ]
  },
  {
   "cell_type": "code",
   "execution_count": 94,
   "metadata": {},
   "outputs": [],
   "source": [
    "# # dataframe 보기 설정\n",
    "# pd.set_option('display.max_row', 20)"
   ]
  },
  {
   "cell_type": "code",
   "execution_count": 95,
   "metadata": {},
   "outputs": [
    {
     "data": {
      "text/html": [
       "<div>\n",
       "<style scoped>\n",
       "    .dataframe tbody tr th:only-of-type {\n",
       "        vertical-align: middle;\n",
       "    }\n",
       "\n",
       "    .dataframe tbody tr th {\n",
       "        vertical-align: top;\n",
       "    }\n",
       "\n",
       "    .dataframe thead th {\n",
       "        text-align: right;\n",
       "    }\n",
       "</style>\n",
       "<table border=\"1\" class=\"dataframe\">\n",
       "  <thead>\n",
       "    <tr style=\"text-align: right;\">\n",
       "      <th></th>\n",
       "      <th>contents</th>\n",
       "      <th>recommend</th>\n",
       "    </tr>\n",
       "  </thead>\n",
       "  <tbody>\n",
       "    <tr>\n",
       "      <th>0</th>\n",
       "      <td>3학년 때부터 밀크T 수업을 시작했고 2년 약정으로 시작해서,연장함.연장해서 1년이...</td>\n",
       "      <td>False</td>\n",
       "    </tr>\n",
       "    <tr>\n",
       "      <th>1</th>\n",
       "      <td>밀크티패드를 시작한지 2개월을 채워가는 중이네요 작년 12월 말, 급한 마음에 바로...</td>\n",
       "      <td>True</td>\n",
       "    </tr>\n",
       "    <tr>\n",
       "      <th>2</th>\n",
       "      <td>밀크T 친구 추천 이벤트밀크티 학습지 남매 2년 사용, 연장 후기3월9일수정 해요2...</td>\n",
       "      <td>True</td>\n",
       "    </tr>\n",
       "    <tr>\n",
       "      <th>3</th>\n",
       "      <td>새학기 되면서 아이들 학원 스케줄 짜느라 분주한 분들 많으시죠. 저는 올해 중학생이...</td>\n",
       "      <td>True</td>\n",
       "    </tr>\n",
       "    <tr>\n",
       "      <th>4</th>\n",
       "      <td>연두는 현재 6학년으로 예비중등입니다. 저학년 때부터 밀크티에 정착했는데요영어 수학...</td>\n",
       "      <td>False</td>\n",
       "    </tr>\n",
       "    <tr>\n",
       "      <th>5</th>\n",
       "      <td>우리딸 천재교육 밀크티 2년 넘게 해서 재연장한 상태 입니다.3학년때는 과목도 늘어...</td>\n",
       "      <td>True</td>\n",
       "    </tr>\n",
       "    <tr>\n",
       "      <th>6</th>\n",
       "      <td>지난주 설연휴는보내셨나요설연휴부터 코로나 확진자 수가 엄청나네요.3만명이 넘을수도 ...</td>\n",
       "      <td>False</td>\n",
       "    </tr>\n",
       "    <tr>\n",
       "      <th>7</th>\n",
       "      <td>안녕하세요요즘에는 아이들이 영어나 수학을배우는 시기가빨라지는같아요.학교에 가기 전부...</td>\n",
       "      <td>False</td>\n",
       "    </tr>\n",
       "    <tr>\n",
       "      <th>8</th>\n",
       "      <td>천재교육 밀크티 가격 12 개월149,000 원24 개월109,000 원1월 3일...</td>\n",
       "      <td>True</td>\n",
       "    </tr>\n",
       "    <tr>\n",
       "      <th>9</th>\n",
       "      <td>시골로 이사오면서 심각한 문제가 생겼는데바로 쭈양이 심심하다는 것이다.나는 출근하면...</td>\n",
       "      <td>True</td>\n",
       "    </tr>\n",
       "  </tbody>\n",
       "</table>\n",
       "</div>"
      ],
      "text/plain": [
       "                                            contents  recommend\n",
       "0  3학년 때부터 밀크T 수업을 시작했고 2년 약정으로 시작해서,연장함.연장해서 1년이...      False\n",
       "1  밀크티패드를 시작한지 2개월을 채워가는 중이네요 작년 12월 말, 급한 마음에 바로...       True\n",
       "2  밀크T 친구 추천 이벤트밀크티 학습지 남매 2년 사용, 연장 후기3월9일수정 해요2...       True\n",
       "3  새학기 되면서 아이들 학원 스케줄 짜느라 분주한 분들 많으시죠. 저는 올해 중학생이...       True\n",
       "4  연두는 현재 6학년으로 예비중등입니다. 저학년 때부터 밀크티에 정착했는데요영어 수학...      False\n",
       "5  우리딸 천재교육 밀크티 2년 넘게 해서 재연장한 상태 입니다.3학년때는 과목도 늘어...       True\n",
       "6  지난주 설연휴는보내셨나요설연휴부터 코로나 확진자 수가 엄청나네요.3만명이 넘을수도 ...      False\n",
       "7  안녕하세요요즘에는 아이들이 영어나 수학을배우는 시기가빨라지는같아요.학교에 가기 전부...      False\n",
       "8   천재교육 밀크티 가격 12 개월149,000 원24 개월109,000 원1월 3일...       True\n",
       "9  시골로 이사오면서 심각한 문제가 생겼는데바로 쭈양이 심심하다는 것이다.나는 출근하면...       True"
      ]
     },
     "metadata": {},
     "output_type": "display_data"
    },
    {
     "name": "stdout",
     "output_type": "stream",
     "text": [
      "123\n"
     ]
    }
   ],
   "source": [
    "df.contents = df.contents.apply(lambda x : re.sub('[-=+#/\\?:^$@*\\\"※~&%ㆍ!』\\\\‘|\\(\\)\\[\\]\\<\\>`\\'…》\\n★▲;]','', x))\n",
    "df.contents = df.contents.apply(lambda x : re.sub('\\W. ','',x))\n",
    "df.contents = df.contents.apply(lambda x : core.replace_emoji(x, replace=''))\n",
    "display(df[:10])\n",
    "print(len(df))"
   ]
  },
  {
   "cell_type": "code",
   "execution_count": 96,
   "metadata": {},
   "outputs": [
    {
     "data": {
      "text/plain": [
       "'3학년 때부터 밀크T 수업을 시작했고 2년 약정으로 시작해서,연장함.연장해서 1년이 지났고 1년이 남은 상태.처음엔 수학 과목만 생각해서 시작을 했는데 코로나로 인해 학교가는 기간이 있어서잘했다 싶다.사회, 과학 관련 내용을수 있다.코딩도 하고, 한자, 중국어도 가능하니..따로 학원필요 없이 1주일에 12회 보며 학습하는 중.밀크T 초등 2020년에 시작할갤럭시탭 A6를 기계로 받았다지금은주는지 모름 밀크아이는 갤럭시탭S 시리즈는 받았다고 들음.처음 커버 벗겨 보는같다패드가 달린 파란 커버가 씌워져있는데 벗기기 힘들어서번도하다가이번에 AS 받을 일이 있어서 벗겨본다.진짜 새것 같음밀크T 학습 화면으로 되어있는데, 나가기를 누르면.일반 탭으로도 사용이 가능하지만번도 나가기를 누르지 않음. ㅎㅎ그래서 우리남매는 모르는..................계속 몰랐으면 한다3년하고 1개월이 지난같다.여태사용했는데, 주말이 지나고 충전하려고 하는데 3시간이 넘게 충전을 해도 1에서이상 올라가지 않는다. 전원을 켜면 배터리는 다시 0로 꺼짐.학습을 하고 매주 1회 전화맞춤 코칭으로 화상수업을 하는데 수업이 있는 날이다.충전이 어려울같아서 학습도 안되고 수업도 안될같다.담당 선생님께 말씀드려서 수업을 미웠고 바로 서비스센터에 가고 싶었지만,막내는 낮잠을 자고 있고 월요일은 서비스센터가 붐벼서갔다갤럭시탭 A6 배터리 교체 비용이 궁금해서 삼성전자 고객센터로 전화를 했다. 15883366배터리 교체 비용을 물으니 66,000원이라고 한다.더불어 어느 센터로건지 알려주시면 재고 확인을 해주신다고 한다근처 가까운 곳을 알려드렸다.배터리 재고는하나 있다고 하셨다.재고 예약도 가능하다고 한다그냥 갔는데 없으면번 가야뻔했다.하나 남은 재고 예약까지 했다.2주 이내로 방문하면 된다고 함.예약하고 다음날 바로 감. 배터리 교체하고 학습해야 하니까..........오후에 가니 확실히붐볐다.대기 없이 바로 엔지니어 분께서 불렀고, 30분 정도 걸린다고 하셨으나15분 정도 있으니 바로주셨다.배터리 교체 비용 66,000원 결제 완료.사실, 1년 남은 시점이고 내년엔 중등으로 넘어가야 한다.아직까진 중학생이 되어도 밀크T를 계속할 생각이다. 그래서패드로 교체를생각도 했는데6학년이지금 학교 마치고 방과후수업과 영어, 수학 학원을 다녀오면.7시시간이 있을까라는 생각이 든다.아직 6학년의 생활을 시작도했고봐야것 같아서남은 1년 동안 계속 유지가 될지 중간에 그만둘지 아무도 모른다.그래서패드로 교환보다는 배터리 교체를 했다.5학년 초반까지만 해도 스스로 자기주도학습이되었는데 점점.....하라고 하라고 해야 하는 중.그래서 얼마나할있을지 모르겠다.그렇지만, 학습하는 내용은 아주 도움이 되니까, 계속 유지하길 바라는마음.........서비스센터가 집에서 가까워서 막내 유모차 태우고 걸어갔는데,왕복 30분 거리를 걸어갔다 왔더니캐시워크가 오늘 하루 만보를 걸었단다. 괜히 뿌듯.'"
      ]
     },
     "execution_count": 96,
     "metadata": {},
     "output_type": "execute_result"
    }
   ],
   "source": [
    "contents_list = list(df.contents)\n",
    "s = contents_list[0]\n",
    "s"
   ]
  },
  {
   "cell_type": "code",
   "execution_count": 97,
   "metadata": {},
   "outputs": [],
   "source": [
    "def point_reduce(sentence):\n",
    "    while True:\n",
    "        try:\n",
    "            if '..' in sentence:\n",
    "                sentence = sentence.replace('..','.')\n",
    "            \n",
    "            else:\n",
    "                sentence = sentence.replace('.','. ') # 온점 뒤에 space 넣어뒀음. 불필요시 제거.\n",
    "                if '  ' in sentence:\n",
    "                    sentence = sentence.replace('  ',' ')\n",
    "                    # print(sentence)\n",
    "                    return sentence\n",
    "                    break\n",
    "                else:\n",
    "                    return sentence\n",
    "        except:\n",
    "            return sentence\n",
    "        \n",
    "        # if '  ' not in sentence:\n",
    "        #     break"
   ]
  },
  {
   "cell_type": "code",
   "execution_count": 98,
   "metadata": {},
   "outputs": [],
   "source": [
    "def classify_sentence(sentence):\n",
    "    sentence_list = sentence.split('. ')\n",
    "    if ' ' in sentence_list:\n",
    "        sentence_list.remove(' ')\n",
    "        return sentence_list\n",
    "\n",
    "    else:\n",
    "        return sentence_list"
   ]
  },
  {
   "cell_type": "code",
   "execution_count": 99,
   "metadata": {},
   "outputs": [
    {
     "data": {
      "text/html": [
       "<div>\n",
       "<style scoped>\n",
       "    .dataframe tbody tr th:only-of-type {\n",
       "        vertical-align: middle;\n",
       "    }\n",
       "\n",
       "    .dataframe tbody tr th {\n",
       "        vertical-align: top;\n",
       "    }\n",
       "\n",
       "    .dataframe thead th {\n",
       "        text-align: right;\n",
       "    }\n",
       "</style>\n",
       "<table border=\"1\" class=\"dataframe\">\n",
       "  <thead>\n",
       "    <tr style=\"text-align: right;\">\n",
       "      <th></th>\n",
       "      <th>contents</th>\n",
       "      <th>recommend</th>\n",
       "    </tr>\n",
       "  </thead>\n",
       "  <tbody>\n",
       "    <tr>\n",
       "      <th>0</th>\n",
       "      <td>3학년 때부터 밀크T 수업을 시작했고 2년 약정으로 시작해서,연장함.연장해서 1년이...</td>\n",
       "      <td>False</td>\n",
       "    </tr>\n",
       "    <tr>\n",
       "      <th>1</th>\n",
       "      <td>밀크티패드를 시작한지 2개월을 채워가는 중이네요 작년 12월 말, 급한 마음에 바로...</td>\n",
       "      <td>True</td>\n",
       "    </tr>\n",
       "    <tr>\n",
       "      <th>2</th>\n",
       "      <td>밀크T 친구 추천 이벤트밀크티 학습지 남매 2년 사용, 연장 후기3월9일수정 해요2...</td>\n",
       "      <td>True</td>\n",
       "    </tr>\n",
       "    <tr>\n",
       "      <th>3</th>\n",
       "      <td>새학기 되면서 아이들 학원 스케줄 짜느라 분주한 분들 많으시죠. 저는 올해 중학생이...</td>\n",
       "      <td>True</td>\n",
       "    </tr>\n",
       "    <tr>\n",
       "      <th>4</th>\n",
       "      <td>연두는 현재 6학년으로 예비중등입니다. 저학년 때부터 밀크티에 정착했는데요영어 수학...</td>\n",
       "      <td>False</td>\n",
       "    </tr>\n",
       "  </tbody>\n",
       "</table>\n",
       "</div>"
      ],
      "text/plain": [
       "                                            contents  recommend\n",
       "0  3학년 때부터 밀크T 수업을 시작했고 2년 약정으로 시작해서,연장함.연장해서 1년이...      False\n",
       "1  밀크티패드를 시작한지 2개월을 채워가는 중이네요 작년 12월 말, 급한 마음에 바로...       True\n",
       "2  밀크T 친구 추천 이벤트밀크티 학습지 남매 2년 사용, 연장 후기3월9일수정 해요2...       True\n",
       "3  새학기 되면서 아이들 학원 스케줄 짜느라 분주한 분들 많으시죠. 저는 올해 중학생이...       True\n",
       "4  연두는 현재 6학년으로 예비중등입니다. 저학년 때부터 밀크티에 정착했는데요영어 수학...      False"
      ]
     },
     "execution_count": 99,
     "metadata": {},
     "output_type": "execute_result"
    }
   ],
   "source": [
    "df2 = df.copy()\n",
    "df2.head()"
   ]
  },
  {
   "cell_type": "code",
   "execution_count": 100,
   "metadata": {},
   "outputs": [
    {
     "data": {
      "text/plain": [
       "'아이가 초등학교 2학년 겨울부터시작한 패드학습지패드로 공부한다는게당시엔 생소했지만지나고 보니 좋은 선택이었어요올해 5학년이첫째와7살 예비초등이둘째 아이가천재교육 밀크티로 실제 학습한 후기입니다천재교육 밀크티 가격, 밀크티아이, 초등, 할인 혜택, 추천인, 패드학습재생 수6220000 0032화질 선택 옵션자동천재교육 밀크티 가격, 밀크티아이, 초등, 할인 혜택, 추천인, 패드학습먼저 이번에 7살 예비초등이 된둘째가 영어 공부를 하는 모습이에요작년에 찍은 거라 이땐 6살이었어요태블릿 마이크가 목소리를인식해서 평가를 해줘서 아이도좋은 평가를 받기 위해크고 정확하게말하려고 노력해요패드학습지는 이렇게 보고 듣고 쓰면서학습이 가능해서 아이들이 좋아해요책을 읽고 나서 독후 활동도 중요하다고생각하는데 동화를 보고 나면동화와 관련된 그림을 그리거나문제를 풀어볼있어요한글이나 영어단어를때순서대로 쓰지 않으면 입력이 안돼서자연스럽게쓰는 순서도 배워요초등학생 5학년이 되는 첫째는요즘 5학년 1학기 공부중이에요수학은 6단원5단원 공부중인데이렇게 방학동안 미리 예습을 한번 하고학기가 시작되면 다시 1학기 1단원부터복습하는 방식으로 학습이 진행돼요강의를 보고 마지막에 문제를 풀어서아이가 학습을 제대로 이해했는지부족한 점은 무엇인지 체크할있어요틀린문제는 쌍둥이 문제가 나와서다시 한번 풀어볼있어요담당선생님 수업은 일주일에 한번씩밀크티 학습 패드를 이용한 화상수업이랑전화수업이 격주로 510분정도 진행돼요아이가 학습을 하다가 궁금한 점이 있으면선생님께 쪽지로 질문을 하고답변을 받기도 하고진도도 조절할있어서진도가 빠르거나 느릴때 선생님께 요청하면바로 바로 반영해주세요패드학습이 끝나면 교재로다시 한번 복습하기패드로만 공부해도 충분하지만교재가 있어서꼼꼼하게 공부할있어요교재는 여러종류 교과문제를 반영한빅데이터와 서술형 문제집 와이,밀크티 초등수학기초연산 교재 등으로구성됐어요12개월 약정24개월 약정 할인밀크티아이가격149,000원119,000원밀크티키즈 가격149,000원119,000원밀크티초등149,000원119,000원밀크티는 연령에 따라5, 6세 밀크티아이,7세는 키즈로 예비초등이라초등이랑 사업부가 같아요밀크티 가격은12개월 약정시 149,000원24개월 약정시 119,000원학습비에 태블릿 가격월 2만 7천원2년약정이 포함됐기때문에 반납하지 않아요1년 약정은 1년동안 태블릿 값을분납해야해서 가격이 상대적으로 비싸요저희 아이는 3년전에 가입해서학습 패드가 갤럭시탭 A6인데작년부터 갤럭시탭 S6 라이트로 바뀌었어요갤럭시 S시리즈 사양이좋은데이럴줄 알았으면 저도 작년에 가입할걸그랬나봐요12개월 약정24개월 약정밀크티아이 혜택브로마이드한글영어,연산 교재, 퍼즐 놀이12개월 약정 혜택 듬이세트 판촉물, 신세계 상품권 5만원밀크티키즈 혜택無천재도서상품권 5만원 연산력 수학 노크 세트밀크티초등 혜택無천재도서상품권 5만원 라이브 과학세트1년 약정은 15일의 기간 연장,2년 약정은 30일의 기간 연장 혜택도있어서 약정 기간이 끝나고1530일 동안 무료로 학습을 해요3월에는 천재교육 밀크티아이,밀크티 예비초등 6학년 신규 2년 약정 직결제시CU 기프티콘 2만원 추가로 증정돼요직결제는 무료체험을 하지 않고바로 가입하는 건데혹시나 직결제아이와맞는 것같으면 가입일주일 안에계약 철회도 가능해요상담선생님께혜택 확인하고가입하세요정회원 친구를 등록하고 가입하면추천한 친구도 추천 받은 친구도신세계 상품권 5만원을 받는이벤트가 진행중입니다밀크티 초등, 중고등, 밀크티아이모두 등록 가능한추천인 아이디 kimjh1104무료체험 중이신 분들은 선생님에 따라아이디로 등록해주시는 분도 있고,아이이름과 번호까지 알려달라는 분도 계세요댓글 주시면 회원정보 알려드릴게요아직 무료체험 신청 안하신 분위에 적은 밀크티 혜택 영사님 상품권더 받고 싶으신 분들은영사님 소개해드려요영사님 통해서도 무료체험 가능하고,가입 혜택과 추천인 상품권에 추가로더 받으시는 거예요이미 진행하셨으면체험을 도와주신 선생님으로 지정된거라영사님 교체가 불가능해요소개 받지 않고 무료체험 신청하실 분들은아래에 있는 정회원 추천 링크로상담신청하시면 무료체험 신청도 가능하고,아이디가 자동 등록돼서가입하실때 신세계 5만원 받으실있어요밀크티아이는 밀크T유아에서신청하시면 되는데추천아이디가 따로 안떠서 상담선생님연락오면 밀크티아이 추천인등록 됐는지확인해주세요밀크T초등1등 교과서가 만든 AI맞춤학습m. milkt. co. kr밀크티 제휴카드 할인 혜택 비교전월 이용실적30만원 이상70만원 이상월 할인금액1만 2천원1만 7천원밀크T 국민카드는 최초 카드 사용 등록일부터다음달 말일은 실적 유예기간이라이용실적이 없는 경우에도12,000원 할인을 받을있고,카드 수령 후에 별도로밀크티 고객센터에 연락해서카드 자동이체를 신청하셔야 해요국민카드 홈페이지 검색창에 밀크T 라고검색하면 자세한 내용을수 있어요전월 이용실적40만원 이상70만원 이상100만원 이상월 할인금액8천원1만 2천원1만 6천원밀크T 롯데카드는 최초발급일로부터다음달 말일까지 이용실적이40만원 미만이라도8천원 한도내에서 할인을 제공해요월 1회 최초 승인건만 적용된다고하니 참고해주세요만약 2자녀 이상 밀크티 학습을 하면둘먼저 결제되는 1명만 할인 혜택을받을있어요롯데 제휴카드도 국민카드와 마찬가지로별도로 담당선생님이나 천재교육 밀크티에직접 연락하셔서 자동이체신청을 하셔야 해요혜택을 비교해보니 국민카드가전월 이용실적 대비 할인금액이더걸수 있었어요'"
      ]
     },
     "metadata": {},
     "output_type": "display_data"
    },
    {
     "data": {
      "text/plain": [
       "['아이가 초등학교 2학년 겨울부터시작한 패드학습지패드로 공부한다는게당시엔 생소했지만지나고 보니 좋은 선택이었어요올해 5학년이첫째와7살 예비초등이둘째 아이가천재교육 밀크티로 실제 학습한 후기입니다천재교육 밀크티 가격, 밀크티아이, 초등, 할인 혜택, 추천인, 패드학습재생 수6220000 0032화질 선택 옵션자동천재교육 밀크티 가격, 밀크티아이, 초등, 할인 혜택, 추천인, 패드학습먼저 이번에 7살 예비초등이 된둘째가 영어 공부를 하는 모습이에요작년에 찍은 거라 이땐 6살이었어요태블릿 마이크가 목소리를인식해서 평가를 해줘서 아이도좋은 평가를 받기 위해크고 정확하게말하려고 노력해요패드학습지는 이렇게 보고 듣고 쓰면서학습이 가능해서 아이들이 좋아해요책을 읽고 나서 독후 활동도 중요하다고생각하는데 동화를 보고 나면동화와 관련된 그림을 그리거나문제를 풀어볼있어요한글이나 영어단어를때순서대로 쓰지 않으면 입력이 안돼서자연스럽게쓰는 순서도 배워요초등학생 5학년이 되는 첫째는요즘 5학년 1학기 공부중이에요수학은 6단원5단원 공부중인데이렇게 방학동안 미리 예습을 한번 하고학기가 시작되면 다시 1학기 1단원부터복습하는 방식으로 학습이 진행돼요강의를 보고 마지막에 문제를 풀어서아이가 학습을 제대로 이해했는지부족한 점은 무엇인지 체크할있어요틀린문제는 쌍둥이 문제가 나와서다시 한번 풀어볼있어요담당선생님 수업은 일주일에 한번씩밀크티 학습 패드를 이용한 화상수업이랑전화수업이 격주로 510분정도 진행돼요아이가 학습을 하다가 궁금한 점이 있으면선생님께 쪽지로 질문을 하고답변을 받기도 하고진도도 조절할있어서진도가 빠르거나 느릴때 선생님께 요청하면바로 바로 반영해주세요패드학습이 끝나면 교재로다시 한번 복습하기패드로만 공부해도 충분하지만교재가 있어서꼼꼼하게 공부할있어요교재는 여러종류 교과문제를 반영한빅데이터와 서술형 문제집 와이,밀크티 초등수학기초연산 교재 등으로구성됐어요12개월 약정24개월 약정 할인밀크티아이가격149,000원119,000원밀크티키즈 가격149,000원119,000원밀크티초등149,000원119,000원밀크티는 연령에 따라5, 6세 밀크티아이,7세는 키즈로 예비초등이라초등이랑 사업부가 같아요밀크티 가격은12개월 약정시 149,000원24개월 약정시 119,000원학습비에 태블릿 가격월 2만 7천원2년약정이 포함됐기때문에 반납하지 않아요1년 약정은 1년동안 태블릿 값을분납해야해서 가격이 상대적으로 비싸요저희 아이는 3년전에 가입해서학습 패드가 갤럭시탭 A6인데작년부터 갤럭시탭 S6 라이트로 바뀌었어요갤럭시 S시리즈 사양이좋은데이럴줄 알았으면 저도 작년에 가입할걸그랬나봐요12개월 약정24개월 약정밀크티아이 혜택브로마이드한글영어,연산 교재, 퍼즐 놀이12개월 약정 혜택 듬이세트 판촉물, 신세계 상품권 5만원밀크티키즈 혜택無천재도서상품권 5만원 연산력 수학 노크 세트밀크티초등 혜택無천재도서상품권 5만원 라이브 과학세트1년 약정은 15일의 기간 연장,2년 약정은 30일의 기간 연장 혜택도있어서 약정 기간이 끝나고1530일 동안 무료로 학습을 해요3월에는 천재교육 밀크티아이,밀크티 예비초등 6학년 신규 2년 약정 직결제시CU 기프티콘 2만원 추가로 증정돼요직결제는 무료체험을 하지 않고바로 가입하는 건데혹시나 직결제아이와맞는 것같으면 가입일주일 안에계약 철회도 가능해요상담선생님께혜택 확인하고가입하세요정회원 친구를 등록하고 가입하면추천한 친구도 추천 받은 친구도신세계 상품권 5만원을 받는이벤트가 진행중입니다밀크티 초등, 중고등, 밀크티아이모두 등록 가능한추천인 아이디 kimjh1104무료체험 중이신 분들은 선생님에 따라아이디로 등록해주시는 분도 있고,아이이름과 번호까지 알려달라는 분도 계세요댓글 주시면 회원정보 알려드릴게요아직 무료체험 신청 안하신 분위에 적은 밀크티 혜택 영사님 상품권더 받고 싶으신 분들은영사님 소개해드려요영사님 통해서도 무료체험 가능하고,가입 혜택과 추천인 상품권에 추가로더 받으시는 거예요이미 진행하셨으면체험을 도와주신 선생님으로 지정된거라영사님 교체가 불가능해요소개 받지 않고 무료체험 신청하실 분들은아래에 있는 정회원 추천 링크로상담신청하시면 무료체험 신청도 가능하고,아이디가 자동 등록돼서가입하실때 신세계 5만원 받으실있어요밀크티아이는 밀크T유아에서신청하시면 되는데추천아이디가 따로 안떠서 상담선생님연락오면 밀크티아이 추천인등록 됐는지확인해주세요밀크T초등1등 교과서가 만든 AI맞춤학습m',\n",
       " 'milkt',\n",
       " 'co',\n",
       " 'kr밀크티 제휴카드 할인 혜택 비교전월 이용실적30만원 이상70만원 이상월 할인금액1만 2천원1만 7천원밀크T 국민카드는 최초 카드 사용 등록일부터다음달 말일은 실적 유예기간이라이용실적이 없는 경우에도12,000원 할인을 받을있고,카드 수령 후에 별도로밀크티 고객센터에 연락해서카드 자동이체를 신청하셔야 해요국민카드 홈페이지 검색창에 밀크T 라고검색하면 자세한 내용을수 있어요전월 이용실적40만원 이상70만원 이상100만원 이상월 할인금액8천원1만 2천원1만 6천원밀크T 롯데카드는 최초발급일로부터다음달 말일까지 이용실적이40만원 미만이라도8천원 한도내에서 할인을 제공해요월 1회 최초 승인건만 적용된다고하니 참고해주세요만약 2자녀 이상 밀크티 학습을 하면둘먼저 결제되는 1명만 할인 혜택을받을있어요롯데 제휴카드도 국민카드와 마찬가지로별도로 담당선생님이나 천재교육 밀크티에직접 연락하셔서 자동이체신청을 하셔야 해요혜택을 비교해보니 국민카드가전월 이용실적 대비 할인금액이더걸수 있었어요']"
      ]
     },
     "metadata": {},
     "output_type": "display_data"
    }
   ],
   "source": [
    "df['contents'] = df['contents'].apply(lambda x: point_reduce(x))\n",
    "df['contents_list'] = df['contents'].apply(lambda x: classify_sentence(x))\n",
    "display(df['contents'][50])\n",
    "display(df['contents_list'][50])"
   ]
  },
  {
   "cell_type": "code",
   "execution_count": 101,
   "metadata": {},
   "outputs": [],
   "source": [
    "# vector = CountVectorizer()\n",
    "# bow = vector.fit_transform()\n",
    "\n",
    "# print(bow.toarray())\n",
    "# print(vector.vocabulary_)"
   ]
  },
  {
   "cell_type": "code",
   "execution_count": 102,
   "metadata": {},
   "outputs": [],
   "source": [
    "# !curl -s https://raw.githubusercontent.com/teddylee777/machine-learning/master/99-Misc/01-Colab/mecab-colab.sh | bash\n",
    "# !pip install konlpy\n",
    "\n",
    "### mecab install try\n",
    "## ! git clone https://github.com/SOMJANG/Mecab-ko-for-Google-Colab.git\n",
    "## ! bash Mecab-ko-for-Google-Colab/install_mecab-ko_on_colab190912.sh\n",
    "## !pip install eunjeon"
   ]
  },
  {
   "cell_type": "code",
   "execution_count": 103,
   "metadata": {},
   "outputs": [],
   "source": [
    "from konlpy.tag import Kkma, Hannanum, Komoran, Twitter, Okt"
   ]
  },
  {
   "cell_type": "code",
   "execution_count": 104,
   "metadata": {},
   "outputs": [
    {
     "name": "stderr",
     "output_type": "stream",
     "text": [
      "c:\\ProgramData\\Anaconda3\\envs\\py37\\lib\\site-packages\\konlpy\\tag\\_okt.py:17: UserWarning: \"Twitter\" has changed to \"Okt\" since KoNLPy v0.4.5.\n",
      "  warn('\"Twitter\" has changed to \"Okt\" since KoNLPy v0.4.5.')\n"
     ]
    }
   ],
   "source": [
    "Kkma = Kkma()\n",
    "okt = Okt()\n",
    "Komoran = Komoran()\n",
    "hannanum = Hannanum()\n",
    "twitter = Twitter()\n",
    "# mecab = Mecab()"
   ]
  },
  {
   "cell_type": "code",
   "execution_count": 105,
   "metadata": {},
   "outputs": [
    {
     "data": {
      "text/plain": [
       "{'EC': '연결 어미',\n",
       " 'EF': '종결 어미',\n",
       " 'EP': '선어말어미',\n",
       " 'ETM': '관형형 전성 어미',\n",
       " 'ETN': '명사형 전성 어미',\n",
       " 'IC': '감탄사',\n",
       " 'JC': '접속 조사',\n",
       " 'JKB': '부사격 조사',\n",
       " 'JKC': '보격 조사',\n",
       " 'JKG': '관형격 조사',\n",
       " 'JKO': '목적격 조사',\n",
       " 'JKQ': '인용격 조사',\n",
       " 'JKS': '주격 조사',\n",
       " 'JKV': '호격 조사',\n",
       " 'JX': '보조사',\n",
       " 'MAG': '일반 부사',\n",
       " 'MAJ': '접속 부사',\n",
       " 'MM': '관형사',\n",
       " 'NA': '분석불능범주',\n",
       " 'NF': '명사추정범주',\n",
       " 'NNB': '의존 명사',\n",
       " 'NNG': '일반 명사',\n",
       " 'NNP': '고유 명사',\n",
       " 'NP': '대명사',\n",
       " 'NR': '수사',\n",
       " 'NV': '용언추정범주',\n",
       " 'SE': '줄임표',\n",
       " 'SF': '마침표, 물음표, 느낌표',\n",
       " 'SH': '한자',\n",
       " 'SL': '외국어',\n",
       " 'SN': '숫자',\n",
       " 'SO': '붙임표(물결,숨김,빠짐)',\n",
       " 'SP': '쉼표,가운뎃점,콜론,빗금',\n",
       " 'SS': '따옴표,괄호표,줄표',\n",
       " 'SW': '기타기호 (논리수학기호,화폐기호)',\n",
       " 'VA': '형용사',\n",
       " 'VCN': '부정 지정사',\n",
       " 'VCP': '긍정 지정사',\n",
       " 'VV': '동사',\n",
       " 'VX': '보조 용언',\n",
       " 'XPN': '체언 접두사',\n",
       " 'XR': '어근',\n",
       " 'XSA': '형용사 파생 접미사',\n",
       " 'XSN': '명사파생 접미사',\n",
       " 'XSV': '동사 파생 접미사'}"
      ]
     },
     "execution_count": 105,
     "metadata": {},
     "output_type": "execute_result"
    }
   ],
   "source": [
    "Komoran.tagset"
   ]
  },
  {
   "cell_type": "code",
   "execution_count": 106,
   "metadata": {},
   "outputs": [
    {
     "data": {
      "text/html": [
       "<div>\n",
       "<style scoped>\n",
       "    .dataframe tbody tr th:only-of-type {\n",
       "        vertical-align: middle;\n",
       "    }\n",
       "\n",
       "    .dataframe tbody tr th {\n",
       "        vertical-align: top;\n",
       "    }\n",
       "\n",
       "    .dataframe thead th {\n",
       "        text-align: right;\n",
       "    }\n",
       "</style>\n",
       "<table border=\"1\" class=\"dataframe\">\n",
       "  <thead>\n",
       "    <tr style=\"text-align: right;\">\n",
       "      <th></th>\n",
       "      <th>contents</th>\n",
       "      <th>recommend</th>\n",
       "      <th>contents_list</th>\n",
       "    </tr>\n",
       "  </thead>\n",
       "  <tbody>\n",
       "    <tr>\n",
       "      <th>0</th>\n",
       "      <td>3학년 때부터 밀크T 수업을 시작했고 2년 약정으로 시작해서,연장함. 연장해서 1년...</td>\n",
       "      <td>False</td>\n",
       "      <td>[3학년 때부터 밀크T 수업을 시작했고 2년 약정으로 시작해서,연장함, 연장해서 1...</td>\n",
       "    </tr>\n",
       "    <tr>\n",
       "      <th>1</th>\n",
       "      <td>밀크티패드를 시작한지 2개월을 채워가는 중이네요 작년 12월 말, 급한 마음에 바로...</td>\n",
       "      <td>True</td>\n",
       "      <td>[밀크티패드를 시작한지 2개월을 채워가는 중이네요 작년 12월 말, 급한 마음에 바...</td>\n",
       "    </tr>\n",
       "    <tr>\n",
       "      <th>2</th>\n",
       "      <td>밀크T 친구 추천 이벤트밀크티 학습지 남매 2년 사용, 연장 후기3월9일수정 해요2...</td>\n",
       "      <td>True</td>\n",
       "      <td>[밀크T 친구 추천 이벤트밀크티 학습지 남매 2년 사용, 연장 후기3월9일수정 해요...</td>\n",
       "    </tr>\n",
       "    <tr>\n",
       "      <th>3</th>\n",
       "      <td>새학기 되면서 아이들 학원 스케줄 짜느라 분주한 분들 많으시죠. 저는 올해 중학생이...</td>\n",
       "      <td>True</td>\n",
       "      <td>[새학기 되면서 아이들 학원 스케줄 짜느라 분주한 분들 많으시죠, 저는 올해 중학생...</td>\n",
       "    </tr>\n",
       "    <tr>\n",
       "      <th>4</th>\n",
       "      <td>연두는 현재 6학년으로 예비중등입니다. 저학년 때부터 밀크티에 정착했는데요영어 수학...</td>\n",
       "      <td>False</td>\n",
       "      <td>[연두는 현재 6학년으로 예비중등입니다, 저학년 때부터 밀크티에 정착했는데요영어 수...</td>\n",
       "    </tr>\n",
       "  </tbody>\n",
       "</table>\n",
       "</div>"
      ],
      "text/plain": [
       "                                            contents  recommend  \\\n",
       "0  3학년 때부터 밀크T 수업을 시작했고 2년 약정으로 시작해서,연장함. 연장해서 1년...      False   \n",
       "1  밀크티패드를 시작한지 2개월을 채워가는 중이네요 작년 12월 말, 급한 마음에 바로...       True   \n",
       "2  밀크T 친구 추천 이벤트밀크티 학습지 남매 2년 사용, 연장 후기3월9일수정 해요2...       True   \n",
       "3  새학기 되면서 아이들 학원 스케줄 짜느라 분주한 분들 많으시죠. 저는 올해 중학생이...       True   \n",
       "4  연두는 현재 6학년으로 예비중등입니다. 저학년 때부터 밀크티에 정착했는데요영어 수학...      False   \n",
       "\n",
       "                                       contents_list  \n",
       "0  [3학년 때부터 밀크T 수업을 시작했고 2년 약정으로 시작해서,연장함, 연장해서 1...  \n",
       "1  [밀크티패드를 시작한지 2개월을 채워가는 중이네요 작년 12월 말, 급한 마음에 바...  \n",
       "2  [밀크T 친구 추천 이벤트밀크티 학습지 남매 2년 사용, 연장 후기3월9일수정 해요...  \n",
       "3  [새학기 되면서 아이들 학원 스케줄 짜느라 분주한 분들 많으시죠, 저는 올해 중학생...  \n",
       "4  [연두는 현재 6학년으로 예비중등입니다, 저학년 때부터 밀크티에 정착했는데요영어 수...  "
      ]
     },
     "execution_count": 106,
     "metadata": {},
     "output_type": "execute_result"
    }
   ],
   "source": [
    "df.head()"
   ]
  },
  {
   "cell_type": "code",
   "execution_count": 107,
   "metadata": {},
   "outputs": [
    {
     "data": {
      "text/plain": [
       "['3학년',\n",
       " '때부터',\n",
       " '밀크T',\n",
       " '수업을',\n",
       " '시작했고',\n",
       " '2년',\n",
       " '약정으로',\n",
       " '시작해서',\n",
       " ',',\n",
       " '연장함.연장해서',\n",
       " '1년이',\n",
       " '지났고',\n",
       " '1년이',\n",
       " '남은',\n",
       " '상태.처음엔',\n",
       " '수학',\n",
       " '과목만',\n",
       " '생각해서',\n",
       " '시작을',\n",
       " '했는데',\n",
       " '코로나로',\n",
       " '인해',\n",
       " '학교가는',\n",
       " '기간이',\n",
       " '있어서잘했다',\n",
       " '싶다.사회',\n",
       " ',',\n",
       " '과학',\n",
       " '관련',\n",
       " '내용을수',\n",
       " '있다.코딩도',\n",
       " '하고',\n",
       " ',',\n",
       " '한자',\n",
       " ',',\n",
       " '중국어도',\n",
       " '가능하니',\n",
       " '..',\n",
       " '따로',\n",
       " '학원필요',\n",
       " '없이',\n",
       " '1주일에',\n",
       " '12회',\n",
       " '보며',\n",
       " '학습하는',\n",
       " '중.밀크T',\n",
       " '초등',\n",
       " '2020년에',\n",
       " '시작할갤럭시탭',\n",
       " 'A6를',\n",
       " '기계로',\n",
       " '받았다지금은주는지',\n",
       " '모름',\n",
       " '밀크아이는',\n",
       " '갤럭시탭S',\n",
       " '시리즈는',\n",
       " '받았다고',\n",
       " '들음.처음',\n",
       " '커버',\n",
       " '벗겨',\n",
       " '보는같다패드가',\n",
       " '달린',\n",
       " '파란',\n",
       " '커버가',\n",
       " '씌워져있는데',\n",
       " '벗기기',\n",
       " '힘들어서번도하다가이번에',\n",
       " 'AS',\n",
       " '받을',\n",
       " '일이',\n",
       " '있어서',\n",
       " '벗겨본다.진짜',\n",
       " '새것',\n",
       " '같음밀크T',\n",
       " '학습',\n",
       " '화면으로',\n",
       " '되어있는데',\n",
       " ',',\n",
       " '나가기를',\n",
       " '누르면.일반',\n",
       " '탭으로도',\n",
       " '사용이',\n",
       " '가능하지만번도',\n",
       " '나가기를',\n",
       " '누르지',\n",
       " '않음',\n",
       " '.',\n",
       " 'ㅎㅎ그래서',\n",
       " '우리남매는',\n",
       " '모르는',\n",
       " '..................',\n",
       " '계속',\n",
       " '몰랐으면',\n",
       " '한다3년하고',\n",
       " '1개월이',\n",
       " '지난같다.여태사용했는데',\n",
       " ',',\n",
       " '주말이',\n",
       " '지나고',\n",
       " '충전하려고',\n",
       " '하는데',\n",
       " '3시간이',\n",
       " '넘게',\n",
       " '충전을',\n",
       " '해도',\n",
       " '1에서이상',\n",
       " '올라가지',\n",
       " '않는다',\n",
       " '.',\n",
       " '전원을',\n",
       " '켜면',\n",
       " '배터리는',\n",
       " '다시',\n",
       " '0로',\n",
       " '꺼짐.학습을',\n",
       " '하고',\n",
       " '매주',\n",
       " '1회',\n",
       " '전화맞춤',\n",
       " '코칭으로',\n",
       " '화상수업을',\n",
       " '하는데',\n",
       " '수업이',\n",
       " '있는',\n",
       " '날이다.충전이',\n",
       " '어려울같아서',\n",
       " '학습도',\n",
       " '안되고',\n",
       " '수업도',\n",
       " '안될같다.담당',\n",
       " '선생님께',\n",
       " '말씀드려서',\n",
       " '수업을',\n",
       " '미웠고',\n",
       " '바로',\n",
       " '서비스센터에',\n",
       " '가고',\n",
       " '싶었지만',\n",
       " ',',\n",
       " '막내는',\n",
       " '낮잠을',\n",
       " '자고',\n",
       " '있고',\n",
       " '월요일은',\n",
       " '서비스센터가',\n",
       " '붐벼서갔다갤럭시탭',\n",
       " 'A6',\n",
       " '배터리',\n",
       " '교체',\n",
       " '비용이',\n",
       " '궁금해서',\n",
       " '삼성전자',\n",
       " '고객센터로',\n",
       " '전화를',\n",
       " '했다',\n",
       " '.',\n",
       " '15883366배터리',\n",
       " '교체',\n",
       " '비용을',\n",
       " '물으니',\n",
       " '66,000원이라고',\n",
       " '한다.더불어',\n",
       " '어느',\n",
       " '센터로건지',\n",
       " '알려주시면',\n",
       " '재고',\n",
       " '확인을',\n",
       " '해주신다고',\n",
       " '한다근처',\n",
       " '가까운',\n",
       " '곳을',\n",
       " '알려드렸다.배터리',\n",
       " '재고는하나',\n",
       " '있다고',\n",
       " '하셨다.재고',\n",
       " '예약도',\n",
       " '가능하다고',\n",
       " '한다그냥',\n",
       " '갔는데',\n",
       " '없으면번',\n",
       " '가야뻔했다.하나',\n",
       " '남은',\n",
       " '재고',\n",
       " '예약까지',\n",
       " '했다.2주',\n",
       " '이내로',\n",
       " '방문하면',\n",
       " '된다고',\n",
       " '함.예약하고',\n",
       " '다음날',\n",
       " '바로',\n",
       " '감',\n",
       " '.',\n",
       " '배터리',\n",
       " '교체하고',\n",
       " '학습해야',\n",
       " '하니까',\n",
       " '..........',\n",
       " '오후에',\n",
       " '가니',\n",
       " '확실히붐볐다.대기',\n",
       " '없이',\n",
       " '바로',\n",
       " '엔지니어',\n",
       " '분께서',\n",
       " '불렀고',\n",
       " ',',\n",
       " '30분',\n",
       " '정도',\n",
       " '걸린다고',\n",
       " '하셨으나15분',\n",
       " '정도',\n",
       " '있으니',\n",
       " '바로주셨다.배터리',\n",
       " '교체',\n",
       " '비용',\n",
       " '66,000원',\n",
       " '결제',\n",
       " '완료.사실',\n",
       " ',',\n",
       " '1년',\n",
       " '남은',\n",
       " '시점이고',\n",
       " '내년엔',\n",
       " '중등으로',\n",
       " '넘어가야',\n",
       " '한다.아직까진',\n",
       " '중학생이',\n",
       " '되어도',\n",
       " '밀크T를',\n",
       " '계속할',\n",
       " '생각이다',\n",
       " '.',\n",
       " '그래서패드로',\n",
       " '교체를생각도',\n",
       " '했는데6학년이지금',\n",
       " '학교',\n",
       " '마치고',\n",
       " '방과후수업과',\n",
       " '영어',\n",
       " ',',\n",
       " '수학',\n",
       " '학원을',\n",
       " '다녀오면.7시시간이',\n",
       " '있을까라는',\n",
       " '생각이',\n",
       " '든다.아직',\n",
       " '6학년의',\n",
       " '생활을',\n",
       " '시작도했고봐야것',\n",
       " '같아서남은',\n",
       " '1년',\n",
       " '동안',\n",
       " '계속',\n",
       " '유지가',\n",
       " '될지',\n",
       " '중간에',\n",
       " '그만둘지',\n",
       " '아무도',\n",
       " '모른다.그래서패드로',\n",
       " '교환보다는',\n",
       " '배터리',\n",
       " '교체를',\n",
       " '했다.5학년',\n",
       " '초반까지만',\n",
       " '해도',\n",
       " '스스로',\n",
       " '자기주도학습이되었는데',\n",
       " '점점',\n",
       " '.....',\n",
       " '하라고',\n",
       " '하라고',\n",
       " '해야',\n",
       " '하는',\n",
       " '중.그래서',\n",
       " '얼마나할있을지',\n",
       " '모르겠다.그렇지만',\n",
       " ',',\n",
       " '학습하는',\n",
       " '내용은',\n",
       " '아주',\n",
       " '도움이',\n",
       " '되니까',\n",
       " ',',\n",
       " '계속',\n",
       " '유지하길',\n",
       " '바라는마음',\n",
       " '.........',\n",
       " '서비스센터가',\n",
       " '집에서',\n",
       " '가까워서',\n",
       " '막내',\n",
       " '유모차',\n",
       " '태우고',\n",
       " '걸어갔는데',\n",
       " ',',\n",
       " '왕복',\n",
       " '30분',\n",
       " '거리를',\n",
       " '걸어갔다',\n",
       " '왔더니캐시워크가',\n",
       " '오늘',\n",
       " '하루',\n",
       " '만보를',\n",
       " '걸었단다',\n",
       " '.',\n",
       " '괜히',\n",
       " '뿌듯',\n",
       " '.']"
      ]
     },
     "execution_count": 107,
     "metadata": {},
     "output_type": "execute_result"
    }
   ],
   "source": [
    "from nltk.tokenize import word_tokenize\n",
    "\n",
    "tokens = word_tokenize(s)\n",
    "tokens"
   ]
  },
  {
   "cell_type": "code",
   "execution_count": 108,
   "metadata": {},
   "outputs": [
    {
     "name": "stdout",
     "output_type": "stream",
     "text": [
      "Kkma 형태소 분석 :  [('3', 'NR'), ('학년', 'NNG'), ('때', 'NNG'), ('부터', 'JX'), ('밀크', 'NNG'), ('T', 'OL'), ('수업', 'NNG'), ('을', 'JKO'), ('시작하', 'VV'), ('었', 'EPT'), ('고', 'ECE')]\n",
      "Hannaum 형태소 분석 :  [('3학년', 'N'), ('때', 'N'), ('부터', 'J'), ('밀크T', 'N'), ('수업', 'N'), ('을', 'J'), ('시작', 'N'), ('하', 'X'), ('었고', 'E')]\n",
      "Komoran 형태소 분석 :  [('3', 'SN'), ('학년', 'NNG'), ('때', 'NNG'), ('부터', 'JX'), ('밀크', 'NNP'), ('T', 'SL'), ('수업', 'NNG'), ('을', 'JKO'), ('시작', 'NNG'), ('하', 'XSV'), ('았', 'EP'), ('고', 'EC')]\n",
      "Twitter 형태소 분석 :  [('3', 'Number'), ('학년', 'Noun'), ('때', 'Noun'), ('부터', 'Josa'), ('밀크', 'Noun'), ('T', 'Alpha'), ('수업', 'Noun'), ('을', 'Josa'), ('시작', 'Noun'), ('했고', 'Verb')]\n",
      "Okt 형태소 분석 :  [('3', 'Number'), ('학년', 'Noun'), ('때', 'Noun'), ('부터', 'Josa'), ('밀크', 'Noun'), ('T', 'Alpha'), ('수업', 'Noun'), ('을', 'Josa'), ('시작', 'Noun'), ('했고', 'Verb')]\n"
     ]
    }
   ],
   "source": [
    "print('Kkma 형태소 분석 : ', Kkma.pos(s[:20]))\n",
    "print('Hannaum 형태소 분석 : ', hannanum.pos(s[:20]))\n",
    "print('Komoran 형태소 분석 : ', Komoran.pos(s[:20]))\n",
    "print('Twitter 형태소 분석 : ', twitter.pos(s[:20]))\n",
    "print('Okt 형태소 분석 : ', okt.pos(s[:20]))\n",
    "# print('Mecab 형태소 분석 : ', mecab.pos(sentence))\n",
    "\n",
    "# '3학년', '밀크T'를 묶는 모습에서 Hannaum이 일단은 제일 나아보인다"
   ]
  },
  {
   "cell_type": "code",
   "execution_count": 109,
   "metadata": {},
   "outputs": [],
   "source": [
    "# !pip install textblob"
   ]
  },
  {
   "cell_type": "code",
   "execution_count": 110,
   "metadata": {},
   "outputs": [
    {
     "name": "stdout",
     "output_type": "stream",
     "text": [
      "Kkma 형태소 분석 :  ['3', '3학년', '학년', '때', '밀크', '수업']\n",
      "Hannaum 형태소 분석 :  ['3학년', '때', '밀크T', '수업', '시작']\n",
      "Komoran 형태소 분석 :  ['학년', '때', '밀크', '수업', '시작']\n",
      "Twitter 형태소 분석 :  ['학년', '때', '밀크', '수업', '시작']\n",
      "Okt 형태소 분석 :  ['학년', '때', '밀크', '수업', '시작']\n",
      "\n",
      "--------------------------------------------\n",
      "\n",
      "Kkma 형태소 분석 :  ['밀크', '특징', '아이스', '아이스크림', '크림', '홈런', '엘', '엘리하이', '리', '하이']\n",
      "Hannaum 형태소 분석 :  ['밀크T', '특징', '아이스크림', '홈런', '특징', '엘리하이', '특징']\n",
      "Komoran 형태소 분석 :  ['밀크', '특징', '아이스크림', '홈런', '특징', '엘리', '하이', '특징']\n",
      "Twitter 형태소 분석 :  ['밀크', '의', '특징', '아이스크림', '홈런', '특징', '엘리', '이의', '특징', '대해']\n",
      "Okt 형태소 분석 :  ['밀크', '의', '특징', '아이스크림', '홈런', '특징', '엘리', '이의', '특징', '대해']\n",
      "\n",
      "-------------------------------------------\n",
      "\n",
      "[('밀크T의', '특징과'), ('특징과', '아이스크림'), ('아이스크림', '홈런의'), ('홈런의', '특징'), ('특징', '그리고'), ('그리고', '엘리하이의'), ('엘리하이의', '특징에'), ('특징에', '대해서'), ('대해서', '알아보겠습니다.')]\n"
     ]
    },
    {
     "data": {
      "text/plain": [
       "[WordList(['밀크T의', '특징과']),\n",
       " WordList(['특징과', '아이스크림']),\n",
       " WordList(['아이스크림', '홈런의']),\n",
       " WordList(['홈런의', '특징']),\n",
       " WordList(['특징', '그리고']),\n",
       " WordList(['그리고', '엘리하이의']),\n",
       " WordList(['엘리하이의', '특징에']),\n",
       " WordList(['특징에', '대해서']),\n",
       " WordList(['대해서', '알아보겠습니다'])]"
      ]
     },
     "execution_count": 110,
     "metadata": {},
     "output_type": "execute_result"
    }
   ],
   "source": [
    "# 키워드 찾기 기능?!\n",
    "# 밀크T 가 온전히 나오는게 나쁘지 않을듯 하기도 하구...\n",
    "# 혹은 n-gram추출을 통해서 밀크+T 아이스크림+홈런 같은 식으로 검색을 진행해봐도 괜찮을 듯 하다.\n",
    "\n",
    "print('Kkma 형태소 분석 : ', Kkma.nouns(s[:20]))\n",
    "print('Hannaum 형태소 분석 : ', hannanum.nouns(s[:20]))\n",
    "print('Komoran 형태소 분석 : ', Komoran.nouns(s[:20]))\n",
    "print('Twitter 형태소 분석 : ', twitter.nouns(s[:20]))\n",
    "print('Okt 형태소 분석 : ', okt.nouns(s[:20]))\n",
    "# print('Mecab 형태소 분석 : ', mecab.nouns(sentence))\n",
    "print('\\n--------------------------------------------\\n')\n",
    "\n",
    "ex_sentence = '밀크T의 특징과 아이스크림 홈런의 특징 그리고 엘리하이의 특징에 대해서 알아보겠습니다.'\n",
    "print('Kkma 형태소 분석 : ', Kkma.nouns(ex_sentence))\n",
    "print('Hannaum 형태소 분석 : ', hannanum.nouns(ex_sentence))\n",
    "print('Komoran 형태소 분석 : ', Komoran.nouns(ex_sentence))\n",
    "print('Twitter 형태소 분석 : ', twitter.nouns(ex_sentence))\n",
    "print('Okt 형태소 분석 : ', okt.nouns(ex_sentence))\n",
    "\n",
    "print('\\n-------------------------------------------\\n')\n",
    "\n",
    "from nltk import ngrams\n",
    "from textblob import TextBlob\n",
    "\n",
    "bigram = list(ngrams(ex_sentence.split(), 2))\n",
    "print(bigram)\n",
    "blob = TextBlob(ex_sentence)\n",
    "blob.ngrams(n=2)"
   ]
  },
  {
   "cell_type": "markdown",
   "metadata": {},
   "source": [
    "### 단어 빈출 분석\n",
    "\n",
    "#### 방법\n",
    "1. 명사만 추출하여 빈출어 정리\n",
    "    - 불용어 리스트를 만든 뒤, 불용어를 제외하여 형태소 분석 진행\n",
    "    - 단어 빈도 추출\n",
    "    - 단어들만 : 밀크T, 아이스크림, 태블릿, \n",
    "    - 단어 빈도 시각화\n",
    "        - barchar\n",
    "        - treemap\n",
    "        - wordcloud\n",
    "        <br>\n",
    "1. 형태소 분석을 통해 각 문장에서 명사 / 형용사 등을 추출하여서 긍정적/부정적 키워드 분류 및 통계분석 (ex. 밀크T : 재밌게 하네요)"
   ]
  },
  {
   "cell_type": "markdown",
   "metadata": {},
   "source": [
    "### 우선 Hannanum 으로 진행\n",
    "\n",
    "### Hannanum\n",
    "- 태그\n",
    "    - N : 명사\n",
    "        - NC : 보통명사\n",
    "        - NQ : 고유명사\n",
    "        - NB : 의존명사\n",
    "        - NP : 대명사\n",
    "        - NN : 수사\n",
    "    \n",
    "    - P : 용언\n",
    "        - PV : 동사\n",
    "        - PA : 형용사\n",
    "        - PX : 보조용언\n",
    "\n",
    "    - M : 수식언\n",
    "        - MM : 관형사\n",
    "        - MA : 부사\n",
    "    \n",
    "    - I : 독립언\n",
    "    - J : 관계언\n",
    "        - JC : 격조사\n",
    "        - JX : 보조사\n",
    "        - JP : 서술격조사\n",
    "\n",
    "    - E : 어미\n",
    "    - X : 접사"
   ]
  },
  {
   "cell_type": "code",
   "execution_count": 111,
   "metadata": {},
   "outputs": [
    {
     "name": "stdout",
     "output_type": "stream",
     "text": [
      "Hannaum 형태소 분석 :  ['3학년', '때', '밀크T', '수업', '시작']\n",
      "Hannaum 형태소 분석 :  [('3학년', 'N'), ('때', 'N'), ('부터', 'J'), ('밀크T', 'N'), ('수업', 'N'), ('을', 'J'), ('시작', 'N'), ('하', 'X'), ('었고', 'E')]\n"
     ]
    }
   ],
   "source": [
    "print('Hannaum 형태소 분석 : ', hannanum.nouns(s[:20]))\n",
    "print('Hannaum 형태소 분석 : ', hannanum.pos(s[:20]))\n",
    "a = hannanum.nouns(s[:20])\n",
    "b = hannanum.pos(s[:20])"
   ]
  },
  {
   "cell_type": "code",
   "execution_count": 112,
   "metadata": {},
   "outputs": [
    {
     "name": "stdout",
     "output_type": "stream",
     "text": [
      "[('3학년', 'N'), ('때', 'N'), ('부터', 'J'), ('밀크T', 'N'), ('수업', 'N'), ('을', 'J'), ('시작', 'N'), ('하', 'X'), ('었고', 'E')]\n",
      "3학년 N\n"
     ]
    }
   ],
   "source": [
    "print(b)\n",
    "print(b[0][0], b[0][1])"
   ]
  },
  {
   "cell_type": "code",
   "execution_count": 113,
   "metadata": {},
   "outputs": [],
   "source": [
    "ex_sentence2 = '밀크T의 장점은 편하고 아이스크림 홈런의 장점은 귀엽고 엘리하이의 단점은 어려운 것 같아요'"
   ]
  },
  {
   "cell_type": "code",
   "execution_count": 114,
   "metadata": {},
   "outputs": [
    {
     "data": {
      "text/plain": [
       "{'학습': 6,\n",
       " '배터리': 6,\n",
       " '교체': 5,\n",
       " '수업': 4,\n",
       " '1년': 4,\n",
       " '밀크T': 3,\n",
       " '생각': 3,\n",
       " '충전': 3,\n",
       " '서비스센터': 3,\n",
       " '비용': 3,\n",
       " '재고': 3,\n",
       " '예약': 3,\n",
       " '시작': 2,\n",
       " '수학': 2,\n",
       " '학교': 2,\n",
       " '가능': 2,\n",
       " '중': 2,\n",
       " 'A6': 2,\n",
       " '커버': 2,\n",
       " '막내': 2,\n",
       " '66,000원': 2,\n",
       " '30분': 2,\n",
       " '정도': 2,\n",
       " '그래서패드': 2,\n",
       " '3학년': 1,\n",
       " '때': 1,\n",
       " '2년': 1,\n",
       " '약정': 1,\n",
       " '시작해서': 1,\n",
       " '연장': 1,\n",
       " '연장해서': 1,\n",
       " '상태': 1,\n",
       " '처음': 1,\n",
       " '과목': 1,\n",
       " '코로나': 1,\n",
       " '기간': 1,\n",
       " '있어서잘했다': 1,\n",
       " '사회': 1,\n",
       " '과학': 1,\n",
       " '관련': 1,\n",
       " '내용을수': 1,\n",
       " '코딩': 1,\n",
       " '자': 1,\n",
       " '중국어': 1,\n",
       " '학원필요': 1,\n",
       " '1주일': 1,\n",
       " '12회': 1,\n",
       " '초등': 1,\n",
       " '2020년': 1,\n",
       " '시작할갤럭시탭': 1,\n",
       " '기계': 1,\n",
       " '받았다지금은주는지': 1,\n",
       " '밀크아이': 1,\n",
       " '갤럭시탭S': 1,\n",
       " '시리즈': 1,\n",
       " '보는같다패드': 1,\n",
       " '힘들어서번도하다가이번': 1,\n",
       " '일': 1,\n",
       " '진짜': 1,\n",
       " '새것': 1,\n",
       " '같음밀크T': 1,\n",
       " '화면': 1,\n",
       " '일반': 1,\n",
       " '탭': 1,\n",
       " '사용': 1,\n",
       " '가능하지만번': 1,\n",
       " 'ㅎㅎ그래서': 1,\n",
       " '우리남매': 1,\n",
       " '한다3년하': 1,\n",
       " '1개월': 1,\n",
       " '지난': 1,\n",
       " '여태사용했는데,': 1,\n",
       " '주말': 1,\n",
       " '지': 1,\n",
       " '3시간': 1,\n",
       " '1에서이상': 1,\n",
       " '전원': 1,\n",
       " '0': 1,\n",
       " '1회': 1,\n",
       " '전화맞춤': 1,\n",
       " '코칭': 1,\n",
       " '화상수업': 1,\n",
       " '날': 1,\n",
       " '어려울같아서': 1,\n",
       " '안될같다': 1,\n",
       " '담당': 1,\n",
       " '선생님': 1,\n",
       " '낮잠': 1,\n",
       " '월요일': 1,\n",
       " '붐벼서갔다갤럭시탭': 1,\n",
       " '궁금': 1,\n",
       " '삼성전자': 1,\n",
       " '고객센터': 1,\n",
       " '전화': 1,\n",
       " '15883366배터리': 1,\n",
       " '센터로건지': 1,\n",
       " '확인': 1,\n",
       " '한다근처': 1,\n",
       " '곳': 1,\n",
       " '한다그냥': 1}"
      ]
     },
     "execution_count": 114,
     "metadata": {},
     "output_type": "execute_result"
    }
   ],
   "source": [
    "from collections import Counter\n",
    "\n",
    "test_noun = hannanum.nouns(df.contents[0])\n",
    "test_count = Counter(test_noun)\n",
    "test_top_nouns = dict(test_count.most_common(100))\n",
    "test_top_nouns"
   ]
  },
  {
   "cell_type": "code",
   "execution_count": 115,
   "metadata": {},
   "outputs": [
    {
     "name": "stdout",
     "output_type": "stream",
     "text": [
      "['a']\n",
      "['a', 'b']\n"
     ]
    }
   ],
   "source": [
    "test_dict = {}\n",
    "test_dict['a'] = ['a']\n",
    "print(test_dict.get('a'))\n",
    "\n",
    "test_dict.get('a').append('b')\n",
    "print(test_dict.get('a'))"
   ]
  },
  {
   "cell_type": "code",
   "execution_count": 116,
   "metadata": {},
   "outputs": [],
   "source": [
    "icecream_list = []\n",
    "elihigh_list = []\n",
    "\n",
    "for i in df['contents']:\n",
    "    if '아이스크림' in i:\n",
    "        icecream_list.append(True)\n",
    "\n",
    "    else:\n",
    "        icecream_list.append(False)\n",
    "\n",
    "for i in df['contents']:\n",
    "    if '엘리하' in i:\n",
    "        elihigh_list.append(True)\n",
    "\n",
    "    else:\n",
    "        elihigh_list.append(False)"
   ]
  },
  {
   "cell_type": "code",
   "execution_count": 117,
   "metadata": {},
   "outputs": [],
   "source": [
    "def keyword_search(df, key1):\n",
    "\n",
    "    key1_list = []\n",
    "    key2_list = []\n",
    "\n",
    "    for i in df['contents']:\n",
    "        if '아이스크림' in i:\n",
    "            key1_list.append(True)\n",
    "\n",
    "        else:\n",
    "            key1_list.append(False)\n",
    "\n",
    "    df[key1] = key1_list\n",
    "    return df"
   ]
  },
  {
   "cell_type": "code",
   "execution_count": 118,
   "metadata": {},
   "outputs": [
    {
     "data": {
      "text/html": [
       "<div>\n",
       "<style scoped>\n",
       "    .dataframe tbody tr th:only-of-type {\n",
       "        vertical-align: middle;\n",
       "    }\n",
       "\n",
       "    .dataframe tbody tr th {\n",
       "        vertical-align: top;\n",
       "    }\n",
       "\n",
       "    .dataframe thead th {\n",
       "        text-align: right;\n",
       "    }\n",
       "</style>\n",
       "<table border=\"1\" class=\"dataframe\">\n",
       "  <thead>\n",
       "    <tr style=\"text-align: right;\">\n",
       "      <th></th>\n",
       "      <th>contents</th>\n",
       "      <th>recommend</th>\n",
       "    </tr>\n",
       "  </thead>\n",
       "  <tbody>\n",
       "    <tr>\n",
       "      <th>0</th>\n",
       "      <td>3학년 때부터 밀크T 수업을 시작했고 2년 약정으로 시작해서,연장함. 연장해서 1년...</td>\n",
       "      <td>False</td>\n",
       "    </tr>\n",
       "    <tr>\n",
       "      <th>1</th>\n",
       "      <td>밀크티패드를 시작한지 2개월을 채워가는 중이네요 작년 12월 말, 급한 마음에 바로...</td>\n",
       "      <td>True</td>\n",
       "    </tr>\n",
       "    <tr>\n",
       "      <th>2</th>\n",
       "      <td>밀크T 친구 추천 이벤트밀크티 학습지 남매 2년 사용, 연장 후기3월9일수정 해요2...</td>\n",
       "      <td>True</td>\n",
       "    </tr>\n",
       "    <tr>\n",
       "      <th>3</th>\n",
       "      <td>새학기 되면서 아이들 학원 스케줄 짜느라 분주한 분들 많으시죠. 저는 올해 중학생이...</td>\n",
       "      <td>True</td>\n",
       "    </tr>\n",
       "    <tr>\n",
       "      <th>4</th>\n",
       "      <td>연두는 현재 6학년으로 예비중등입니다. 저학년 때부터 밀크티에 정착했는데요영어 수학...</td>\n",
       "      <td>False</td>\n",
       "    </tr>\n",
       "    <tr>\n",
       "      <th>...</th>\n",
       "      <td>...</td>\n",
       "      <td>...</td>\n",
       "    </tr>\n",
       "    <tr>\n",
       "      <th>118</th>\n",
       "      <td>새로운 선생님과 친구들을 만날 생각에 신이 나서 개학을 기다렸는데학교도 개학이 연기...</td>\n",
       "      <td>False</td>\n",
       "    </tr>\n",
       "    <tr>\n",
       "      <th>119</th>\n",
       "      <td>이제 3학년이 되는 아드님은 오늘도 열심히 밀크T학습을 하면서 학습을 진행하고 있어...</td>\n",
       "      <td>False</td>\n",
       "    </tr>\n",
       "    <tr>\n",
       "      <th>120</th>\n",
       "      <td>초등인강 추천아이 눈높이에 딱요 며칠간 아이들이 정말 신나 보였어요. 이렇게 신나있...</td>\n",
       "      <td>False</td>\n",
       "    </tr>\n",
       "    <tr>\n",
       "      <th>121</th>\n",
       "      <td>안녕하세요. 강북구과외 선생님입니다. 학생들을 지도한지 5년 정도 되었습니다. 강북...</td>\n",
       "      <td>False</td>\n",
       "    </tr>\n",
       "    <tr>\n",
       "      <th>122</th>\n",
       "      <td>안녕하세요. 과천과외 선생님입니다. 학생들을 지도한지 5년 정도 되었습니다. 과천 ...</td>\n",
       "      <td>False</td>\n",
       "    </tr>\n",
       "  </tbody>\n",
       "</table>\n",
       "<p>123 rows × 2 columns</p>\n",
       "</div>"
      ],
      "text/plain": [
       "                                              contents  recommend\n",
       "0    3학년 때부터 밀크T 수업을 시작했고 2년 약정으로 시작해서,연장함. 연장해서 1년...      False\n",
       "1    밀크티패드를 시작한지 2개월을 채워가는 중이네요 작년 12월 말, 급한 마음에 바로...       True\n",
       "2    밀크T 친구 추천 이벤트밀크티 학습지 남매 2년 사용, 연장 후기3월9일수정 해요2...       True\n",
       "3    새학기 되면서 아이들 학원 스케줄 짜느라 분주한 분들 많으시죠. 저는 올해 중학생이...       True\n",
       "4    연두는 현재 6학년으로 예비중등입니다. 저학년 때부터 밀크티에 정착했는데요영어 수학...      False\n",
       "..                                                 ...        ...\n",
       "118  새로운 선생님과 친구들을 만날 생각에 신이 나서 개학을 기다렸는데학교도 개학이 연기...      False\n",
       "119  이제 3학년이 되는 아드님은 오늘도 열심히 밀크T학습을 하면서 학습을 진행하고 있어...      False\n",
       "120  초등인강 추천아이 눈높이에 딱요 며칠간 아이들이 정말 신나 보였어요. 이렇게 신나있...      False\n",
       "121  안녕하세요. 강북구과외 선생님입니다. 학생들을 지도한지 5년 정도 되었습니다. 강북...      False\n",
       "122  안녕하세요. 과천과외 선생님입니다. 학생들을 지도한지 5년 정도 되었습니다. 과천 ...      False\n",
       "\n",
       "[123 rows x 2 columns]"
      ]
     },
     "execution_count": 118,
     "metadata": {},
     "output_type": "execute_result"
    }
   ],
   "source": [
    "df_2 = df.copy()\n",
    "df_2.drop('contents_list', axis=1, inplace=True)\n",
    "df_2\n",
    "# keyword_search(df, '아이스크림')"
   ]
  },
  {
   "cell_type": "code",
   "execution_count": 119,
   "metadata": {},
   "outputs": [
    {
     "data": {
      "text/html": [
       "<div>\n",
       "<style scoped>\n",
       "    .dataframe tbody tr th:only-of-type {\n",
       "        vertical-align: middle;\n",
       "    }\n",
       "\n",
       "    .dataframe tbody tr th {\n",
       "        vertical-align: top;\n",
       "    }\n",
       "\n",
       "    .dataframe thead th {\n",
       "        text-align: right;\n",
       "    }\n",
       "</style>\n",
       "<table border=\"1\" class=\"dataframe\">\n",
       "  <thead>\n",
       "    <tr style=\"text-align: right;\">\n",
       "      <th></th>\n",
       "      <th>contents</th>\n",
       "      <th>recommend</th>\n",
       "      <th>icecream</th>\n",
       "      <th>elihigh</th>\n",
       "    </tr>\n",
       "  </thead>\n",
       "  <tbody>\n",
       "    <tr>\n",
       "      <th>0</th>\n",
       "      <td>3학년 때부터 밀크T 수업을 시작했고 2년 약정으로 시작해서,연장함. 연장해서 1년...</td>\n",
       "      <td>False</td>\n",
       "      <td>False</td>\n",
       "      <td>False</td>\n",
       "    </tr>\n",
       "    <tr>\n",
       "      <th>1</th>\n",
       "      <td>밀크티패드를 시작한지 2개월을 채워가는 중이네요 작년 12월 말, 급한 마음에 바로...</td>\n",
       "      <td>True</td>\n",
       "      <td>False</td>\n",
       "      <td>False</td>\n",
       "    </tr>\n",
       "    <tr>\n",
       "      <th>2</th>\n",
       "      <td>밀크T 친구 추천 이벤트밀크티 학습지 남매 2년 사용, 연장 후기3월9일수정 해요2...</td>\n",
       "      <td>True</td>\n",
       "      <td>True</td>\n",
       "      <td>False</td>\n",
       "    </tr>\n",
       "    <tr>\n",
       "      <th>3</th>\n",
       "      <td>새학기 되면서 아이들 학원 스케줄 짜느라 분주한 분들 많으시죠. 저는 올해 중학생이...</td>\n",
       "      <td>True</td>\n",
       "      <td>False</td>\n",
       "      <td>False</td>\n",
       "    </tr>\n",
       "    <tr>\n",
       "      <th>4</th>\n",
       "      <td>연두는 현재 6학년으로 예비중등입니다. 저학년 때부터 밀크티에 정착했는데요영어 수학...</td>\n",
       "      <td>False</td>\n",
       "      <td>False</td>\n",
       "      <td>False</td>\n",
       "    </tr>\n",
       "    <tr>\n",
       "      <th>...</th>\n",
       "      <td>...</td>\n",
       "      <td>...</td>\n",
       "      <td>...</td>\n",
       "      <td>...</td>\n",
       "    </tr>\n",
       "    <tr>\n",
       "      <th>118</th>\n",
       "      <td>새로운 선생님과 친구들을 만날 생각에 신이 나서 개학을 기다렸는데학교도 개학이 연기...</td>\n",
       "      <td>False</td>\n",
       "      <td>True</td>\n",
       "      <td>False</td>\n",
       "    </tr>\n",
       "    <tr>\n",
       "      <th>119</th>\n",
       "      <td>이제 3학년이 되는 아드님은 오늘도 열심히 밀크T학습을 하면서 학습을 진행하고 있어...</td>\n",
       "      <td>False</td>\n",
       "      <td>False</td>\n",
       "      <td>False</td>\n",
       "    </tr>\n",
       "    <tr>\n",
       "      <th>120</th>\n",
       "      <td>초등인강 추천아이 눈높이에 딱요 며칠간 아이들이 정말 신나 보였어요. 이렇게 신나있...</td>\n",
       "      <td>False</td>\n",
       "      <td>False</td>\n",
       "      <td>False</td>\n",
       "    </tr>\n",
       "    <tr>\n",
       "      <th>121</th>\n",
       "      <td>안녕하세요. 강북구과외 선생님입니다. 학생들을 지도한지 5년 정도 되었습니다. 강북...</td>\n",
       "      <td>False</td>\n",
       "      <td>False</td>\n",
       "      <td>False</td>\n",
       "    </tr>\n",
       "    <tr>\n",
       "      <th>122</th>\n",
       "      <td>안녕하세요. 과천과외 선생님입니다. 학생들을 지도한지 5년 정도 되었습니다. 과천 ...</td>\n",
       "      <td>False</td>\n",
       "      <td>False</td>\n",
       "      <td>False</td>\n",
       "    </tr>\n",
       "  </tbody>\n",
       "</table>\n",
       "<p>123 rows × 4 columns</p>\n",
       "</div>"
      ],
      "text/plain": [
       "                                              contents  recommend  icecream  \\\n",
       "0    3학년 때부터 밀크T 수업을 시작했고 2년 약정으로 시작해서,연장함. 연장해서 1년...      False     False   \n",
       "1    밀크티패드를 시작한지 2개월을 채워가는 중이네요 작년 12월 말, 급한 마음에 바로...       True     False   \n",
       "2    밀크T 친구 추천 이벤트밀크티 학습지 남매 2년 사용, 연장 후기3월9일수정 해요2...       True      True   \n",
       "3    새학기 되면서 아이들 학원 스케줄 짜느라 분주한 분들 많으시죠. 저는 올해 중학생이...       True     False   \n",
       "4    연두는 현재 6학년으로 예비중등입니다. 저학년 때부터 밀크티에 정착했는데요영어 수학...      False     False   \n",
       "..                                                 ...        ...       ...   \n",
       "118  새로운 선생님과 친구들을 만날 생각에 신이 나서 개학을 기다렸는데학교도 개학이 연기...      False      True   \n",
       "119  이제 3학년이 되는 아드님은 오늘도 열심히 밀크T학습을 하면서 학습을 진행하고 있어...      False     False   \n",
       "120  초등인강 추천아이 눈높이에 딱요 며칠간 아이들이 정말 신나 보였어요. 이렇게 신나있...      False     False   \n",
       "121  안녕하세요. 강북구과외 선생님입니다. 학생들을 지도한지 5년 정도 되었습니다. 강북...      False     False   \n",
       "122  안녕하세요. 과천과외 선생님입니다. 학생들을 지도한지 5년 정도 되었습니다. 과천 ...      False     False   \n",
       "\n",
       "     elihigh  \n",
       "0      False  \n",
       "1      False  \n",
       "2      False  \n",
       "3      False  \n",
       "4      False  \n",
       "..       ...  \n",
       "118    False  \n",
       "119    False  \n",
       "120    False  \n",
       "121    False  \n",
       "122    False  \n",
       "\n",
       "[123 rows x 4 columns]"
      ]
     },
     "execution_count": 119,
     "metadata": {},
     "output_type": "execute_result"
    }
   ],
   "source": [
    "df_contents = df.copy()\n",
    "df_contents.drop('contents_list', axis=1, inplace=True)\n",
    "df_contents['icecream'] = icecream_list\n",
    "df_contents['elihigh'] = elihigh_list\n",
    "df_contents"
   ]
  },
  {
   "cell_type": "code",
   "execution_count": 120,
   "metadata": {},
   "outputs": [
    {
     "data": {
      "text/html": [
       "<div>\n",
       "<style scoped>\n",
       "    .dataframe tbody tr th:only-of-type {\n",
       "        vertical-align: middle;\n",
       "    }\n",
       "\n",
       "    .dataframe tbody tr th {\n",
       "        vertical-align: top;\n",
       "    }\n",
       "\n",
       "    .dataframe thead th {\n",
       "        text-align: right;\n",
       "    }\n",
       "</style>\n",
       "<table border=\"1\" class=\"dataframe\">\n",
       "  <thead>\n",
       "    <tr style=\"text-align: right;\">\n",
       "      <th></th>\n",
       "      <th>contents</th>\n",
       "      <th>recommend</th>\n",
       "      <th>icecream</th>\n",
       "      <th>elihigh</th>\n",
       "    </tr>\n",
       "  </thead>\n",
       "  <tbody>\n",
       "    <tr>\n",
       "      <th>0</th>\n",
       "      <td>코로나 시국 초기에 시작한 밀크T가 벌써 2년이 되어서 연장을 하게 되었다. 코로나...</td>\n",
       "      <td>True</td>\n",
       "      <td>True</td>\n",
       "      <td>True</td>\n",
       "    </tr>\n",
       "    <tr>\n",
       "      <th>1</th>\n",
       "      <td>이제 초등학교 고학년인 아들. 매일 뒹굴거리며 심심하다 노래 부른다. 학원은 태권도...</td>\n",
       "      <td>True</td>\n",
       "      <td>True</td>\n",
       "      <td>True</td>\n",
       "    </tr>\n",
       "    <tr>\n",
       "      <th>2</th>\n",
       "      <td>초등 인강 밀크T, 엘리하이, 와이즈캠프 체험올해 6학년이 되는 우리 큰아이는 영어...</td>\n",
       "      <td>False</td>\n",
       "      <td>True</td>\n",
       "      <td>True</td>\n",
       "    </tr>\n",
       "    <tr>\n",
       "      <th>3</th>\n",
       "      <td>초등학생 인강홈런 VS 밀크티 온라인학습 비교 무료체험 솔직 후기 홈런 오른 밀크티...</td>\n",
       "      <td>True</td>\n",
       "      <td>True</td>\n",
       "      <td>True</td>\n",
       "    </tr>\n",
       "    <tr>\n",
       "      <th>4</th>\n",
       "      <td>안녕하세요해피블루입니다. 즐거운 주말 보내고 계신가요주말은 밍기적거리면서 낮잠도 자...</td>\n",
       "      <td>True</td>\n",
       "      <td>True</td>\n",
       "      <td>True</td>\n",
       "    </tr>\n",
       "  </tbody>\n",
       "</table>\n",
       "</div>"
      ],
      "text/plain": [
       "                                            contents  recommend  icecream  \\\n",
       "0  코로나 시국 초기에 시작한 밀크T가 벌써 2년이 되어서 연장을 하게 되었다. 코로나...       True      True   \n",
       "1  이제 초등학교 고학년인 아들. 매일 뒹굴거리며 심심하다 노래 부른다. 학원은 태권도...       True      True   \n",
       "2  초등 인강 밀크T, 엘리하이, 와이즈캠프 체험올해 6학년이 되는 우리 큰아이는 영어...      False      True   \n",
       "3  초등학생 인강홈런 VS 밀크티 온라인학습 비교 무료체험 솔직 후기 홈런 오른 밀크티...       True      True   \n",
       "4  안녕하세요해피블루입니다. 즐거운 주말 보내고 계신가요주말은 밍기적거리면서 낮잠도 자...       True      True   \n",
       "\n",
       "   elihigh  \n",
       "0     True  \n",
       "1     True  \n",
       "2     True  \n",
       "3     True  \n",
       "4     True  "
      ]
     },
     "execution_count": 120,
     "metadata": {},
     "output_type": "execute_result"
    }
   ],
   "source": [
    "df_test = df_contents[df_contents['elihigh'] == True]\n",
    "df_test = df_test[df_test['icecream'] == True]\n",
    "df_test.reset_index(drop=True, inplace=True)\n",
    "df_test"
   ]
  },
  {
   "cell_type": "code",
   "execution_count": 121,
   "metadata": {},
   "outputs": [
    {
     "data": {
      "text/plain": [
       "'죄송합니다 띠로리 밀크티 오른 홈런그런 저도 어쩔없었습니다 ㅋㅋ정말 이건 시킬 생각 없다며 자신했었는데코로오나 네가발목을 잡았구나. 아놔 ㅠㅠ이왕이면아이에게 지면수업 위주의 교육을 시키고싶었고, 인터넷강의 패드수업 온라인강의 등은최대한 늦게 늦게 접하게주려고했었는데. 무너짐요1년 동안 아무 교육도시키고, 학원도중단하고 나니. 정말공허함과 불안감은이루 말할없었습니다즤 집은 애미 혼자 문제 신랑이 중간중간 제가 고민할 때마다괜찮다, 학원 대신 우리 승준이는다른 것을얻은 것이 많다, 걱정하지 말자. 등등의다양한 위로를 해주며 함께 교육했지만. 이놈의 ㅈ1럴 맞은 애어매 성격상. 신랑처럼 평화로운 마음의 소유자가 아니므로저는 아이가 초등학교 3학년이 되는 올해1월부터 당장 시작해야겠다고마음 먹었습니다 무엇바로왼 밀크티 오른 홈런 펜을 꺼내어 수업해요 초등인강 초등인터넷강의초등패드수업 초등홈스쿨 대명사인밀크T VS 홈런 이요. 즈이 신랑은 무료체험으로 밀크티수업 홈런수업 2가지신청했다는말을 듣고는처음에는 살짜콩 놀라는 눈치였지만너무했다고, 좋은 점이 분명 있을 테니 학원대신 현재 집에서 우리가 시키고 있는 홈스쿨과 같이 추가로 시너지 효과 내기에좋은 프로그램이거라고절 칭찬해 주더라고요. 푸하하 ㅋㅋㅋ뭐든 제가 저지른 일들을 칭찬하고보는 즈이 신랑입니다 아놔 ㅋㅋㅋ 공감해주니 고마운 단짝이지요. 아이 학습도 언제나 함께해 주니 제가 그나마 스트레스의 늪에서 잘빠져 나오고 있고요. 엄마표수업아빠표수업 공존해야합니다 그렇다면각각 10일 동안의 무료체험 수업을 해보고 나서 느낀 솔직 후기를 전해 드릴게요. 다만, 저희 아이와 저희 부부의 의견이기 때문에 참고만주세요2가지 온라인학습지아이스크림홈런먼저 소개할게요. 결론 먼저 말씀 드리면 2가지중 정말 고민이수밖에 없는 것이둘정말 좋아요. ㅠㅠ그래서꼬오오오오옥아이에게 무료체험학습 시켜 보신 후결정하시길 아주아주 격하게 추천드리는 바입니다. 아이에 따라 선호도가 정말제각각이라 체험수업 필수예요. 일단홈런 태블릿 학습기 스타일 자체 '"
      ]
     },
     "execution_count": 121,
     "metadata": {},
     "output_type": "execute_result"
    }
   ],
   "source": [
    "sentence_96 = df_test['contents'][3]\n",
    "sentence_96[1000:2000]"
   ]
  },
  {
   "cell_type": "markdown",
   "metadata": {},
   "source": [
    "### 설계해보자...\n",
    "\n",
    "key1 = '밀크'\n",
    "key2 = '홈런'\n",
    "\n",
    "1. key값이 나올때마다 문장을 끊어준다\n",
    "    - key값이 목적어처럼 쓰이는 경우는...? -> 형태소분석 파트에서 주어를 분석해주는 기능을 사용해야 할 듯 하다.\n",
    "    - solution1\n",
    "        - key1 값이 나올때마다 split을 사용하여 문장을 끊어준다.\n",
    "        - if문을 사용하여 split된 문장 중에 key2 값이 있다면, 따로 리스트에 추가한다.\n",
    "    \n",
    "2. 나눠진 문장을 리스트에 넣어준다 (split 사용시 skip)\n",
    "3. 해당 리스트를 반복문을 사용하여 형태소 분석을 실시한다.\n",
    "    - kkma를 사용하여 동사/형용사를 추출한다.\n",
    "        - 속도가 느리다면 hannanum으로 실행하고 P 항목에만 kkma를 사용한다.\n",
    "1. key값 별로 출현한 동사/형용사를 구분지어준다.\n",
    "1. 단어별 빈도를 추출한다."
   ]
  },
  {
   "cell_type": "code",
   "execution_count": 122,
   "metadata": {},
   "outputs": [],
   "source": [
    "# 주어 찾기 함수\n",
    "def subject_extraction(text):\n",
    "    # 형태소 분석\n",
    "    pos = Kkma.pos(text)\n",
    "\n",
    "    # 주어 추출\n",
    "    for i in range(len(pos)):\n",
    "        if pos[i][1] == 'NNG':  # 명사\n",
    "            if i == 0 or (i > 0 and pos[i-1][1] != 'NNG'):  # 주어는 문장 첫 단어이거나 앞 단어가 조사가 아닌 경우\n",
    "                return pos[i][0]\n",
    "                break"
   ]
  },
  {
   "cell_type": "code",
   "execution_count": 123,
   "metadata": {},
   "outputs": [],
   "source": [
    "# sentence_list = sentence_96.split('.')\n",
    "# sentence_milk = []\n",
    "# sentence_homerun = []\n",
    "# sentence_dummy = []\n",
    "\n",
    "# for i in range(len(sentence_list)):\n",
    "#     if subject_extraction(sentence_list[i]) == '밀크':\n",
    "#         plus_num = 1\n",
    "#         milk_para = []\n",
    "#         milk_para.append(sentence_list[i])\n",
    "#         if subject_extraction(sentence_list[i+plus_num]) == '밀크':\n",
    "#             pass\n",
    "#         else:\n",
    "#             milk_para.append(sentence_list[i+plus_num])\n",
    "#             plus_num += 1\n",
    "#         sentence_milk.append(sentence)\n",
    "\n",
    "#     elif subject_extraction(sentence) == '홈런':\n",
    "#         sentence_homerun.append(sentence)\n",
    "\n",
    "#     else:\n",
    "#         sentence_dummy.append(sentence)"
   ]
  },
  {
   "cell_type": "code",
   "execution_count": 124,
   "metadata": {},
   "outputs": [],
   "source": [
    "# 키워드가 주어인 본문 정리하기\n",
    "## keword에서 다음 keyword 까지의 text 추출\n",
    "\n",
    "\n",
    "def gather_sentence(text, key1, key2):\n",
    "\n",
    "    text_list = text.split('.') # 문장 단위 : \".\"\n",
    "\n",
    "    while ' ' in text_list: # '' 안에 text가 들어있지 않으면 error가 발생함을 방지\n",
    "        text_list.remove(' ')\n",
    "\n",
    "    key1_paragraph = []\n",
    "    key2_paragraph = []\n",
    "    for i in range(len(text_list)):\n",
    "        if subject_extraction(text_list[i]) == key1:\n",
    "            plus_num = 1\n",
    "            # milk_para.append(text_list[i])\n",
    "            sentence = text_list[i]\n",
    "            # print(f'{key1}파트 {i}번째 진행중')\n",
    "            while i+plus_num < len(text_list):\n",
    "                if subject_extraction(text_list[i+plus_num]) == key1 or subject_extraction(text_list[i+plus_num]) == key2:\n",
    "                    # print(f'!! 스캔 {key1}파트 종료')\n",
    "                    break\n",
    "                \n",
    "                else:\n",
    "                    # milk_para.append(text_list[i+plus_num])\n",
    "                    if i+plus_num > len(text_list):\n",
    "                        # print(f'!! 스캔 {key1}파트 종료')\n",
    "                        break\n",
    "                    else:\n",
    "                        sentence = sentence + '' + text_list[i+plus_num]\n",
    "                        plus_num += 1\n",
    "                        # print(f'!! 스캔 {key1}파트 {i+plus_num}번째 진행중')\n",
    "\n",
    "            key1_paragraph.append(sentence)\n",
    "\n",
    "        else:\n",
    "            pass\n",
    "\n",
    "        if subject_extraction(text_list[i]) == key2:\n",
    "            plus_num = 1\n",
    "            # milk_para.append(text_list[i])\n",
    "            sentence = text_list[i]\n",
    "            # print(f'{key2}파트 {i}번째 진행중')\n",
    "            while i+plus_num < len(text_list):\n",
    "                if subject_extraction(text_list[i+plus_num]) == key1 or subject_extraction(text_list[i+plus_num]) == key2:\n",
    "                    break\n",
    "                \n",
    "                else:\n",
    "                    # milk_para.append(text_list[i+plus_num])\n",
    "                    sentence = sentence + '' + text_list[i+plus_num]\n",
    "                    plus_num += 1\n",
    "\n",
    "            key2_paragraph.append(sentence)\n",
    "\n",
    "        else:\n",
    "            pass\n",
    "\n",
    "    if key1_paragraph == key2_paragraph:\n",
    "        for i in range(len(text_list)):\n",
    "            pos_list = Kkma.pos(text_list[i])\n",
    "            if (key1, 'NNG') in pos_list:\n",
    "                key1_paragraph.append(text_list[i])\n",
    "\n",
    "            if (key2, 'NNG') in pos_list:\n",
    "                key2_paragraph.append(text_list[i])\n",
    "    else:\n",
    "        pass\n",
    "    \n",
    "    return {key1 : key1_paragraph, key2 : key2_paragraph}"
   ]
  },
  {
   "cell_type": "code",
   "execution_count": 125,
   "metadata": {},
   "outputs": [],
   "source": [
    "# def gather_sentence(text, key):\n",
    "\n",
    "#     text_list = text.split('.') # 문장 단위 : \".\"\n",
    "#     key_paragraph = []\n",
    "#     for i in range(len(text_list)):\n",
    "#         if subject_extraction(text_list[i]) == key:\n",
    "#             plus_num = 1\n",
    "#             # key_paragraph.append(text_list[i])\n",
    "#             sentence = text_list[i]\n",
    "#             while i+plus_num < len(text_list):\n",
    "#                 if subject_extraction(text_list[i+plus_num]) == key:\n",
    "#                     break\n",
    "\n",
    "#                 else:\n",
    "#                     # key_paragraph.append(text_list[i+plus_num])\n",
    "#                     sentence = sentence + ' ' + text_list[i+plus_num]\n",
    "#                     plus_num += 1\n",
    "\n",
    "#             key_paragraph.append(sentence)\n",
    "\n",
    "#         else:\n",
    "#             pass\n",
    "\n",
    "#     dict = {key : key_paragraph}\n",
    "\n",
    "#     return dict"
   ]
  },
  {
   "cell_type": "code",
   "execution_count": 126,
   "metadata": {},
   "outputs": [
    {
     "data": {
      "text/plain": [
       "'밀크'"
      ]
     },
     "execution_count": 126,
     "metadata": {},
     "output_type": "execute_result"
    }
   ],
   "source": [
    "subject_extraction('밀크티 태블릿이 홈런 태블릿보다 좋다')"
   ]
  },
  {
   "cell_type": "code",
   "execution_count": 127,
   "metadata": {},
   "outputs": [
    {
     "data": {
      "text/plain": [
       "'. 밀크티마이쪄. 응애. 밀크티배고파. 밀크태블릿. 밀농사. 어흥. 밀크티 태블릿이 홈런 태블릿보다 좋다. 우와. 홈런을 칩니다. 최고야. 밀크티학습'"
      ]
     },
     "execution_count": 127,
     "metadata": {},
     "output_type": "execute_result"
    }
   ],
   "source": [
    "text_list = ['밀크티마이쪄', '응애', '밀크티배고파', '밀크태블릿', '밀농사', '어흥', '밀크티 태블릿이 홈런 태블릿보다 좋다', '우와', '홈런을 칩니다', '최고야', '밀크티학습']\n",
    "text_test = ''\n",
    "\n",
    "for i in text_list:\n",
    "    text_test = text_test + '. ' + i\n",
    "\n",
    "text_test"
   ]
  },
  {
   "cell_type": "code",
   "execution_count": 128,
   "metadata": {},
   "outputs": [
    {
     "data": {
      "text/plain": [
       "{'밀크': [' 밀크티마이쪄 응애',\n",
       "  ' 밀크티배고파',\n",
       "  ' 밀크태블릿 밀농사 어흥',\n",
       "  ' 밀크티 태블릿이 홈런 태블릿보다 좋다 우와',\n",
       "  ' 밀크티학습'],\n",
       " '홈런': [' 홈런을 칩니다 최고야']}"
      ]
     },
     "execution_count": 128,
     "metadata": {},
     "output_type": "execute_result"
    }
   ],
   "source": [
    "gather_sentence(text_test, '밀크', '홈런')"
   ]
  },
  {
   "cell_type": "code",
   "execution_count": 129,
   "metadata": {},
   "outputs": [
    {
     "data": {
      "text/plain": [
       "{'밀크': ['밀크T 수업을 시작하고 1년이 지났다 연장은 2년을 하였으며 처음엔 수학과목만 생각해서 시작을 했는데 홈런보다 영어 컨텐츠가 더 좋은 것 같아서 연장했다 학교가기 전에 밀크티로 예습하면 수업이 재미있다고 한다 아이들 말로는 홈런은 캐릭터가 재미있다고 한다'],\n",
       " '홈런': [' 홈런이 캐릭터 하나는 기가막히게 만드나보다', ' 혹시라도 홈런과 밀크티를 고민하는 분이 있으면 이 글을 참고해보세요']}"
      ]
     },
     "execution_count": 129,
     "metadata": {},
     "output_type": "execute_result"
    }
   ],
   "source": [
    "coffee = '밀크T 수업을 시작하고 1년이 지났다. 연장은 2년을 하였으며 처음엔 수학과목만 생각해서 시작을 했는데 홈런보다 영어 컨텐츠가 더 좋은 것 같아서 연장했다. 학교가기 전에 밀크티로 예습하면 수업이 재미있다고 한다. 아이들 말로는 홈런은 캐릭터가 재미있다고 한다. 홈런이 캐릭터 하나는 기가막히게 만드나보다. 혹시라도 홈런과 밀크티를 고민하는 분이 있으면 이 글을 참고해보세요.'\n",
    "gather_sentence(coffee, '밀크', '홈런')"
   ]
  },
  {
   "cell_type": "code",
   "execution_count": 130,
   "metadata": {},
   "outputs": [
    {
     "data": {
      "text/plain": [
       "'3학년 때부터 밀크T 수업을 시작했고 2년 약정으로 시작해서, 또 연장함.\\n연장해서 1년이 지났고 1년이 남은 상태.\\n처음엔 수학 과목만 생각해서 시작을 했는데 코로나로 인해 학교 못 가는 기간이 있어서 참 잘했다 싶다.\\n사회, 과학 관련 내용을 볼 수 있다.\\n코딩도 하고, 한자, 중국어도 가능하니.... 따로 학원 갈 필요 없이 1주일에 1-2회 보며 학습하는 중.\\n밀크T 초등 2020년에 시작할 때 갤럭시탭 A6를 기계로 받았다!\\n지금은 뭘 주는지 모름;;;; 밀크 T 아이는 갤럭시탭S 시리즈는 받았다고 들음.\\n처음 커버 벗겨 보는 것 같다.\\n키 패드가 달린 파란 커버가 씌워져있는데 벗기기 힘들어서 한 번도 안 하다가\\n이번에 AS 받을 일이 있어서 벗겨본다.\\n진짜 새것 같음!\\n밀크T 학습 화면으로 되어있는데, 나가기를 누르면... 일반 탭으로도 사용이 가능하지만,\\n한 번도 나가기를 누르지 않음. ㅎㅎ\\n그래서 우리 집 남매는 모르는.................... 계속 몰랐으면 한다!\\n3년하고 1개월이 지난 것 같다.\\n여태 잘 사용했는데, 주말이 지나고 충전하려고 하는데 3시간이 넘게 충전을 해도 1%에서 더 이상 올라가지 않는다. 전원을 켜면 배터리는 다시 0%로 꺼짐.\\n학습을 하고 매주 1회 전화 또 맞춤 코칭으로 화상수업을 하는데 수업이 있는 날이다.\\n충전이 어려울 것 같아서 학습도 안되고 수업도 안될 것 같다.\\n담당 선생님께 말씀드려서 수업을 미웠고 바로 서비스센터에 가고 싶었지만,\\n막내는 낮잠을 자고 있고 월요일은 서비스센터가 붐벼서 안 갔다!\\n갤럭시탭 A6 배터리 교체 비용이 궁금해서 삼성전자 고객센터로 전화를 했다. (1588-3366)\\n배터리 교체 비용을 물으니 66,000원이라고 한다.\\n더불어 어느 센터로 갈 건지 알려주시면 재고 확인을 해주신다고 한다.\\n집 근처 가까운 곳을 알려드렸다.\\n배터리 재고는 딱 하나 있다고 하셨다.\\n재고 예약도 가능하다고 한다.\\n와~~~ 그냥 갔는데 없으면 두 번 가야 할 뻔했다.\\n하나 남은 재고 예약까지 했다.\\n2주 이내로 방문하면 된다고 함.\\n예약하고 다음날 바로 감. 배터리 교체하고 학습해야 하니까..........\\n오후에 가니 확실히 덜 붐볐다.\\n대기 없이 바로 엔지니어 분께서 불렀고, 30분 정도 걸린다고 하셨으나\\n15분? 정도 있으니 바로 해 주셨다.\\n배터리 교체 비용 66,000원 결제 완료.\\n사실, 1년 남은 시점이고 내년엔 중등으로 넘어가야 한다.\\n아직까진 중학생이 되어도 밀크T를 계속할 생각이다. 그래서 새 패드로 교체를 할 생각도 했는데\\n6학년이 된 지금 학교 마치고 방과후수업과 영어, 수학 학원을 다녀오면... 7시.\\n할 시간이 있을까라는 생각이 든다... 아직 6학년의 생활을 시작도 안 했고 해 봐야 알 것 같아서\\n남은 1년 동안 계속 유지가 될지 중간에 그만둘지 아무도 모른다.\\n그래서 새 패드로 교환보다는 배터리 교체를 했다.\\n5학년 초반까지만 해도 스스로 자기주도학습이 잘 되었는데 점점....... 하라고 하라고 해야 하는 중.\\n그래서 얼마나 더 할 수 있을지 모르겠다.\\n그렇지만, 학습하는 내용은 아주 도움이 되니까, 계속 유지하길 바라는 내 마음.........\\n서비스센터가 집에서 가까워서 막내 유모차 태우고 걸어갔는데,\\n왕복 30분 거리를 걸어갔다 왔더니\\n캐시워크가 오늘 하루 만보를 걸었단다. 괜히 뿌듯.'"
      ]
     },
     "execution_count": 130,
     "metadata": {},
     "output_type": "execute_result"
    }
   ],
   "source": [
    "milk_t.contents[0]"
   ]
  },
  {
   "cell_type": "code",
   "execution_count": 131,
   "metadata": {},
   "outputs": [
    {
     "data": {
      "text/plain": [
       "'3학년 때부터 밀크T 수업을 시작했고 2년 약정으로 시작해서,연장함. 연장해서 1년이 지났고 1년이 남은 상태. 처음엔 수학 과목만 생각해서 시작을 했는데 코로나로 인해 학교가는 기간이 있어서잘했다 싶다. 사회, 과학 관련 내용을수 있다. 코딩도 하고, 한자, 중국어도 가능하니. 따로 학원필요 없이 1주일에 12회 보며 학습하는 중. 밀크T 초등 2020년에 시작할갤럭시탭 A6를 기계로 받았다지금은주는지 모름 밀크아이는 갤럭시탭S 시리즈는 받았다고 들음. 처음 커버 벗겨 보는같다패드가 달린 파란 커버가 씌워져있는데 벗기기 힘들어서번도하다가이번에 AS 받을 일이 있어서 벗겨본다. 진짜 새것 같음밀크T 학습 화면으로 되어있는데, 나가기를 누르면. 일반 탭으로도 사용이 가능하지만번도 나가기를 누르지 않음. ㅎㅎ그래서 우리남매는 모르는. 계속 몰랐으면 한다3년하고 1개월이 지난같다. 여태사용했는데, 주말이 지나고 충전하려고 하는데 3시간이 넘게 충전을 해도 1에서이상 올라가지 않는다. 전원을 켜면 배터리는 다시 0로 꺼짐. 학습을 하고 매주 1회 전화맞춤 코칭으로 화상수업을 하는데 수업이 있는 날이다. 충전이 어려울같아서 학습도 안되고 수업도 안될같다. 담당 선생님께 말씀드려서 수업을 미웠고 바로 서비스센터에 가고 싶었지만,막내는 낮잠을 자고 있고 월요일은 서비스센터가 붐벼서갔다갤럭시탭 A6 배터리 교체 비용이 궁금해서 삼성전자 고객센터로 전화를 했다. 15883366배터리 교체 비용을 물으니 66,000원이라고 한다. 더불어 어느 센터로건지 알려주시면 재고 확인을 해주신다고 한다근처 가까운 곳을 알려드렸다. 배터리 재고는하나 있다고 하셨다. 재고 예약도 가능하다고 한다그냥 갔는데 없으면번 가야뻔했다. 하나 남은 재고 예약까지 했다. 2주 이내로 방문하면 된다고 함. 예약하고 다음날 바로 감. 배터리 교체하고 학습해야 하니까. 오후에 가니 확실히붐볐다. 대기 없이 바로 엔지니어 분께서 불렀고, 30분 정도 걸린다고 하셨으나15분 정도 있으니 바로주셨다. 배터리 교체 비용 66,000원 결제 완료. 사실, 1년 남은 시점이고 내년엔 중등으로 넘어가야 한다. 아직까진 중학생이 되어도 밀크T를 계속할 생각이다. 그래서패드로 교체를생각도 했는데6학년이지금 학교 마치고 방과후수업과 영어, 수학 학원을 다녀오면. 7시시간이 있을까라는 생각이 든다. 아직 6학년의 생활을 시작도했고봐야것 같아서남은 1년 동안 계속 유지가 될지 중간에 그만둘지 아무도 모른다. 그래서패드로 교환보다는 배터리 교체를 했다. 5학년 초반까지만 해도 스스로 자기주도학습이되었는데 점점. 하라고 하라고 해야 하는 중. 그래서 얼마나할있을지 모르겠다. 그렇지만, 학습하는 내용은 아주 도움이 되니까, 계속 유지하길 바라는마음. 서비스센터가 집에서 가까워서 막내 유모차 태우고 걸어갔는데,왕복 30분 거리를 걸어갔다 왔더니캐시워크가 오늘 하루 만보를 걸었단다. 괜히 뿌듯. '"
      ]
     },
     "execution_count": 131,
     "metadata": {},
     "output_type": "execute_result"
    }
   ],
   "source": [
    "df.contents[0]"
   ]
  },
  {
   "cell_type": "code",
   "execution_count": 132,
   "metadata": {},
   "outputs": [
    {
     "data": {
      "text/plain": [
       "False"
      ]
     },
     "metadata": {},
     "output_type": "display_data"
    },
    {
     "data": {
      "text/plain": [
       "'3학년 때부터 밀크T 수업을 시작했고 2년 약정으로 시작해서,연장함. 연장해서 1년이 지났고 1년이 남은 상태. 처음엔 수학 과목만 생각해서 시작을 했는데 코로나로 인해 학교가는 기간이 있어서잘했다 싶다. 사회, 과학 관련 내용을수 있다. 코딩도 하고, 한자, 중국어도 가능하니. 따로 학원필요 없이 1주일에 12회 보며 학습하는 중. 밀크T 초등 2020년에 시작할갤럭시탭 A6를 기계로 받았다지금은주는지 모름 밀크아이는 갤럭시탭S 시리즈는 받았다고 들음. 처음 커버 벗겨 보는같다패드가 달린 파란 커버가 씌워져있는데 벗기기 힘들어서번도하다가이번에 AS 받을 일이 있어서 벗겨본다. 진짜 새것 같음밀크T 학습 화면으로 되어있는데, 나가기를 누르면. 일반 탭으로도 사용이 가능하지만번도 나가기를 누르지 않음. ㅎㅎ그래서 우리남매는 모르는. 계속 몰랐으면 한다3년하고 1개월이 지난같다. 여태사용했는데, 주말이 지나고 충전하려고 하는데 3시간이 넘게 충전을 해도 1에서이상 올라가지 않는다. 전원을 켜면 배터리는 다시 0로 꺼짐. 학습을 하고 매주 1회 전화맞춤 코칭으로 화상수업을 하는데 수업이 있는 날이다. 충전이 어려울같아서 학습도 안되고 수업도 안될같다. 담당 선생님께 말씀드려서 수업을 미웠고 바로 서비스센터에 가고 싶었지만,막내는 낮잠을 자고 있고 월요일은 서비스센터가 붐벼서갔다갤럭시탭 A6 배터리 교체 비용이 궁금해서 삼성전자 고객센터로 전화를 했다. 15883366배터리 교체 비용을 물으니 66,000원이라고 한다. 더불어 어느 센터로건지 알려주시면 재고 확인을 해주신다고 한다근처 가까운 곳을 알려드렸다. 배터리 재고는하나 있다고 하셨다. 재고 예약도 가능하다고 한다그냥 갔는데 없으면번 가야뻔했다. 하나 남은 재고 예약까지 했다. 2주 이내로 방문하면 된다고 함. 예약하고 다음날 바로 감. 배터리 교체하고 학습해야 하니까. 오후에 가니 확실히붐볐다. 대기 없이 바로 엔지니어 분께서 불렀고, 30분 정도 걸린다고 하셨으나15분 정도 있으니 바로주셨다. 배터리 교체 비용 66,000원 결제 완료. 사실, 1년 남은 시점이고 내년엔 중등으로 넘어가야 한다. 아직까진 중학생이 되어도 밀크T를 계속할 생각이다. 그래서패드로 교체를생각도 했는데6학년이지금 학교 마치고 방과후수업과 영어, 수학 학원을 다녀오면. 7시시간이 있을까라는 생각이 든다. 아직 6학년의 생활을 시작도했고봐야것 같아서남은 1년 동안 계속 유지가 될지 중간에 그만둘지 아무도 모른다. 그래서패드로 교환보다는 배터리 교체를 했다. 5학년 초반까지만 해도 스스로 자기주도학습이되었는데 점점. 하라고 하라고 해야 하는 중. 그래서 얼마나할있을지 모르겠다. 그렇지만, 학습하는 내용은 아주 도움이 되니까, 계속 유지하길 바라는마음. 서비스센터가 집에서 가까워서 막내 유모차 태우고 걸어갔는데,왕복 30분 거리를 걸어갔다 왔더니캐시워크가 오늘 하루 만보를 걸었단다. 괜히 뿌듯. '"
      ]
     },
     "metadata": {},
     "output_type": "display_data"
    }
   ],
   "source": [
    "test_def = df.contents[0]\n",
    "display('홈런' in test_def)\n",
    "display(test_def)"
   ]
  },
  {
   "cell_type": "code",
   "execution_count": 133,
   "metadata": {},
   "outputs": [
    {
     "data": {
      "text/plain": [
       "{'밀크': [' 밀크T 초등 2020년에 시작할갤럭시탭 A6를 기계로 받았다지금은주는지 모름 밀크아이는 갤럭시탭S 시리즈는 받았다고 들음 처음 커버 벗겨 보는같다패드가 달린 파란 커버가 씌워져있는데 벗기기 힘들어서번도하다가이번에 AS 받을 일이 있어서 벗겨본다 진짜 새것 같음밀크T 학습 화면으로 되어있는데, 나가기를 누르면 일반 탭으로도 사용이 가능하지만번도 나가기를 누르지 않음 ㅎㅎ그래서 우리남매는 모르는 계속 몰랐으면 한다3년하고 1개월이 지난같다 여태사용했는데, 주말이 지나고 충전하려고 하는데 3시간이 넘게 충전을 해도 1에서이상 올라가지 않는다 전원을 켜면 배터리는 다시 0로 꺼짐 학습을 하고 매주 1회 전화맞춤 코칭으로 화상수업을 하는데 수업이 있는 날이다 충전이 어려울같아서 학습도 안되고 수업도 안될같다 담당 선생님께 말씀드려서 수업을 미웠고 바로 서비스센터에 가고 싶었지만,막내는 낮잠을 자고 있고 월요일은 서비스센터가 붐벼서갔다갤럭시탭 A6 배터리 교체 비용이 궁금해서 삼성전자 고객센터로 전화를 했다 15883366배터리 교체 비용을 물으니 66,000원이라고 한다 더불어 어느 센터로건지 알려주시면 재고 확인을 해주신다고 한다근처 가까운 곳을 알려드렸다 배터리 재고는하나 있다고 하셨다 재고 예약도 가능하다고 한다그냥 갔는데 없으면번 가야뻔했다 하나 남은 재고 예약까지 했다 2주 이내로 방문하면 된다고 함 예약하고 다음날 바로 감 배터리 교체하고 학습해야 하니까 오후에 가니 확실히붐볐다 대기 없이 바로 엔지니어 분께서 불렀고, 30분 정도 걸린다고 하셨으나15분 정도 있으니 바로주셨다 배터리 교체 비용 66,000원 결제 완료 사실, 1년 남은 시점이고 내년엔 중등으로 넘어가야 한다 아직까진 중학생이 되어도 밀크T를 계속할 생각이다 그래서패드로 교체를생각도 했는데6학년이지금 학교 마치고 방과후수업과 영어, 수학 학원을 다녀오면 7시시간이 있을까라는 생각이 든다 아직 6학년의 생활을 시작도했고봐야것 같아서남은 1년 동안 계속 유지가 될지 중간에 그만둘지 아무도 모른다 그래서패드로 교환보다는 배터리 교체를 했다 5학년 초반까지만 해도 스스로 자기주도학습이되었는데 점점 하라고 하라고 해야 하는 중 그래서 얼마나할있을지 모르겠다 그렇지만, 학습하는 내용은 아주 도움이 되니까, 계속 유지하길 바라는마음 서비스센터가 집에서 가까워서 막내 유모차 태우고 걸어갔는데,왕복 30분 거리를 걸어갔다 왔더니캐시워크가 오늘 하루 만보를 걸었단다 괜히 뿌듯'],\n",
       " '홈런': []}"
      ]
     },
     "execution_count": 133,
     "metadata": {},
     "output_type": "execute_result"
    }
   ],
   "source": [
    "gather_sentence(test_def, '밀크', '홈런')"
   ]
  },
  {
   "cell_type": "code",
   "execution_count": 134,
   "metadata": {},
   "outputs": [],
   "source": [
    "# test_split = sentence_96.split(' ')\n",
    "# num = 0\n",
    "# word = input('단어')\n",
    "# for i in test_split:\n",
    "#     if word in i:\n",
    "#         num += 1\n",
    "\n",
    "# print(word, ':',num)"
   ]
  },
  {
   "cell_type": "code",
   "execution_count": 135,
   "metadata": {},
   "outputs": [],
   "source": [
    "split_milk = sentence_96.split('밀크')\n",
    "list_milk = []\n",
    "list_homerun = []\n",
    "\n",
    "for i in split_milk:\n",
    "    if '홈런' in i:\n",
    "        list_homerun.append(i)\n",
    "    else:\n",
    "        list_milk.append(i)\n",
    "        # list_milk.append(Kkma.pos(i))"
   ]
  },
  {
   "cell_type": "code",
   "execution_count": 136,
   "metadata": {},
   "outputs": [
    {
     "name": "stdout",
     "output_type": "stream",
     "text": [
      "밀크\n"
     ]
    }
   ],
   "source": [
    "# text = \"밀크티 무료체험 해보니 쉽고 좋아요 이제 해지하려구요\"\n",
    "text = \"밀크티 무료체험 해보니 아이가 게임을 하며 즐거워하는데 너무 게임만 할까봐 걱정이네요.\"\n",
    "\n",
    "pos = Kkma.pos(text)\n",
    "\n",
    "# 주어 추출\n",
    "for i in range(len(pos)):\n",
    "    if pos[i][1] == 'NNG':  # 명사\n",
    "        if i == 0 or (i > 0 and pos[i-1][1] != 'NNG'):  # 주어는 문장 첫 단어이거나 앞 단어가 조사가 아닌 경우\n",
    "            print(pos[i][0])\n",
    "            break"
   ]
  },
  {
   "cell_type": "code",
   "execution_count": 137,
   "metadata": {},
   "outputs": [
    {
     "data": {
      "text/plain": [
       "{'EC': '연결 어미',\n",
       " 'ECD': '의존적 연결 어미',\n",
       " 'ECE': '대등 연결 어미',\n",
       " 'ECS': '보조적 연결 어미',\n",
       " 'EF': '종결 어미',\n",
       " 'EFA': '청유형 종결 어미',\n",
       " 'EFI': '감탄형 종결 어미',\n",
       " 'EFN': '평서형 종결 어미',\n",
       " 'EFO': '명령형 종결 어미',\n",
       " 'EFQ': '의문형 종결 어미',\n",
       " 'EFR': '존칭형 종결 어미',\n",
       " 'EP': '선어말 어미',\n",
       " 'EPH': '존칭 선어말 어미',\n",
       " 'EPP': '공손 선어말 어미',\n",
       " 'EPT': '시제 선어말 어미',\n",
       " 'ET': '전성 어미',\n",
       " 'ETD': '관형형 전성 어미',\n",
       " 'ETN': '명사형 전성 어미',\n",
       " 'IC': '감탄사',\n",
       " 'JC': '접속 조사',\n",
       " 'JK': '조사',\n",
       " 'JKC': '보격 조사',\n",
       " 'JKG': '관형격 조사',\n",
       " 'JKI': '호격 조사',\n",
       " 'JKM': '부사격 조사',\n",
       " 'JKO': '목적격 조사',\n",
       " 'JKQ': '인용격 조사',\n",
       " 'JKS': '주격 조사',\n",
       " 'JX': '보조사',\n",
       " 'MA': '부사',\n",
       " 'MAC': '접속 부사',\n",
       " 'MAG': '일반 부사',\n",
       " 'MD': '관형사',\n",
       " 'MDN': '수 관형사',\n",
       " 'MDT': '일반 관형사',\n",
       " 'NN': '명사',\n",
       " 'NNB': '일반 의존 명사',\n",
       " 'NNG': '보통명사',\n",
       " 'NNM': '단위 의존 명사',\n",
       " 'NNP': '고유명사',\n",
       " 'NP': '대명사',\n",
       " 'NR': '수사',\n",
       " 'OH': '한자',\n",
       " 'OL': '외국어',\n",
       " 'ON': '숫자',\n",
       " 'SE': '줄임표',\n",
       " 'SF': '마침표, 물음표, 느낌표',\n",
       " 'SO': '붙임표(물결,숨김,빠짐)',\n",
       " 'SP': '쉼표,가운뎃점,콜론,빗금',\n",
       " 'SS': '따옴표,괄호표,줄표',\n",
       " 'SW': '기타기호 (논리수학기호,화폐기호)',\n",
       " 'UN': '명사추정범주',\n",
       " 'VA': '형용사',\n",
       " 'VC': '지정사',\n",
       " 'VCN': \"부정 지정사, 형용사 '아니다'\",\n",
       " 'VCP': \"긍정 지정사, 서술격 조사 '이다'\",\n",
       " 'VV': '동사',\n",
       " 'VX': '보조 용언',\n",
       " 'VXA': '보조 형용사',\n",
       " 'VXV': '보조 동사',\n",
       " 'XP': '접두사',\n",
       " 'XPN': '체언 접두사',\n",
       " 'XPV': '용언 접두사',\n",
       " 'XR': '어근',\n",
       " 'XSA': '형용사 파생 접미사',\n",
       " 'XSN': '명사파생 접미사',\n",
       " 'XSV': '동사 파생 접미사'}"
      ]
     },
     "execution_count": 137,
     "metadata": {},
     "output_type": "execute_result"
    }
   ],
   "source": [
    "Kkma.tagset\n",
    "# VA : 형용사\n",
    "# VV : 동사 - 얜 추출 안해도 될듯...?\n",
    "# NNG : 보통명사\n",
    "# VA, NNG만 추출"
   ]
  },
  {
   "cell_type": "code",
   "execution_count": 138,
   "metadata": {},
   "outputs": [
    {
     "data": {
      "text/plain": [
       "[('밀크', 'NNG'),\n",
       " ('티', 'NNG'),\n",
       " ('무료', 'NNG'),\n",
       " ('체험', 'NNG'),\n",
       " ('해보', 'VV'),\n",
       " ('니', 'ECD'),\n",
       " ('아이', 'NNG'),\n",
       " ('가', 'JKS'),\n",
       " ('게임', 'NNG'),\n",
       " ('을', 'JKO'),\n",
       " ('하', 'VV'),\n",
       " ('며', 'ECE'),\n",
       " ('즐거워하', 'VV'),\n",
       " ('는데', 'ECD'),\n",
       " ('너무', 'MAG'),\n",
       " ('게임', 'NNG'),\n",
       " ('만', 'JX'),\n",
       " ('하', 'VV'),\n",
       " ('ㄹ까', 'ECD'),\n",
       " ('보', 'VV'),\n",
       " ('아', 'ECS'),\n",
       " ('걱정', 'NNG'),\n",
       " ('이', 'VCP'),\n",
       " ('네요', 'EFN'),\n",
       " ('.', 'SF')]"
      ]
     },
     "execution_count": 138,
     "metadata": {},
     "output_type": "execute_result"
    }
   ],
   "source": [
    "pos"
   ]
  },
  {
   "cell_type": "code",
   "execution_count": 139,
   "metadata": {},
   "outputs": [
    {
     "data": {
      "text/plain": [
       "[('밀크티', 'N'),\n",
       " ('무료체험', 'N'),\n",
       " ('하', 'P'),\n",
       " ('어', 'E'),\n",
       " ('보', 'P'),\n",
       " ('니', 'E'),\n",
       " ('아이', 'N'),\n",
       " ('가', 'J'),\n",
       " ('게임', 'N'),\n",
       " ('을', 'J'),\n",
       " ('하', 'P'),\n",
       " ('며', 'E'),\n",
       " ('즐겁', 'P'),\n",
       " ('어', 'E'),\n",
       " ('하', 'P'),\n",
       " ('ㄴ데', 'E'),\n",
       " ('너무', 'M'),\n",
       " ('게임', 'N'),\n",
       " ('만', 'J'),\n",
       " ('할까봐', 'N'),\n",
       " ('걱정', 'N'),\n",
       " ('이', 'J'),\n",
       " ('네', 'E'),\n",
       " ('요', 'J'),\n",
       " ('.', 'S')]"
      ]
     },
     "execution_count": 139,
     "metadata": {},
     "output_type": "execute_result"
    }
   ],
   "source": [
    "hannanum.pos(text)"
   ]
  },
  {
   "cell_type": "code",
   "execution_count": 140,
   "metadata": {},
   "outputs": [],
   "source": [
    "# keyword_list = ['밀크T', '아이스크림', '엘리하이']\n",
    "# hann_list = {}\n",
    "\n",
    "# for i in hannanum.pos(ex_sentence2):\n",
    "#     if i[1] == 'N':\n",
    "#         hann_list.append(i[0])\n",
    "\n",
    "#     elif i[1] == 'P':\n",
    "#         hann_list.append(i[0])\n",
    "\n",
    "    \n",
    "\n",
    "# print('N : ', N_list)\n",
    "# print('P : ', P_list)"
   ]
  },
  {
   "cell_type": "code",
   "execution_count": 141,
   "metadata": {},
   "outputs": [
    {
     "data": {
      "text/plain": [
       "'밀크티 무료체험 해보니 아이가 게임을 하며 즐거워하는데 너무 게임만 할까봐 걱정이네요.'"
      ]
     },
     "execution_count": 141,
     "metadata": {},
     "output_type": "execute_result"
    }
   ],
   "source": [
    "text"
   ]
  },
  {
   "cell_type": "code",
   "execution_count": 142,
   "metadata": {},
   "outputs": [
    {
     "data": {
      "text/plain": [
       "['밀크', '밀크티', '티', '무료', '무료체험', '체험', '아이', '게임', '걱정']"
      ]
     },
     "execution_count": 142,
     "metadata": {},
     "output_type": "execute_result"
    }
   ],
   "source": [
    "Kkma.nouns(text)"
   ]
  },
  {
   "cell_type": "code",
   "execution_count": 143,
   "metadata": {},
   "outputs": [],
   "source": [
    "A = []\n",
    "\n",
    "for i in hannanum.nouns(text):\n",
    "    A.append(Kkma.pos(i))"
   ]
  },
  {
   "cell_type": "code",
   "execution_count": 144,
   "metadata": {},
   "outputs": [
    {
     "data": {
      "text/plain": [
       "[[('밀크', 'NNG'), ('티', 'NNG')],\n",
       " [('무료', 'NNG'), ('체험', 'NNG')],\n",
       " [('아이', 'NNG')],\n",
       " [('게임', 'NNG')],\n",
       " [('게임', 'NNG')],\n",
       " [('하', 'VV'), ('ㄹ까', 'ECD'), ('보', 'VV'), ('아', 'ECS')],\n",
       " [('걱정', 'NNG')]]"
      ]
     },
     "execution_count": 144,
     "metadata": {},
     "output_type": "execute_result"
    }
   ],
   "source": [
    "A"
   ]
  },
  {
   "cell_type": "code",
   "execution_count": 145,
   "metadata": {},
   "outputs": [
    {
     "data": {
      "text/plain": [
       "{'EC': '연결 어미',\n",
       " 'ECD': '의존적 연결 어미',\n",
       " 'ECE': '대등 연결 어미',\n",
       " 'ECS': '보조적 연결 어미',\n",
       " 'EF': '종결 어미',\n",
       " 'EFA': '청유형 종결 어미',\n",
       " 'EFI': '감탄형 종결 어미',\n",
       " 'EFN': '평서형 종결 어미',\n",
       " 'EFO': '명령형 종결 어미',\n",
       " 'EFQ': '의문형 종결 어미',\n",
       " 'EFR': '존칭형 종결 어미',\n",
       " 'EP': '선어말 어미',\n",
       " 'EPH': '존칭 선어말 어미',\n",
       " 'EPP': '공손 선어말 어미',\n",
       " 'EPT': '시제 선어말 어미',\n",
       " 'ET': '전성 어미',\n",
       " 'ETD': '관형형 전성 어미',\n",
       " 'ETN': '명사형 전성 어미',\n",
       " 'IC': '감탄사',\n",
       " 'JC': '접속 조사',\n",
       " 'JK': '조사',\n",
       " 'JKC': '보격 조사',\n",
       " 'JKG': '관형격 조사',\n",
       " 'JKI': '호격 조사',\n",
       " 'JKM': '부사격 조사',\n",
       " 'JKO': '목적격 조사',\n",
       " 'JKQ': '인용격 조사',\n",
       " 'JKS': '주격 조사',\n",
       " 'JX': '보조사',\n",
       " 'MA': '부사',\n",
       " 'MAC': '접속 부사',\n",
       " 'MAG': '일반 부사',\n",
       " 'MD': '관형사',\n",
       " 'MDN': '수 관형사',\n",
       " 'MDT': '일반 관형사',\n",
       " 'NN': '명사',\n",
       " 'NNB': '일반 의존 명사',\n",
       " 'NNG': '보통명사',\n",
       " 'NNM': '단위 의존 명사',\n",
       " 'NNP': '고유명사',\n",
       " 'NP': '대명사',\n",
       " 'NR': '수사',\n",
       " 'OH': '한자',\n",
       " 'OL': '외국어',\n",
       " 'ON': '숫자',\n",
       " 'SE': '줄임표',\n",
       " 'SF': '마침표, 물음표, 느낌표',\n",
       " 'SO': '붙임표(물결,숨김,빠짐)',\n",
       " 'SP': '쉼표,가운뎃점,콜론,빗금',\n",
       " 'SS': '따옴표,괄호표,줄표',\n",
       " 'SW': '기타기호 (논리수학기호,화폐기호)',\n",
       " 'UN': '명사추정범주',\n",
       " 'VA': '형용사',\n",
       " 'VC': '지정사',\n",
       " 'VCN': \"부정 지정사, 형용사 '아니다'\",\n",
       " 'VCP': \"긍정 지정사, 서술격 조사 '이다'\",\n",
       " 'VV': '동사',\n",
       " 'VX': '보조 용언',\n",
       " 'VXA': '보조 형용사',\n",
       " 'VXV': '보조 동사',\n",
       " 'XP': '접두사',\n",
       " 'XPN': '체언 접두사',\n",
       " 'XPV': '용언 접두사',\n",
       " 'XR': '어근',\n",
       " 'XSA': '형용사 파생 접미사',\n",
       " 'XSN': '명사파생 접미사',\n",
       " 'XSV': '동사 파생 접미사'}"
      ]
     },
     "execution_count": 145,
     "metadata": {},
     "output_type": "execute_result"
    }
   ],
   "source": [
    "Kkma.tagset"
   ]
  },
  {
   "cell_type": "code",
   "execution_count": 146,
   "metadata": {},
   "outputs": [],
   "source": [
    "test = ' 밀크T 초등 2020년에 시작할갤럭시탭 A6를 기계로 받았다지금은주는지 모름 밀크아이는 갤럭시탭S 시리즈는 받았다고 들음 처음 커버 벗겨 보는같다패드가 달린 파란 커버가 씌워져있는데 벗기기 힘들어서번도하다가이번에 AS 받을 일이 있어서 벗겨본다 진짜 새것 같음밀크T 학습 화면으로 되어있는데, 나가기를 누르면 일반 탭으로도 사용이 가능하지만번도 나가기를 누르지 않음 ㅎㅎ그래서 우리남매는 모르는 계속 몰랐으면 한다3년하고 1개월이 지난같다 여태사용했는데, 주말이 지나고 충전하려고 하는데 3시간이 넘게 충전을 해도 1에서이상 올라가지 않는다 전원을 켜면 배터리는 다시 0로 꺼짐 학습을 하고 매주 1회 전화맞춤 코칭으로 화상수업을 하는데 수업이 있는 날이다 충전이 어려울같아서 학습도 안되고 수업도 안될같다 담당 선생님께 말씀드려서 수업을 미웠고 바로 서비스센터에 가고 싶었지만,막내는 낮잠을 자고 있고 월요일은 서비스센터가 붐벼서갔다갤럭시탭 A6 배터리 교체 비용이 궁금해서 삼성전자 고객센터로 전화를 했다 15883366배터리 교체 비용을 물으니 66,000원이라고 한다 더불어 어느 센터로건지 알려주시면 재고 확인을 해주신다고 한다근처 가까운 곳을 알려드렸다 배터리 재고는하나 있다고 하셨다 재고 예약도 가능하다고 한다그냥 갔는데 없으면번 가야뻔했다 하나 남은 재고 예약까지 했다 2주 이내로 방문하면 된다고 함 예약하고 다음날 바로 감 배터리 교체하고 학습해야 하니까 오후에 가니 확실히붐볐다 대기 없이 바로 엔지니어 분께서 불렀고, 30분 정도 걸린다고 하셨으나15분 정도 있으니 바로주셨다 배터리 교체 비용 66,000원 결제 완료 사실, 1년 남은 시점이고 내년엔 중등으로 넘어가야 한다 아직까진 중학생이 되어도 밀크T를 계속할 생각이다 그래서패드로 교체를생각도 했는데6학년이지금 학교 마치고 방과후수업과 영어, 수학 학원을 다녀오면 7시시간이 있을까라는 생각이 든다 아직 6학년의 생활을 시작도했고봐야것 같아서남은 1년 동안 계속 유지가 될지 중간에 그만둘지 아무도 모른다 그래서패드로 교환보다는 배터리 교체를 했다 5학년 초반까지만 해도 스스로 자기주도학습이되었는데 점점 하라고 하라고 해야 하는 중 그래서 얼마나할있을지 모르겠다 그렇지만, 학습하는 내용은 아주 도움이 되니까, 계속 유지하길 바라는마음 서비스센터가 집에서 가까워서 막내 유모차 태우고 걸어갔는데,왕복 30분 거리를 걸어갔다 왔더니캐시워크가 오늘 하루 만보를 걸었단다 괜히 뿌듯'"
   ]
  },
  {
   "cell_type": "code",
   "execution_count": 147,
   "metadata": {},
   "outputs": [
    {
     "data": {
      "text/plain": [
       "'히히땀땀'"
      ]
     },
     "execution_count": 147,
     "metadata": {},
     "output_type": "execute_result"
    }
   ],
   "source": [
    "emoji_test = '히히😅땀땀'\n",
    "\n",
    "emoji_result = core.replace_emoji(emoji_test, replace='')\n",
    "emoji_result"
   ]
  },
  {
   "cell_type": "code",
   "execution_count": 148,
   "metadata": {},
   "outputs": [],
   "source": [
    "test_kk = Kkma.pos(test)"
   ]
  },
  {
   "cell_type": "code",
   "execution_count": 149,
   "metadata": {},
   "outputs": [
    {
     "data": {
      "text/plain": [
       "'NNG'"
      ]
     },
     "execution_count": 149,
     "metadata": {},
     "output_type": "execute_result"
    }
   ],
   "source": [
    "test_kk[0][1]"
   ]
  },
  {
   "cell_type": "code",
   "execution_count": 150,
   "metadata": {},
   "outputs": [
    {
     "data": {
      "text/plain": [
       "'새로운 선생님과 친구들을 만날 생각에 신이 나서 개학을 기다렸는데학교도 개학이 연기되고 학원도 휴원이 연장되어 집에만 있네요아들이 좋아하는 게임도 하면서 늘어난 방학을 신나게 즐기고 있어요문제집을 풀라고 하면 대답만 하고 한쪽으로 밀어두던 아이가 밀크티는 매일 학습하니 얼마나 다행인지 몰라요그래서 초등수학학습지 추천 해달라고 하면 밀크티 초등을 많이 이야기 하나 봐요6학년이 되니 수학이어려워져서 힘들어한다는데문제만 푸는 문제집과 달리 영상으로 개념 이해를 도와주고문제도더 쉽게 자세히 풀이 과정을 설명해 주니아직까지 아들은 수학이 그리 어렵게 느껴지지 않는같아요밀크티는 초등수학학습지 추천외에도 다른 과목도 체계적으로 학습을수 있다는 점이 좋아요독서를 좋아하는 아이가 아니라서 독서논술이 걱정이었는데6학년 과목 학습을 하면서 독서논술도 함께수 있어서 너무 좋더라고요방학 동안에도 책은권 읽지를 않았는데그래도 밀크티 독서논술에 나오는 책들은 읽더라고요우린 EBOOK이 없던 시대라 종이책만 보아서인지 종이책이 익숙한데요즘 아이들에게는 EBOOK이익숙한같아요아이들의 상상의 나래를 펼쳐주는 흥미로운 이야기라 그런지피터팬은재미있게 읽네요어휘력도 재미있게 쌓아요재생 수200000 0038화질 선택 옵션자동어휘력도 재미있게 쌓아요피터팬을 읽고 나서 낱말의 뜻을 듣고뜻에 맞는 낱말을 찾아보는 건데뜻을 듣고 해당하는 낱말을 암기하는아니라이렇게 게임처럼 배우니 딱딱하고 어렵게 느껴질있는 어휘도 한결 쉽게 배울있어요남자아이들이 대부분 과학을 좋아하죠하지만 과학도 학년이 올라갈수록점점 난이도가 높아지니 저학년 때처럼 재미있지만은 않아요문제 인식과 가설 설정이란 말만 보면 어려울같지만선생님께서 하나하나 차근차근 설명해 주시니설명을 듣고 나면 어렵지 않답니다부분을 만약에 학습지로 혼자서 공부했다면 쉽게 이해하기가 어려웠을같아요생활실험을 보면 재미도 있지만재미 속에 과학의 원리도 담겨 있답니다. 드라이아이스 비눗방울 만들기를 보더니 자기도 해보고 싶다는데당장 집에 드라이아이스가 없어서 아이스크림 포장하면 넣어주니 그걸로 실험해보려고요지문으로만 읽거나 설명만 들어서는이해되지 않는 과학 원리도이렇게 실험하는 영상으로 보면 머릿속에 쏙쏙들어오네요그리고좋은 방법은 직접 실험을 해보는 거겠죠재미난 콘텐츠가 많아서 공부할 때만 찾는아니니 밀크티 초등은 꾸준히 하기 좋더라고요수학을하다가도 문제를때는 자주 헷갈려 하는 부분이 분수에요아직 개념 이해가 확실하지 않아서 그럴 텐데이렇게 분수만큼 아이가 색칠을 해보고 분수의 크기를 비교해 보면개념 이해가확실해지겠어요그리고 얼핏 보면 모두 다른 분수 같지만크기가 같은 분수가 있어요이 부분도 색칠을 해보면분수가 크기가 같다는쉽게 찾을있겠죠같은 문제라도 문제만 있는 것과이렇게 도형을 나누고 색칠을 해보면서 풀어가는 것은 다르게 느끼더라고요이 문제는 쉽게 쉽게 풀어나가요학습지로는 전달할없었던 부분을밀크T는 다양한 면으로 설명하고 이해를 도울있어서초등수학학습지 추천하면 많은 분들이 밀크티 초등을 추천하나 봅니다. 영어 학원을 다니는 아이들도 많지만 학원이 맞지 않는 아이들은밀크티로 영어 공부를 꾸준히 하는 것도 좋아요영어는 어렵다며 거부감을 느끼는 친구들이 많은데아이들 시선에 맞게 영어를 시작할있고 보다 쉽고 흥미롭게 학습할있더라고요단어도 무조건 암기만 하는아니라그림을 보며 익히니 훨씬 빨리 익히고이렇게 익힌 영어 단어는잊어버리지도 않는같아요요즘은 아이들이 영어 발음이좋죠그렇다 보니 영어는자신이 없는데원어민이 읽어주니 얼마나 고마운지 몰라요과목별 우등생 전과도 있어서 따로 구입하지 않아도 되어요학교에서 숙제를 내줄 때가 많은데 혼자서 문제를 풀기 어려울 때가 있죠그럴우등생 전과를 보면 도움을 받을있으니 어려운 숙제도 문제없어요중요한 내용은 중요라고 표시가 되어 있어서특히부분은 이해가때까지 여러본답니다. 입체도형도 어려워하는 아이들이 많다는데어려서부터 다양한 블록을 많이 가지고 놀아서인지 아들은 재미있다며 좋아해요6학년 수학도 이해하기 쉽도록 그림과 함께 자세한 설명은 물론동영상으로도 다시 설명해 주니 초등수학학습지 추천 할만하죠개학이 연기되고 학원도 휴원이라 걱정이었는데 천재교육 밀크티 초등이 있으니 한시름 덜었어요'"
      ]
     },
     "execution_count": 150,
     "metadata": {},
     "output_type": "execute_result"
    }
   ],
   "source": [
    "df.contents[118]"
   ]
  },
  {
   "cell_type": "code",
   "execution_count": 151,
   "metadata": {},
   "outputs": [
    {
     "data": {
      "text/plain": [
       "[('이제', 'NNG'),\n",
       " ('3', 'NR'),\n",
       " ('학년', 'NNG'),\n",
       " ('이', 'JKC'),\n",
       " ('되', 'VV'),\n",
       " ('는', 'ETD'),\n",
       " ('아드님', 'NNG'),\n",
       " ('은', 'JX'),\n",
       " ('오늘', 'NNG'),\n",
       " ('도', 'JX'),\n",
       " ('열심히', 'MAG'),\n",
       " ('밀크', 'NNG'),\n",
       " ('T', 'OL'),\n",
       " ('학습', 'NNG'),\n",
       " ('을', 'JKO'),\n",
       " ('하면서', 'NNG'),\n",
       " ('학습', 'NNG'),\n",
       " ('을', 'JKO'),\n",
       " ('진행하', 'VV'),\n",
       " ('고', 'ECE'),\n",
       " ('있', 'VV'),\n",
       " ('어요', 'EFN')]"
      ]
     },
     "execution_count": 151,
     "metadata": {},
     "output_type": "execute_result"
    }
   ],
   "source": [
    "test = Kkma.pos(df.contents[119].split('.')[0])\n",
    "test"
   ]
  },
  {
   "cell_type": "code",
   "execution_count": 152,
   "metadata": {},
   "outputs": [
    {
     "data": {
      "text/plain": [
       "[('이제', 'M'),\n",
       " ('3학년', 'N'),\n",
       " ('이', 'J'),\n",
       " ('되', 'P'),\n",
       " ('는', 'E'),\n",
       " ('아드님', 'N'),\n",
       " ('은', 'J'),\n",
       " ('오늘', 'N'),\n",
       " ('도', 'J'),\n",
       " ('열심히', 'M'),\n",
       " ('밀크T학습', 'N'),\n",
       " ('을', 'J'),\n",
       " ('하', 'P'),\n",
       " ('면서', 'E'),\n",
       " ('학습', 'N'),\n",
       " ('을', 'J'),\n",
       " ('진행', 'N'),\n",
       " ('하고', 'J'),\n",
       " ('있', 'P'),\n",
       " ('어요', 'E')]"
      ]
     },
     "execution_count": 152,
     "metadata": {},
     "output_type": "execute_result"
    }
   ],
   "source": [
    "hannanum.pos(df.contents[119].split('.')[0])"
   ]
  },
  {
   "cell_type": "code",
   "execution_count": 153,
   "metadata": {},
   "outputs": [
    {
     "data": {
      "text/plain": [
       "True"
      ]
     },
     "execution_count": 153,
     "metadata": {},
     "output_type": "execute_result"
    }
   ],
   "source": [
    "('밀크', 'NNG') in test"
   ]
  },
  {
   "cell_type": "code",
   "execution_count": 154,
   "metadata": {},
   "outputs": [
    {
     "ename": "KeyboardInterrupt",
     "evalue": "",
     "output_type": "error",
     "traceback": [
      "\u001b[1;31m---------------------------------------------------------------------------\u001b[0m",
      "\u001b[1;31mKeyboardInterrupt\u001b[0m                         Traceback (most recent call last)",
      "\u001b[1;32m~\\AppData\\Local\\Temp\\ipykernel_17844\\1354363920.py\u001b[0m in \u001b[0;36m<module>\u001b[1;34m\u001b[0m\n\u001b[0;32m      3\u001b[0m \u001b[1;31m# 이모티콘 같은 특수기호가 들어가 있으면 에러발생...\u001b[0m\u001b[1;33m\u001b[0m\u001b[1;33m\u001b[0m\u001b[1;33m\u001b[0m\u001b[0m\n\u001b[0;32m      4\u001b[0m \u001b[1;33m\u001b[0m\u001b[0m\n\u001b[1;32m----> 5\u001b[1;33m \u001b[0mdf\u001b[0m\u001b[1;33m[\u001b[0m\u001b[1;34m'keyword_dict'\u001b[0m\u001b[1;33m]\u001b[0m \u001b[1;33m=\u001b[0m \u001b[0mdf\u001b[0m\u001b[1;33m[\u001b[0m\u001b[1;34m'contents'\u001b[0m\u001b[1;33m]\u001b[0m\u001b[1;33m.\u001b[0m\u001b[0mapply\u001b[0m\u001b[1;33m(\u001b[0m\u001b[1;32mlambda\u001b[0m \u001b[0mx\u001b[0m \u001b[1;33m:\u001b[0m \u001b[0mgather_sentence\u001b[0m\u001b[1;33m(\u001b[0m\u001b[0mx\u001b[0m\u001b[1;33m,\u001b[0m \u001b[1;34m'밀크'\u001b[0m\u001b[1;33m,\u001b[0m \u001b[1;34m'홈런'\u001b[0m\u001b[1;33m)\u001b[0m\u001b[1;33m)\u001b[0m\u001b[1;33m\u001b[0m\u001b[1;33m\u001b[0m\u001b[0m\n\u001b[0m",
      "\u001b[1;32mc:\\ProgramData\\Anaconda3\\envs\\py37\\lib\\site-packages\\pandas\\core\\series.py\u001b[0m in \u001b[0;36mapply\u001b[1;34m(self, func, convert_dtype, args, **kwargs)\u001b[0m\n\u001b[0;32m   4355\u001b[0m         \u001b[0mdtype\u001b[0m\u001b[1;33m:\u001b[0m \u001b[0mfloat64\u001b[0m\u001b[1;33m\u001b[0m\u001b[1;33m\u001b[0m\u001b[0m\n\u001b[0;32m   4356\u001b[0m         \"\"\"\n\u001b[1;32m-> 4357\u001b[1;33m         \u001b[1;32mreturn\u001b[0m \u001b[0mSeriesApply\u001b[0m\u001b[1;33m(\u001b[0m\u001b[0mself\u001b[0m\u001b[1;33m,\u001b[0m \u001b[0mfunc\u001b[0m\u001b[1;33m,\u001b[0m \u001b[0mconvert_dtype\u001b[0m\u001b[1;33m,\u001b[0m \u001b[0margs\u001b[0m\u001b[1;33m,\u001b[0m \u001b[0mkwargs\u001b[0m\u001b[1;33m)\u001b[0m\u001b[1;33m.\u001b[0m\u001b[0mapply\u001b[0m\u001b[1;33m(\u001b[0m\u001b[1;33m)\u001b[0m\u001b[1;33m\u001b[0m\u001b[1;33m\u001b[0m\u001b[0m\n\u001b[0m\u001b[0;32m   4358\u001b[0m \u001b[1;33m\u001b[0m\u001b[0m\n\u001b[0;32m   4359\u001b[0m     def _reduce(\n",
      "\u001b[1;32mc:\\ProgramData\\Anaconda3\\envs\\py37\\lib\\site-packages\\pandas\\core\\apply.py\u001b[0m in \u001b[0;36mapply\u001b[1;34m(self)\u001b[0m\n\u001b[0;32m   1041\u001b[0m             \u001b[1;32mreturn\u001b[0m \u001b[0mself\u001b[0m\u001b[1;33m.\u001b[0m\u001b[0mapply_str\u001b[0m\u001b[1;33m(\u001b[0m\u001b[1;33m)\u001b[0m\u001b[1;33m\u001b[0m\u001b[1;33m\u001b[0m\u001b[0m\n\u001b[0;32m   1042\u001b[0m \u001b[1;33m\u001b[0m\u001b[0m\n\u001b[1;32m-> 1043\u001b[1;33m         \u001b[1;32mreturn\u001b[0m \u001b[0mself\u001b[0m\u001b[1;33m.\u001b[0m\u001b[0mapply_standard\u001b[0m\u001b[1;33m(\u001b[0m\u001b[1;33m)\u001b[0m\u001b[1;33m\u001b[0m\u001b[1;33m\u001b[0m\u001b[0m\n\u001b[0m\u001b[0;32m   1044\u001b[0m \u001b[1;33m\u001b[0m\u001b[0m\n\u001b[0;32m   1045\u001b[0m     \u001b[1;32mdef\u001b[0m \u001b[0magg\u001b[0m\u001b[1;33m(\u001b[0m\u001b[0mself\u001b[0m\u001b[1;33m)\u001b[0m\u001b[1;33m:\u001b[0m\u001b[1;33m\u001b[0m\u001b[1;33m\u001b[0m\u001b[0m\n",
      "\u001b[1;32mc:\\ProgramData\\Anaconda3\\envs\\py37\\lib\\site-packages\\pandas\\core\\apply.py\u001b[0m in \u001b[0;36mapply_standard\u001b[1;34m(self)\u001b[0m\n\u001b[0;32m   1099\u001b[0m                     \u001b[0mvalues\u001b[0m\u001b[1;33m,\u001b[0m\u001b[1;33m\u001b[0m\u001b[1;33m\u001b[0m\u001b[0m\n\u001b[0;32m   1100\u001b[0m                     \u001b[0mf\u001b[0m\u001b[1;33m,\u001b[0m  \u001b[1;31m# type: ignore[arg-type]\u001b[0m\u001b[1;33m\u001b[0m\u001b[1;33m\u001b[0m\u001b[0m\n\u001b[1;32m-> 1101\u001b[1;33m                     \u001b[0mconvert\u001b[0m\u001b[1;33m=\u001b[0m\u001b[0mself\u001b[0m\u001b[1;33m.\u001b[0m\u001b[0mconvert_dtype\u001b[0m\u001b[1;33m,\u001b[0m\u001b[1;33m\u001b[0m\u001b[1;33m\u001b[0m\u001b[0m\n\u001b[0m\u001b[0;32m   1102\u001b[0m                 )\n\u001b[0;32m   1103\u001b[0m \u001b[1;33m\u001b[0m\u001b[0m\n",
      "\u001b[1;32mc:\\ProgramData\\Anaconda3\\envs\\py37\\lib\\site-packages\\pandas\\_libs\\lib.pyx\u001b[0m in \u001b[0;36mpandas._libs.lib.map_infer\u001b[1;34m()\u001b[0m\n",
      "\u001b[1;32m~\\AppData\\Local\\Temp\\ipykernel_17844\\1354363920.py\u001b[0m in \u001b[0;36m<lambda>\u001b[1;34m(x)\u001b[0m\n\u001b[0;32m      3\u001b[0m \u001b[1;31m# 이모티콘 같은 특수기호가 들어가 있으면 에러발생...\u001b[0m\u001b[1;33m\u001b[0m\u001b[1;33m\u001b[0m\u001b[1;33m\u001b[0m\u001b[0m\n\u001b[0;32m      4\u001b[0m \u001b[1;33m\u001b[0m\u001b[0m\n\u001b[1;32m----> 5\u001b[1;33m \u001b[0mdf\u001b[0m\u001b[1;33m[\u001b[0m\u001b[1;34m'keyword_dict'\u001b[0m\u001b[1;33m]\u001b[0m \u001b[1;33m=\u001b[0m \u001b[0mdf\u001b[0m\u001b[1;33m[\u001b[0m\u001b[1;34m'contents'\u001b[0m\u001b[1;33m]\u001b[0m\u001b[1;33m.\u001b[0m\u001b[0mapply\u001b[0m\u001b[1;33m(\u001b[0m\u001b[1;32mlambda\u001b[0m \u001b[0mx\u001b[0m \u001b[1;33m:\u001b[0m \u001b[0mgather_sentence\u001b[0m\u001b[1;33m(\u001b[0m\u001b[0mx\u001b[0m\u001b[1;33m,\u001b[0m \u001b[1;34m'밀크'\u001b[0m\u001b[1;33m,\u001b[0m \u001b[1;34m'홈런'\u001b[0m\u001b[1;33m)\u001b[0m\u001b[1;33m)\u001b[0m\u001b[1;33m\u001b[0m\u001b[1;33m\u001b[0m\u001b[0m\n\u001b[0m",
      "\u001b[1;32m~\\AppData\\Local\\Temp\\ipykernel_17844\\1175306634.py\u001b[0m in \u001b[0;36mgather_sentence\u001b[1;34m(text, key1, key2)\u001b[0m\n\u001b[0;32m     13\u001b[0m     \u001b[0mkey2_paragraph\u001b[0m \u001b[1;33m=\u001b[0m \u001b[1;33m[\u001b[0m\u001b[1;33m]\u001b[0m\u001b[1;33m\u001b[0m\u001b[1;33m\u001b[0m\u001b[0m\n\u001b[0;32m     14\u001b[0m     \u001b[1;32mfor\u001b[0m \u001b[0mi\u001b[0m \u001b[1;32min\u001b[0m \u001b[0mrange\u001b[0m\u001b[1;33m(\u001b[0m\u001b[0mlen\u001b[0m\u001b[1;33m(\u001b[0m\u001b[0mtext_list\u001b[0m\u001b[1;33m)\u001b[0m\u001b[1;33m)\u001b[0m\u001b[1;33m:\u001b[0m\u001b[1;33m\u001b[0m\u001b[1;33m\u001b[0m\u001b[0m\n\u001b[1;32m---> 15\u001b[1;33m         \u001b[1;32mif\u001b[0m \u001b[0msubject_extraction\u001b[0m\u001b[1;33m(\u001b[0m\u001b[0mtext_list\u001b[0m\u001b[1;33m[\u001b[0m\u001b[0mi\u001b[0m\u001b[1;33m]\u001b[0m\u001b[1;33m)\u001b[0m \u001b[1;33m==\u001b[0m \u001b[0mkey1\u001b[0m\u001b[1;33m:\u001b[0m\u001b[1;33m\u001b[0m\u001b[1;33m\u001b[0m\u001b[0m\n\u001b[0m\u001b[0;32m     16\u001b[0m             \u001b[0mplus_num\u001b[0m \u001b[1;33m=\u001b[0m \u001b[1;36m1\u001b[0m\u001b[1;33m\u001b[0m\u001b[1;33m\u001b[0m\u001b[0m\n\u001b[0;32m     17\u001b[0m             \u001b[1;31m# milk_para.append(text_list[i])\u001b[0m\u001b[1;33m\u001b[0m\u001b[1;33m\u001b[0m\u001b[1;33m\u001b[0m\u001b[0m\n",
      "\u001b[1;32m~\\AppData\\Local\\Temp\\ipykernel_17844\\3590838046.py\u001b[0m in \u001b[0;36msubject_extraction\u001b[1;34m(text)\u001b[0m\n\u001b[0;32m      2\u001b[0m \u001b[1;32mdef\u001b[0m \u001b[0msubject_extraction\u001b[0m\u001b[1;33m(\u001b[0m\u001b[0mtext\u001b[0m\u001b[1;33m)\u001b[0m\u001b[1;33m:\u001b[0m\u001b[1;33m\u001b[0m\u001b[1;33m\u001b[0m\u001b[0m\n\u001b[0;32m      3\u001b[0m     \u001b[1;31m# 형태소 분석\u001b[0m\u001b[1;33m\u001b[0m\u001b[1;33m\u001b[0m\u001b[1;33m\u001b[0m\u001b[0m\n\u001b[1;32m----> 4\u001b[1;33m     \u001b[0mpos\u001b[0m \u001b[1;33m=\u001b[0m \u001b[0mKkma\u001b[0m\u001b[1;33m.\u001b[0m\u001b[0mpos\u001b[0m\u001b[1;33m(\u001b[0m\u001b[0mtext\u001b[0m\u001b[1;33m)\u001b[0m\u001b[1;33m\u001b[0m\u001b[1;33m\u001b[0m\u001b[0m\n\u001b[0m\u001b[0;32m      5\u001b[0m \u001b[1;33m\u001b[0m\u001b[0m\n\u001b[0;32m      6\u001b[0m     \u001b[1;31m# 주어 추출\u001b[0m\u001b[1;33m\u001b[0m\u001b[1;33m\u001b[0m\u001b[1;33m\u001b[0m\u001b[0m\n",
      "\u001b[1;32mc:\\ProgramData\\Anaconda3\\envs\\py37\\lib\\site-packages\\konlpy\\tag\\_kkma.py\u001b[0m in \u001b[0;36mpos\u001b[1;34m(self, phrase, flatten, join)\u001b[0m\n\u001b[0;32m     64\u001b[0m         \u001b[0mvalidate_phrase_inputs\u001b[0m\u001b[1;33m(\u001b[0m\u001b[0mphrase\u001b[0m\u001b[1;33m)\u001b[0m\u001b[1;33m\u001b[0m\u001b[1;33m\u001b[0m\u001b[0m\n\u001b[0;32m     65\u001b[0m \u001b[1;33m\u001b[0m\u001b[0m\n\u001b[1;32m---> 66\u001b[1;33m         \u001b[0msentences\u001b[0m \u001b[1;33m=\u001b[0m \u001b[0mself\u001b[0m\u001b[1;33m.\u001b[0m\u001b[0mjki\u001b[0m\u001b[1;33m.\u001b[0m\u001b[0mmorphAnalyzer\u001b[0m\u001b[1;33m(\u001b[0m\u001b[0mphrase\u001b[0m\u001b[1;33m)\u001b[0m\u001b[1;33m\u001b[0m\u001b[1;33m\u001b[0m\u001b[0m\n\u001b[0m\u001b[0;32m     67\u001b[0m         \u001b[0mmorphemes\u001b[0m \u001b[1;33m=\u001b[0m \u001b[1;33m[\u001b[0m\u001b[1;33m]\u001b[0m\u001b[1;33m\u001b[0m\u001b[1;33m\u001b[0m\u001b[0m\n\u001b[0;32m     68\u001b[0m         \u001b[1;32mif\u001b[0m \u001b[1;32mnot\u001b[0m \u001b[0msentences\u001b[0m\u001b[1;33m:\u001b[0m\u001b[1;33m\u001b[0m\u001b[1;33m\u001b[0m\u001b[0m\n",
      "\u001b[1;31mKeyboardInterrupt\u001b[0m: "
     ]
    }
   ],
   "source": [
    "# key1 = '홈런'\n",
    "# key2 = input('find keyword')\n",
    "# 이모티콘 같은 특수기호가 들어가 있으면 에러발생...\n",
    "\n",
    "df['keyword_dict'] = df['contents'].apply(lambda x : gather_sentence(x, '밀크', '홈런'))"
   ]
  },
  {
   "cell_type": "code",
   "execution_count": 155,
   "metadata": {},
   "outputs": [
    {
     "name": "stdout",
     "output_type": "stream",
     "text": [
      "0번째 실행중\n",
      "1번째 실행중\n",
      "2번째 실행중\n",
      "3번째 실행중\n",
      "4번째 실행중\n",
      "5번째 실행중\n",
      "6번째 실행중\n",
      "7번째 실행중\n",
      "8번째 실행중\n",
      "9번째 실행중\n",
      "10번째 실행중\n",
      "11번째 실행중\n",
      "12번째 실행중\n",
      "13번째 실행중\n",
      "14번째 실행중\n",
      "15번째 실행중\n",
      "16번째 실행중\n",
      "17번째 실행중\n",
      "18번째 실행중\n",
      "19번째 실행중\n",
      "20번째 실행중\n",
      "21번째 실행중\n",
      "22번째 실행중\n",
      "23번째 실행중\n",
      "24번째 실행중\n",
      "25번째 실행중\n",
      "26번째 실행중\n",
      "27번째 실행중\n",
      "28번째 실행중\n",
      "29번째 실행중\n",
      "30번째 실행중\n",
      "31번째 실행중\n",
      "32번째 실행중\n",
      "33번째 실행중\n",
      "34번째 실행중\n",
      "35번째 실행중\n",
      "36번째 실행중\n",
      "37번째 실행중\n",
      "38번째 실행중\n",
      "39번째 실행중\n",
      "40번째 실행중\n",
      "41번째 실행중\n",
      "42번째 실행중\n",
      "43번째 실행중\n",
      "44번째 실행중\n",
      "45번째 실행중\n",
      "46번째 실행중\n",
      "47번째 실행중\n",
      "48번째 실행중\n",
      "49번째 실행중\n",
      "50번째 실행중\n",
      "51번째 실행중\n",
      "52번째 실행중\n",
      "53번째 실행중\n",
      "54번째 실행중\n",
      "55번째 실행중\n",
      "56번째 실행중\n",
      "57번째 실행중\n",
      "58번째 실행중\n",
      "59번째 실행중\n",
      "60번째 실행중\n",
      "61번째 실행중\n",
      "62번째 실행중\n",
      "63번째 실행중\n",
      "64번째 실행중\n",
      "65번째 실행중\n",
      "66번째 실행중\n",
      "67번째 실행중\n",
      "68번째 실행중\n",
      "69번째 실행중\n",
      "70번째 실행중\n",
      "71번째 실행중\n",
      "72번째 실행중\n",
      "73번째 실행중\n",
      "74번째 실행중\n",
      "75번째 실행중\n",
      "76번째 실행중\n",
      "77번째 실행중\n",
      "78번째 실행중\n",
      "79번째 실행중\n",
      "80번째 실행중\n",
      "81번째 실행중\n",
      "82번째 실행중\n",
      "83번째 실행중\n",
      "84번째 실행중\n",
      "85번째 실행중\n",
      "86번째 실행중\n",
      "87번째 실행중\n",
      "88번째 실행중\n",
      "89번째 실행중\n",
      "90번째 실행중\n",
      "91번째 실행중\n",
      "92번째 실행중\n",
      "93번째 실행중\n",
      "94번째 실행중\n",
      "95번째 실행중\n",
      "96번째 실행중\n",
      "97번째 실행중\n",
      "98번째 실행중\n",
      "99번째 실행중\n",
      "100번째 실행중\n",
      "101번째 실행중\n",
      "102번째 실행중\n",
      "103번째 실행중\n",
      "104번째 실행중\n",
      "105번째 실행중\n",
      "106번째 실행중\n",
      "107번째 실행중\n",
      "108번째 실행중\n",
      "109번째 실행중\n",
      "110번째 실행중\n",
      "111번째 실행중\n",
      "112번째 실행중\n",
      "113번째 실행중\n",
      "114번째 실행중\n",
      "115번째 실행중\n",
      "116번째 실행중\n",
      "117번째 실행중\n",
      "118번째 실행중\n",
      "119번째 실행중\n",
      "120번째 실행중\n",
      "121번째 실행중\n",
      "122번째 실행중\n"
     ]
    }
   ],
   "source": [
    "dict_list = []\n",
    "\n",
    "for i in range(len(df.contents)):\n",
    "    print(f'{i}번째 실행중')\n",
    "    dict_list.append(gather_sentence(df.contents[i], '밀크', '홈런'))"
   ]
  },
  {
   "cell_type": "code",
   "execution_count": null,
   "metadata": {},
   "outputs": [],
   "source": []
  },
  {
   "cell_type": "code",
   "execution_count": null,
   "metadata": {},
   "outputs": [],
   "source": []
  },
  {
   "cell_type": "code",
   "execution_count": null,
   "metadata": {},
   "outputs": [],
   "source": [
    "import pandas as pd"
   ]
  },
  {
   "cell_type": "code",
   "execution_count": null,
   "metadata": {},
   "outputs": [
    {
     "data": {
      "text/html": [
       "<div>\n",
       "<style scoped>\n",
       "    .dataframe tbody tr th:only-of-type {\n",
       "        vertical-align: middle;\n",
       "    }\n",
       "\n",
       "    .dataframe tbody tr th {\n",
       "        vertical-align: top;\n",
       "    }\n",
       "\n",
       "    .dataframe thead th {\n",
       "        text-align: right;\n",
       "    }\n",
       "</style>\n",
       "<table border=\"1\" class=\"dataframe\">\n",
       "  <thead>\n",
       "    <tr style=\"text-align: right;\">\n",
       "      <th></th>\n",
       "      <th>text</th>\n",
       "      <th>date</th>\n",
       "      <th>click</th>\n",
       "      <th>topic</th>\n",
       "    </tr>\n",
       "  </thead>\n",
       "  <tbody>\n",
       "    <tr>\n",
       "      <th>0</th>\n",
       "      <td>어떤게나을까요?! 지금은 웅진 학습지로만(지면) 하고있어요~ 패드로 슬슬 갈까하는데...</td>\n",
       "      <td>2023-03-03 14:49:00</td>\n",
       "      <td>502</td>\n",
       "      <td>초1</td>\n",
       "    </tr>\n",
       "    <tr>\n",
       "      <th>1</th>\n",
       "      <td>어떤게나을까요?! 지금은 웅진 학습지로만(지면) 하고있어요~ 패드로 슬슬 갈까하는데...</td>\n",
       "      <td>2023-03-03 14:49:00</td>\n",
       "      <td>502</td>\n",
       "      <td>초1</td>\n",
       "    </tr>\n",
       "    <tr>\n",
       "      <th>2</th>\n",
       "      <td>초1이고 밀크티 하고 있어요\\n오늘의 학습만 매일하고 있는데요\\n초등 2학년때까진 ...</td>\n",
       "      <td>2023-03-20 22:35:00</td>\n",
       "      <td>208</td>\n",
       "      <td>초1</td>\n",
       "    </tr>\n",
       "    <tr>\n",
       "      <th>3</th>\n",
       "      <td>대부분의 받아쓰기는 빠르면 4살, 늦어도\\n초등학교 입학전부터 학습하는 경우가 많잖...</td>\n",
       "      <td>2022-09-06 16:58:00</td>\n",
       "      <td>661</td>\n",
       "      <td>초1</td>\n",
       "    </tr>\n",
       "    <tr>\n",
       "      <th>4</th>\n",
       "      <td>초1인데 패드로 하는 학습지를 시켜보고 싶은데요.\\n빨간펜, 윙크,밀크티 중 어떤게...</td>\n",
       "      <td>2023-03-14 15:02:00</td>\n",
       "      <td>219</td>\n",
       "      <td>초1</td>\n",
       "    </tr>\n",
       "    <tr>\n",
       "      <th>...</th>\n",
       "      <td>...</td>\n",
       "      <td>...</td>\n",
       "      <td>...</td>\n",
       "      <td>...</td>\n",
       "    </tr>\n",
       "    <tr>\n",
       "      <th>1792</th>\n",
       "      <td>아이가 구몬국어랑 수학을 3년째 하고 있어요. 잘따라와줬고 밀리지않고 잘하는 편인데...</td>\n",
       "      <td>2021-01-08 00:16:00</td>\n",
       "      <td>4056</td>\n",
       "      <td>초3</td>\n",
       "    </tr>\n",
       "    <tr>\n",
       "      <th>1793</th>\n",
       "      <td>초등1 여아이에요.\\n서점에 들렸다가 밀크티 알게 되었는데요~\\n학년별로 다 나왔있...</td>\n",
       "      <td>2020-02-10 10:40:00</td>\n",
       "      <td>773</td>\n",
       "      <td>초3</td>\n",
       "    </tr>\n",
       "    <tr>\n",
       "      <th>1794</th>\n",
       "      <td>밀크티나 홈런? 엘리하이 이런거는 어디서 체험신청하나요? 초5인데 관리잘되는곳은 어...</td>\n",
       "      <td>2021-12-06 00:27:00</td>\n",
       "      <td>1094</td>\n",
       "      <td>초3</td>\n",
       "    </tr>\n",
       "    <tr>\n",
       "      <th>1795</th>\n",
       "      <td>학원은 안가려고 해서\\n패드수업알아보는데요~\\n현재 초3,초1이에요\\n밀크티 와이즈...</td>\n",
       "      <td>2022-09-22 21:24:00</td>\n",
       "      <td>564</td>\n",
       "      <td>초3</td>\n",
       "    </tr>\n",
       "    <tr>\n",
       "      <th>1796</th>\n",
       "      <td>이제 초3이 되는 3학년 큰아이 학습 방향을 어찌해야할지 모르겠네요..\\n사회며, ...</td>\n",
       "      <td>2021-01-05 16:02:00</td>\n",
       "      <td>447</td>\n",
       "      <td>초3</td>\n",
       "    </tr>\n",
       "  </tbody>\n",
       "</table>\n",
       "<p>1797 rows × 4 columns</p>\n",
       "</div>"
      ],
      "text/plain": [
       "                                                   text                date  \\\n",
       "0     어떤게나을까요?! 지금은 웅진 학습지로만(지면) 하고있어요~ 패드로 슬슬 갈까하는데... 2023-03-03 14:49:00   \n",
       "1     어떤게나을까요?! 지금은 웅진 학습지로만(지면) 하고있어요~ 패드로 슬슬 갈까하는데... 2023-03-03 14:49:00   \n",
       "2     초1이고 밀크티 하고 있어요\\n오늘의 학습만 매일하고 있는데요\\n초등 2학년때까진 ... 2023-03-20 22:35:00   \n",
       "3     대부분의 받아쓰기는 빠르면 4살, 늦어도\\n초등학교 입학전부터 학습하는 경우가 많잖... 2022-09-06 16:58:00   \n",
       "4     초1인데 패드로 하는 학습지를 시켜보고 싶은데요.\\n빨간펜, 윙크,밀크티 중 어떤게... 2023-03-14 15:02:00   \n",
       "...                                                 ...                 ...   \n",
       "1792  아이가 구몬국어랑 수학을 3년째 하고 있어요. 잘따라와줬고 밀리지않고 잘하는 편인데... 2021-01-08 00:16:00   \n",
       "1793  초등1 여아이에요.\\n서점에 들렸다가 밀크티 알게 되었는데요~\\n학년별로 다 나왔있... 2020-02-10 10:40:00   \n",
       "1794  밀크티나 홈런? 엘리하이 이런거는 어디서 체험신청하나요? 초5인데 관리잘되는곳은 어... 2021-12-06 00:27:00   \n",
       "1795  학원은 안가려고 해서\\n패드수업알아보는데요~\\n현재 초3,초1이에요\\n밀크티 와이즈... 2022-09-22 21:24:00   \n",
       "1796  이제 초3이 되는 3학년 큰아이 학습 방향을 어찌해야할지 모르겠네요..\\n사회며, ... 2021-01-05 16:02:00   \n",
       "\n",
       "      click topic  \n",
       "0       502    초1  \n",
       "1       502    초1  \n",
       "2       208    초1  \n",
       "3       661    초1  \n",
       "4       219    초1  \n",
       "...     ...   ...  \n",
       "1792   4056    초3  \n",
       "1793    773    초3  \n",
       "1794   1094    초3  \n",
       "1795    564    초3  \n",
       "1796    447    초3  \n",
       "\n",
       "[1797 rows x 4 columns]"
      ]
     },
     "execution_count": 69,
     "metadata": {},
     "output_type": "execute_result"
    }
   ],
   "source": [
    "ele_df = pd.read_parquet('./test_final.parquet')\n",
    "ele_df"
   ]
  },
  {
   "cell_type": "code",
   "execution_count": null,
   "metadata": {},
   "outputs": [],
   "source": [
    "# df = pd.read_csv('./밀크T 아이스크림.csv')\n",
    "# df.contents[0]"
   ]
  }
 ],
 "metadata": {
  "kernelspec": {
   "display_name": "Python 3.7.16 ('py37')",
   "language": "python",
   "name": "python3"
  },
  "language_info": {
   "codemirror_mode": {
    "name": "ipython",
    "version": 3
   },
   "file_extension": ".py",
   "mimetype": "text/x-python",
   "name": "python",
   "nbconvert_exporter": "python",
   "pygments_lexer": "ipython3",
   "version": "3.7.16"
  },
  "orig_nbformat": 4,
  "vscode": {
   "interpreter": {
    "hash": "b79a61544c9a744d09395b396d14bdc3ab2980641b64ddb1c7bc6d7b892900a0"
   }
  }
 },
 "nbformat": 4,
 "nbformat_minor": 2
}
