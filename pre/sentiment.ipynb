{
 "cells": [
  {
   "cell_type": "code",
   "execution_count": 1,
   "metadata": {},
   "outputs": [],
   "source": [
    "import os\n",
    "import pandas as pd\n",
    "import matplotlib.pyplot as plt\n",
    "from matplotlib import font_manager, rc\n",
    "import seaborn as sns\n",
    "from tqdm import tqdm, tqdm_pandas\n",
    "import re"
   ]
  },
  {
   "cell_type": "code",
   "execution_count": null,
   "metadata": {},
   "outputs": [],
   "source": []
  },
  {
   "cell_type": "code",
   "execution_count": null,
   "metadata": {},
   "outputs": [],
   "source": []
  },
  {
   "cell_type": "code",
   "execution_count": null,
   "metadata": {},
   "outputs": [],
   "source": []
  },
  {
   "cell_type": "code",
   "execution_count": null,
   "metadata": {},
   "outputs": [],
   "source": []
  },
  {
   "cell_type": "code",
   "execution_count": null,
   "metadata": {},
   "outputs": [],
   "source": []
  },
  {
   "cell_type": "markdown",
   "metadata": {},
   "source": [
    "---\n",
    "## Sentiment"
   ]
  },
  {
   "cell_type": "code",
   "execution_count": null,
   "metadata": {},
   "outputs": [],
   "source": [
    "# 긍/부정문 사전 필요\n",
    "\n",
    "posi_path = \"C://Users/user/Documents/YE/project/posi_word.txt\"\n",
    "nega_path = \"C://Users/user/Documents/YE/project/nega_word.txt\"\n",
    "none_path = \"C://Users/user/Documents/YE/project/unknown_word.txt\"\n",
    "\n",
    "with open(posi_path, encoding='utf-8') as f:\n",
    "    positive_words = f.readlines()\n",
    "\n",
    "with open(posi_path, encoding='utf-8') as f:\n",
    "    negative_words = f.readlines()\n",
    "\n",
    "with open(posi_path, encoding='utf-8') as f:\n",
    "    none_words = f.readlines()\n",
    "\n",
    "positive_words = [line.rstrip('\\n') for line in positive_words]\n",
    "negative_words = [line.rstrip('\\n') for line in negative_words]\n",
    "none_words = [line.rstrip('\\n') for line in none_words]"
   ]
  },
  {
   "cell_type": "code",
   "execution_count": null,
   "metadata": {},
   "outputs": [
    {
     "data": {
      "text/html": [
       "<div>\n",
       "<style scoped>\n",
       "    .dataframe tbody tr th:only-of-type {\n",
       "        vertical-align: middle;\n",
       "    }\n",
       "\n",
       "    .dataframe tbody tr th {\n",
       "        vertical-align: top;\n",
       "    }\n",
       "\n",
       "    .dataframe thead th {\n",
       "        text-align: right;\n",
       "    }\n",
       "</style>\n",
       "<table border=\"1\" class=\"dataframe\">\n",
       "  <thead>\n",
       "    <tr style=\"text-align: right;\">\n",
       "      <th></th>\n",
       "      <th>keyword_dict</th>\n",
       "      <th>contents</th>\n",
       "      <th>recommend</th>\n",
       "      <th>아이스크림</th>\n",
       "      <th>엘리하이</th>\n",
       "      <th>K_cluster</th>\n",
       "      <th>x0</th>\n",
       "      <th>x1</th>\n",
       "      <th>PCA_clus</th>\n",
       "      <th>predict</th>\n",
       "    </tr>\n",
       "  </thead>\n",
       "  <tbody>\n",
       "    <tr>\n",
       "      <th>0</th>\n",
       "      <td>{'밀크': [' 밀크T는 로그인이 홈런보다는복잡한 편인데요 로그인학습기를 켜면 밀...</td>\n",
       "      <td>아이스크림홈런 천재교육밀크티 밀크T 밀크티 초등학습지 유아학습지 학습지선택 학습기 ...</td>\n",
       "      <td>False</td>\n",
       "      <td>True</td>\n",
       "      <td>True</td>\n",
       "      <td>0</td>\n",
       "      <td>-0.110558</td>\n",
       "      <td>0.174494</td>\n",
       "      <td>Zero</td>\n",
       "      <td>0</td>\n",
       "    </tr>\n",
       "    <tr>\n",
       "      <th>1</th>\n",
       "      <td>{'밀크': [' 아하밀크T는 하단에 오늘의 퀴즈 오늘의 한자가 따로 있어서 함께 ...</td>\n",
       "      <td>우리카드 9월 이벤트 밀크T 무료체험하고 혜택 100 받기■ 밀크T 무료 체험 이벤...</td>\n",
       "      <td>True</td>\n",
       "      <td>True</td>\n",
       "      <td>True</td>\n",
       "      <td>0</td>\n",
       "      <td>-0.122886</td>\n",
       "      <td>0.251173</td>\n",
       "      <td>Zero</td>\n",
       "      <td>0</td>\n",
       "    </tr>\n",
       "    <tr>\n",
       "      <th>2</th>\n",
       "      <td>{'밀크': [' 이렇게 신청한 스마트 패드가5가지 교원 빨간펜 아이캔두 초등 천재...</td>\n",
       "      <td>곧 초등학교에 입학하는 첫째에게시켜준없었어서방학기간에 초등학교 입학 준비를 시켜주기...</td>\n",
       "      <td>False</td>\n",
       "      <td>True</td>\n",
       "      <td>True</td>\n",
       "      <td>0</td>\n",
       "      <td>-0.080161</td>\n",
       "      <td>0.204537</td>\n",
       "      <td>Zero</td>\n",
       "      <td>0</td>\n",
       "    </tr>\n",
       "    <tr>\n",
       "      <th>3</th>\n",
       "      <td>{'밀크': [' 전업주부니까 그게 저의 직업이라고 생각했어요하지만 모든걸잘하고 싶...</td>\n",
       "      <td>안녕하세요 구미여신 입니다저는손으로 아이를 바르게키우고 싶다는 욕심이 있었어요학습 ...</td>\n",
       "      <td>False</td>\n",
       "      <td>True</td>\n",
       "      <td>True</td>\n",
       "      <td>2</td>\n",
       "      <td>-0.132493</td>\n",
       "      <td>-0.074329</td>\n",
       "      <td>two</td>\n",
       "      <td>0</td>\n",
       "    </tr>\n",
       "    <tr>\n",
       "      <th>4</th>\n",
       "      <td>{'밀크': [' 구분엘리하이7일윙크6일밀크T10일아이스크림 홈럼10일업체메가스터디...</td>\n",
       "      <td>앞에 올렸던 무료체험 비교 1을 계속 수정하려고 했는데 글이 너무 길어지는같아서다시...</td>\n",
       "      <td>True</td>\n",
       "      <td>True</td>\n",
       "      <td>True</td>\n",
       "      <td>0</td>\n",
       "      <td>-0.096804</td>\n",
       "      <td>0.060593</td>\n",
       "      <td>Zero</td>\n",
       "      <td>0</td>\n",
       "    </tr>\n",
       "  </tbody>\n",
       "</table>\n",
       "</div>"
      ],
      "text/plain": [
       "                                        keyword_dict  \\\n",
       "0  {'밀크': [' 밀크T는 로그인이 홈런보다는복잡한 편인데요 로그인학습기를 켜면 밀...   \n",
       "1  {'밀크': [' 아하밀크T는 하단에 오늘의 퀴즈 오늘의 한자가 따로 있어서 함께 ...   \n",
       "2  {'밀크': [' 이렇게 신청한 스마트 패드가5가지 교원 빨간펜 아이캔두 초등 천재...   \n",
       "3  {'밀크': [' 전업주부니까 그게 저의 직업이라고 생각했어요하지만 모든걸잘하고 싶...   \n",
       "4  {'밀크': [' 구분엘리하이7일윙크6일밀크T10일아이스크림 홈럼10일업체메가스터디...   \n",
       "\n",
       "                                            contents  recommend  아이스크림  엘리하이  \\\n",
       "0  아이스크림홈런 천재교육밀크티 밀크T 밀크티 초등학습지 유아학습지 학습지선택 학습기 ...      False   True  True   \n",
       "1  우리카드 9월 이벤트 밀크T 무료체험하고 혜택 100 받기■ 밀크T 무료 체험 이벤...       True   True  True   \n",
       "2  곧 초등학교에 입학하는 첫째에게시켜준없었어서방학기간에 초등학교 입학 준비를 시켜주기...      False   True  True   \n",
       "3  안녕하세요 구미여신 입니다저는손으로 아이를 바르게키우고 싶다는 욕심이 있었어요학습 ...      False   True  True   \n",
       "4  앞에 올렸던 무료체험 비교 1을 계속 수정하려고 했는데 글이 너무 길어지는같아서다시...       True   True  True   \n",
       "\n",
       "   K_cluster        x0        x1 PCA_clus  predict  \n",
       "0          0 -0.110558  0.174494     Zero        0  \n",
       "1          0 -0.122886  0.251173     Zero        0  \n",
       "2          0 -0.080161  0.204537     Zero        0  \n",
       "3          2 -0.132493 -0.074329      two        0  \n",
       "4          0 -0.096804  0.060593     Zero        0  "
      ]
     },
     "metadata": {},
     "output_type": "display_data"
    }
   ],
   "source": [
    "df_mg.head()"
   ]
  },
  {
   "cell_type": "code",
   "execution_count": null,
   "metadata": {},
   "outputs": [
    {
     "data": {
      "text/html": [
       "<div>\n",
       "<style scoped>\n",
       "    .dataframe tbody tr th:only-of-type {\n",
       "        vertical-align: middle;\n",
       "    }\n",
       "\n",
       "    .dataframe tbody tr th {\n",
       "        vertical-align: top;\n",
       "    }\n",
       "\n",
       "    .dataframe thead th {\n",
       "        text-align: right;\n",
       "    }\n",
       "</style>\n",
       "<table border=\"1\" class=\"dataframe\">\n",
       "  <thead>\n",
       "    <tr style=\"text-align: right;\">\n",
       "      <th></th>\n",
       "      <th>contents</th>\n",
       "      <th>PCA_clus</th>\n",
       "    </tr>\n",
       "  </thead>\n",
       "  <tbody>\n",
       "    <tr>\n",
       "      <th>0</th>\n",
       "      <td>아이스크림홈런 천재교육밀크티 밀크T 밀크티 초등학습지 유아학습지 학습지선택 학습기 ...</td>\n",
       "      <td>Zero</td>\n",
       "    </tr>\n",
       "    <tr>\n",
       "      <th>1</th>\n",
       "      <td>우리카드 9월 이벤트 밀크T 무료체험하고 혜택 100 받기■ 밀크T 무료 체험 이벤...</td>\n",
       "      <td>Zero</td>\n",
       "    </tr>\n",
       "    <tr>\n",
       "      <th>2</th>\n",
       "      <td>곧 초등학교에 입학하는 첫째에게시켜준없었어서방학기간에 초등학교 입학 준비를 시켜주기...</td>\n",
       "      <td>Zero</td>\n",
       "    </tr>\n",
       "    <tr>\n",
       "      <th>3</th>\n",
       "      <td>안녕하세요 구미여신 입니다저는손으로 아이를 바르게키우고 싶다는 욕심이 있었어요학습 ...</td>\n",
       "      <td>two</td>\n",
       "    </tr>\n",
       "    <tr>\n",
       "      <th>4</th>\n",
       "      <td>앞에 올렸던 무료체험 비교 1을 계속 수정하려고 했는데 글이 너무 길어지는같아서다시...</td>\n",
       "      <td>Zero</td>\n",
       "    </tr>\n",
       "    <tr>\n",
       "      <th>...</th>\n",
       "      <td>...</td>\n",
       "      <td>...</td>\n",
       "    </tr>\n",
       "    <tr>\n",
       "      <th>1006</th>\n",
       "      <td>중학 스마트학습 천재교육 밀크티로. 온라인 학습하다가학교 다니고 하다 보니아이들이 ...</td>\n",
       "      <td>two</td>\n",
       "    </tr>\n",
       "    <tr>\n",
       "      <th>1007</th>\n",
       "      <td>홈쇼핑에서 2월 말부터 방송이 나오더라고요와이즈캠프도 있었는데 그건 신청을했어요우선...</td>\n",
       "      <td>Zero</td>\n",
       "    </tr>\n",
       "    <tr>\n",
       "      <th>1008</th>\n",
       "      <td>작년 이맘때 초등준비를 위해7세 홈스쿨로 무엇이 좋을까 고민 중이었어요. 학습적인 ...</td>\n",
       "      <td>two</td>\n",
       "    </tr>\n",
       "    <tr>\n",
       "      <th>1009</th>\n",
       "      <td>요즘은 초등홈스쿨링을책이나 문제집으로 하는 지면학습보다스마트학습을 선호하는 분들이 ...</td>\n",
       "      <td>two</td>\n",
       "    </tr>\n",
       "    <tr>\n",
       "      <th>1010</th>\n",
       "      <td>벌써 3월이 끝나가네요. 교복을 어색해하던 게엊그제 같은데 이젠 제법 중학생 티가 ...</td>\n",
       "      <td>two</td>\n",
       "    </tr>\n",
       "  </tbody>\n",
       "</table>\n",
       "<p>1011 rows × 2 columns</p>\n",
       "</div>"
      ],
      "text/plain": [
       "                                               contents PCA_clus\n",
       "0     아이스크림홈런 천재교육밀크티 밀크T 밀크티 초등학습지 유아학습지 학습지선택 학습기 ...     Zero\n",
       "1     우리카드 9월 이벤트 밀크T 무료체험하고 혜택 100 받기■ 밀크T 무료 체험 이벤...     Zero\n",
       "2     곧 초등학교에 입학하는 첫째에게시켜준없었어서방학기간에 초등학교 입학 준비를 시켜주기...     Zero\n",
       "3     안녕하세요 구미여신 입니다저는손으로 아이를 바르게키우고 싶다는 욕심이 있었어요학습 ...      two\n",
       "4     앞에 올렸던 무료체험 비교 1을 계속 수정하려고 했는데 글이 너무 길어지는같아서다시...     Zero\n",
       "...                                                 ...      ...\n",
       "1006  중학 스마트학습 천재교육 밀크티로. 온라인 학습하다가학교 다니고 하다 보니아이들이 ...      two\n",
       "1007  홈쇼핑에서 2월 말부터 방송이 나오더라고요와이즈캠프도 있었는데 그건 신청을했어요우선...     Zero\n",
       "1008  작년 이맘때 초등준비를 위해7세 홈스쿨로 무엇이 좋을까 고민 중이었어요. 학습적인 ...      two\n",
       "1009  요즘은 초등홈스쿨링을책이나 문제집으로 하는 지면학습보다스마트학습을 선호하는 분들이 ...      two\n",
       "1010  벌써 3월이 끝나가네요. 교복을 어색해하던 게엊그제 같은데 이젠 제법 중학생 티가 ...      two\n",
       "\n",
       "[1011 rows x 2 columns]"
      ]
     },
     "metadata": {},
     "output_type": "display_data"
    }
   ],
   "source": [
    "df_sent = df_mg[['contents', 'PCA_clus']]\n",
    "df_sent"
   ]
  },
  {
   "cell_type": "code",
   "execution_count": null,
   "metadata": {},
   "outputs": [
    {
     "data": {
      "text/plain": [
       "'아이스크림홈런 천재'"
      ]
     },
     "metadata": {},
     "output_type": "display_data"
    }
   ],
   "source": [
    "keyword = df_sent.get('PCA_clus')\n",
    "text = df_sent.get('contents')\n",
    "\n",
    "divide_text = {keyword[0]:text[0]}\n",
    "for i in range(len(keyword)):\n",
    "    if divide_text.get(keyword[i]) != None:\n",
    "        divide_text[keyword[i]] = divide_text.get(keyword[i]) + \"\\n\" + text[i]\n",
    "    else:\n",
    "        divide_text[keyword[i]] = text[i]\n",
    "\n",
    "# company.get('Zero')\n",
    "divide_text.get('Zero')[:10]"
   ]
  },
  {
   "cell_type": "code",
   "execution_count": null,
   "metadata": {},
   "outputs": [],
   "source": [
    "tokens=[]\n",
    "for f, t in divide_text.items():\n",
    "    token=word_tokenize(t)\n",
    "    tokens.append([f,token])"
   ]
  },
  {
   "cell_type": "code",
   "execution_count": null,
   "metadata": {},
   "outputs": [
    {
     "ename": "ZeroDivisionError",
     "evalue": "division by zero",
     "output_type": "error",
     "traceback": [
      "\u001b[1;31m---------------------------------------------------------------------------\u001b[0m\n",
      "\n",
      "\u001b[1;31mZeroDivisionError\u001b[0m                         Traceback (most recent call last)\n",
      "\n",
      "\u001b[1;32m~\\AppData\\Local\\Temp\\ipykernel_8232\\1903709363.py\u001b[0m in \u001b[0;36m<module>\u001b[1;34m\u001b[0m\n",
      "\n",
      "\u001b[0;32m     14\u001b[0m             \u001b[0mcount\u001b[0m\u001b[1;33m+=\u001b[0m\u001b[1;36m1\u001b[0m\u001b[1;33m\u001b[0m\u001b[1;33m\u001b[0m\u001b[0m\n",
      "\n",
      "\u001b[0;32m     15\u001b[0m \u001b[1;33m\u001b[0m\u001b[0m\n",
      "\n",
      "\u001b[1;32m---> 16\u001b[1;33m     \u001b[0msentiment_keyword\u001b[0m\u001b[1;33m.\u001b[0m\u001b[0mappend\u001b[0m\u001b[1;33m(\u001b[0m\u001b[1;33m[\u001b[0m\u001b[0mkeyword\u001b[0m\u001b[1;33m,\u001b[0m\u001b[0msentiment\u001b[0m\u001b[1;33m/\u001b[0m\u001b[0mcount\u001b[0m\u001b[1;33m]\u001b[0m\u001b[1;33m)\u001b[0m\u001b[1;33m\u001b[0m\u001b[1;33m\u001b[0m\u001b[0m\n",
      "\n",
      "\u001b[0m\u001b[0;32m     17\u001b[0m \u001b[1;33m\u001b[0m\u001b[0m\n",
      "\n",
      "\u001b[0;32m     18\u001b[0m \u001b[0msentiment_keyword\u001b[0m\u001b[1;33m[\u001b[0m\u001b[1;36m0\u001b[0m\u001b[1;33m:\u001b[0m\u001b[1;36m10\u001b[0m\u001b[1;33m]\u001b[0m\u001b[1;33m\u001b[0m\u001b[1;33m\u001b[0m\u001b[0m\n",
      "\n",
      "\n",
      "\n",
      "\u001b[1;31mZeroDivisionError\u001b[0m: division by zero"
     ]
    }
   ],
   "source": [
    "sentiment_keyword=[]\n",
    "\n",
    "for token in tokens:\n",
    "    keyword=token[0]\n",
    "    sentiment=0\n",
    "    count=0\n",
    "    \n",
    "    for t in token[1]:\n",
    "        if t in positive_words:\n",
    "            sentiment+=1\n",
    "            count+=1\n",
    "        elif t in negative_words:\n",
    "            sentiment -=1\n",
    "            count+=1\n",
    "    \n",
    "    sentiment_keyword.append([keyword,sentiment/count])\n",
    "\n",
    "sentiment_keyword[0:10]"
   ]
  },
  {
   "cell_type": "code",
   "execution_count": null,
   "metadata": {},
   "outputs": [],
   "source": [
    "a=[]\n",
    "for firm in sentiment_keyword:\n",
    "    a.append(firm[1]*100)\n",
    "X=np.arange(len(a))\n",
    "\n",
    "plt.title(\"sentiment(%)\",fontsize=20)\n",
    "plt.bar(X,a)\n",
    "plt.show()"
   ]
  },
  {
   "cell_type": "code",
   "execution_count": null,
   "metadata": {},
   "outputs": [],
   "source": [
    "# !pip install py_lex"
   ]
  },
  {
   "cell_type": "markdown",
   "metadata": {},
   "source": [
    "한국 감성사전\n",
    "https://github.com/park1200656/KnuSentiLex"
   ]
  },
  {
   "cell_type": "code",
   "execution_count": null,
   "metadata": {},
   "outputs": [],
   "source": [
    "# from py_lex import Liwc, EmoLex\n",
    "# emotion_dic=pd.read_excel('korea_emotion_dictinary')\n",
    "# emotion_dic[0:10]"
   ]
  },
  {
   "cell_type": "code",
   "execution_count": null,
   "metadata": {},
   "outputs": [],
   "source": [
    "# df_emot=emotion_dic.set_index('!!!!') # 칼럼 중 key값을 set_index"
   ]
  },
  {
   "cell_type": "code",
   "execution_count": null,
   "metadata": {},
   "outputs": [],
   "source": [
    "# emotion_firm=[]\n",
    "\n",
    "# for token in tokens:\n",
    "#     firm=token[0]\n",
    "#     sentiment=0\n",
    "#     count=0\n",
    "#     arr=[]\n",
    "#     senti_count=0\n",
    "#     for t in token[1]:\n",
    "#         if t in df_emot.index:\n",
    "#             count+=1\n",
    "#             arr.append(list(df.loc[t]))\n",
    "#             if np.sum(list(df.loc[t]))!=0:\n",
    "#                 senti_count+=1\n",
    "#     emotion_firm.append([firm,np.sum(arr,axis=0),senti_count/count])\n",
    "\n",
    "# emotion_firm[0:10]"
   ]
  },
  {
   "cell_type": "code",
   "execution_count": null,
   "metadata": {},
   "outputs": [],
   "source": [
    "# # 양식에 맞게 수정필요\n",
    "\n",
    "# emotion_result=[]\n",
    "# for firm in emotion_firm:\n",
    "#     emotion_result.append({\"Firm\" : firm[0],\n",
    "#                            \"Positive\": str(\"%0.2f\"%( firm[1][0]/(firm[1][0]+firm[1][1])*100 ))+\"%\",\n",
    "#                             \"Negative\" : str(\"%0.2f\"%( firm[1][1]/(firm[1][0]+firm[1][1])*100 ))+\"%\",\n",
    "#                             \"Anger\" : str(\"%0.2f\"%( firm[1][2]/(firm[1][0]+firm[1][1])*100 ))+\"%\",\n",
    "#                             \"Anticipation\" : str(\"%0.2f\"%( firm[1][3]/(firm[1][0]+firm[1][1])*100 ))+\"%\",\n",
    "#                             \"Disgust\" : str(\"%0.2f\"%( firm[1][4]/(firm[1][0]+firm[1][1])*100 ))+\"%\",\n",
    "#                             \"Fear\" : str(\"%0.2f\"%( firm[1][5]/(firm[1][0]+firm[1][1])*100 ))+\"%\",\n",
    "#                             \"Joy\" : str(\"%0.2f\"%( firm[1][6]/(firm[1][0]+firm[1][1])*100 ))+\"%\",\n",
    "#                             \"Sadness\" : str(\"%0.2f\"%( firm[1][7]/(firm[1][0]+firm[1][1])*100 ))+\"%\",\n",
    "#                             \"Surprise\" : str(\"%0.2f\"%( firm[1][8]/(firm[1][0]+firm[1][1])*100 ))+\"%\",\n",
    "#                             \"Trust\" : str(\"%0.2f\"%( firm[1][9]/(firm[1][0]+firm[1][1])*100 ))+\"%\",\n",
    "#                             \"Sentiwords / non-sentiwords (%)\":str(\"%0.2f\"%(firm[2]*100))+\"%\"}\n",
    "#                           )\n",
    "# emotion_result[0:10]"
   ]
  },
  {
   "cell_type": "code",
   "execution_count": null,
   "metadata": {},
   "outputs": [],
   "source": [
    "# y=[]\n",
    "# for firm in emotion_firm:\n",
    "#     y.append(list(firm[1][2:]))\n",
    "# x=['Positive','Negative','Anger','Anticipation','Disgust','Fear','Joy','Sadness','Suprise','Trust']\n",
    "# z=[]\n",
    "# for firm in emotion_firm:\n",
    "#     z.append(firm[0])"
   ]
  },
  {
   "cell_type": "code",
   "execution_count": null,
   "metadata": {},
   "outputs": [],
   "source": [
    "# from mpl_toolkits.mplot3d import Axes3D\n",
    "\n",
    "# fig=plt.figure()\n",
    "# fig.set_size_inches(20, 20, 20)\n",
    "\n",
    "# ax = fig.add_subplot(111,projection='3d')\n",
    "# for firm in emotion_firm:\n",
    "#     xs=np.arange(8)\n",
    "\n",
    "#     ys=firm[1][2:]\n",
    "#     zs=emotion_firm.index(firm)\n",
    "#     ax.bar(xs,ys,zs,zdir='y',alpha=0.8)\n",
    "\n",
    "# plt.show()"
   ]
  },
  {
   "cell_type": "code",
   "execution_count": null,
   "metadata": {},
   "outputs": [],
   "source": [
    "# E=[]\n",
    "# plt.rcParams[\"figure.figsize\"]=(20,10)\n",
    "# plt.rcParams[\"ytick.labelsize\"]=20\n",
    "# plt.rcParams[\"xtick.labelsize\"]=20\n",
    "# plt.rcParams[\"legend.fontsize\"]=15\n",
    "\n",
    "# for firm in emotion_firm:\n",
    "#     E.append(firm[1][2:])\n",
    "# a=np.transpose(E)\n",
    "# X=np.arange(len(a[0]))\n",
    "# plt.bar(X,a[0],label='Anger')\n",
    "# plt.bar(X,a[1],bottom=a[0],label='Anticipation')\n",
    "# plt.bar(X,a[2],bottom=sum(a[0:2]),label='Disgust')\n",
    "# plt.bar(X,a[3],bottom=sum(a[0:3]),label='Fear')\n",
    "# plt.bar(X,a[4],bottom=sum(a[0:4]),label='Joy')\n",
    "# plt.bar(X,a[5],bottom=sum(a[0:5]),label='Sadness')\n",
    "# plt.bar(X,a[6],bottom=sum(a[0:6]),label='Suprise')\n",
    "# plt.bar(X,a[7],bottom=sum(a[0:7]),label='Trust')\n",
    "\n",
    "# plt.xlabel=\"Firm index\"\n",
    "# plt.legend()\n",
    "# plt.show()"
   ]
  }
 ],
 "metadata": {
  "kernelspec": {
   "display_name": "Python 3.9.13 ('base')",
   "language": "python",
   "name": "python3"
  },
  "language_info": {
   "codemirror_mode": {
    "name": "ipython",
    "version": 3
   },
   "file_extension": ".py",
   "mimetype": "text/x-python",
   "name": "python",
   "nbconvert_exporter": "python",
   "pygments_lexer": "ipython3",
   "version": "3.9.13"
  },
  "orig_nbformat": 4,
  "vscode": {
   "interpreter": {
    "hash": "ad2bdc8ecc057115af97d19610ffacc2b4e99fae6737bb82f5d7fb13d2f2c186"
   }
  }
 },
 "nbformat": 4,
 "nbformat_minor": 2
}
